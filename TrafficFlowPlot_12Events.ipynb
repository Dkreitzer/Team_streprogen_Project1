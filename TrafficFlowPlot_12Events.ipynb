{
 "cells": [
  {
   "cell_type": "code",
   "execution_count": 1,
   "metadata": {},
   "outputs": [],
   "source": [
    "import numpy as np\n",
    "import pandas as pd"
   ]
  },
  {
   "cell_type": "code",
   "execution_count": 2,
   "metadata": {},
   "outputs": [],
   "source": [
    "try:\n",
    "    ls=[EE_df]\n",
    "    del EE_df\n",
    "    del ls\n",
    "except  NameError:\n",
    "     pass\n",
    "\n",
    "EE_df=pd.read_csv(\"./Archived_Data_MNDOT/MPLS_Entry_Exit_Volume_SpecificDates.csv\")"
   ]
  },
  {
   "cell_type": "code",
   "execution_count": 3,
   "metadata": {},
   "outputs": [],
   "source": [
    "# len(EE_df)\n",
    "# set(list(EE_df[\"Sensor\"].values))\n",
    "# EE_df.columns\n",
    "def modi_Twins_Opener(x):\n",
    "    try:\n",
    "        if (x.split()[1]==\"Twins\")and(x.split()[2]==\"Opener\"):\n",
    "            return '2018 Twins Opener'\n",
    "        else:\n",
    "            return x\n",
    "    except:\n",
    "        return x\n",
    "            \n",
    "    \n",
    "EE_df[\"Event Label_2\"]=EE_df[\"Event Label\"].apply(modi_Twins_Opener);\n",
    "EE_df.drop(columns=[\"Event Label\"],inplace=True);\n",
    "EE_df.rename(columns={\"Event Label_2\":\"Event Label\"},inplace=True);\n",
    "\n",
    "#EE_df.set_index([\"Event Label\",\"Sensor\"]);\n",
    "def FromOrTodowntown(x):\n",
    "    return x.split()[-2]\n",
    "def road(x):\n",
    "    a=list(x.split())[0:2]\n",
    "    return ' '.join(a[::-1])\n",
    "\n",
    "EE_df[\"Direction(from/to)\"]=EE_df[\"St Label\"].apply(FromOrTodowntown);\n",
    "EE_df[\"road\"]=EE_df[\"St Label\"].apply(road);\n",
    "\n",
    "EE_df.head();\n",
    "events=list(EE_df[\"Event Label\"].unique());\n",
    "len(events);"
   ]
  },
  {
   "cell_type": "code",
   "execution_count": 4,
   "metadata": {},
   "outputs": [
    {
     "data": {
      "application/vnd.jupyter.widget-view+json": {
       "model_id": "d834664e77d8406b922927fba9793055",
       "version_major": 2,
       "version_minor": 0
      },
      "text/plain": [
       "HBox(children=(Dropdown(description='event', options=('October Wed 2018', 'Vikings Opener', 'Basilica Block Pa…"
      ]
     },
     "metadata": {},
     "output_type": "display_data"
    }
   ],
   "source": [
    "#https://github.com/jupyter-widgets/ipywidgets/issues/1582\n",
    "from IPython.display import display\n",
    "import numpy as np\n",
    "from ipywidgets import *\n",
    "import matplotlib.pyplot as plt\n",
    "\n",
    "def plot_flow(b):\n",
    "    Num_of_event=events.index(b)\n",
    "    aa=EE_df.groupby([\"Event Label\"]).get_group(events[Num_of_event]).sort_values(by=\"road\");\n",
    "    #aa=aa[aa[\"road\"]==\"35W\"]\n",
    "    fig, ax = plt.subplots(figsize=(15,5))\n",
    "    ax.bar(aa[\"Sensor\"],aa[\"Volume\"])\n",
    "    ax.set_xticklabels(aa['road'])\n",
    "    ax.set_ylabel(\"vehicle flow\")\n",
    "    ax.set_title(f\"{events[Num_of_event]}\")\n",
    "\n",
    "w1=dict(b=widgets.Dropdown(options=events,value=events[0],description='event',disabled=False))\n",
    "\n",
    "output = interactive_output(plot_flow, w1)\n",
    "box = HBox([*w1.values(), output])\n",
    "display(box)"
   ]
  },
  {
   "cell_type": "code",
   "execution_count": null,
   "metadata": {},
   "outputs": [],
   "source": []
  }
 ],
 "metadata": {
  "kernelspec": {
   "display_name": "Python [conda env:PythonData]",
   "language": "python",
   "name": "conda-env-PythonData-py"
  },
  "language_info": {
   "codemirror_mode": {
    "name": "ipython",
    "version": 3
   },
   "file_extension": ".py",
   "mimetype": "text/x-python",
   "name": "python",
   "nbconvert_exporter": "python",
   "pygments_lexer": "ipython3",
   "version": "3.6.5"
  }
 },
 "nbformat": 4,
 "nbformat_minor": 2
}

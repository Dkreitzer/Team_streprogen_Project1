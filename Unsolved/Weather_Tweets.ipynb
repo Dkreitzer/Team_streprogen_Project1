{
 "cells": [
  {
   "cell_type": "code",
   "execution_count": 1,
   "metadata": {},
   "outputs": [],
   "source": [
    "# Dependencies\n",
    "import tweepy\n",
    "import json\n",
    "import pprint\n",
    "import time\n",
    "import random\n",
    "import requests\n",
    "import datetime\n",
    "from config import consumer_key, consumer_secret, access_token, access_token_secret\n",
    "from config import weather_key"
   ]
  },
  {
   "cell_type": "code",
   "execution_count": 2,
   "metadata": {},
   "outputs": [],
   "source": [
    "# Twitter API Keys\n",
    "\n",
    "auth = tweepy.OAuthHandler(consumer_key, consumer_secret)\n",
    "auth.set_access_token(access_token, access_token_secret)\n",
    "api = tweepy.API(auth, parser=tweepy.parsers.JSONParser())"
   ]
  },
  {
   "cell_type": "code",
   "execution_count": 3,
   "metadata": {},
   "outputs": [],
   "source": [
    "# Weather API Key\n"
   ]
  },
  {
   "cell_type": "code",
   "execution_count": 4,
   "metadata": {},
   "outputs": [],
   "source": [
    "# Create a function that gets the weather in London and Tweets it\n",
    "def WeatherTweet():\n",
    "\n",
    " \n",
    "    url = \"http://api.openweathermap.org/data/2.5/weather?\"\n",
    "    city = \"Eagan\"\n",
    "    units = \"imperial\"\n",
    "    query_url = url + \"appid=\" + weather_key + \"&q=\" + city + \"&units=\" + units\n",
    "\n",
    "    # Perform the API call to get the weather\n",
    "    response =  requests.get(query_url).json()\n",
    "    weather = \"As of {} it is {} degrees and {} in {}.\".format(datetime.datetime.now().strftime(\"%I:%M %p\"),response['main']['temp'], response['weather'][0]['main'],city)\n",
    "    api.update_status(weather)\n",
    "    print(\"Tweeted!\")"
   ]
  },
  {
   "cell_type": "code",
   "execution_count": null,
   "metadata": {},
   "outputs": [
    {
     "name": "stdout",
     "output_type": "stream",
     "text": [
      "Tweeted!\n",
      "Tweeted!\n"
     ]
    }
   ],
   "source": [
    "# Set timer to run every 1 hour\n",
    "while(True):\n",
    "    WeatherTweet()\n",
    "    time.sleep(3600)"
   ]
  },
  {
   "cell_type": "code",
   "execution_count": null,
   "metadata": {},
   "outputs": [],
   "source": []
  },
  {
   "cell_type": "code",
   "execution_count": null,
   "metadata": {},
   "outputs": [],
   "source": []
  }
 ],
 "metadata": {
  "kernelspec": {
   "display_name": "Python [conda env:PythonData]",
   "language": "python",
   "name": "conda-env-PythonData-py"
  },
  "language_info": {
   "codemirror_mode": {
    "name": "ipython",
    "version": 3
   },
   "file_extension": ".py",
   "mimetype": "text/x-python",
   "name": "python",
   "nbconvert_exporter": "python",
   "pygments_lexer": "ipython3",
   "version": "3.6.5"
  },
  "nteract": {
   "version": "0.8.4"
  }
 },
 "nbformat": 4,
 "nbformat_minor": 2
}

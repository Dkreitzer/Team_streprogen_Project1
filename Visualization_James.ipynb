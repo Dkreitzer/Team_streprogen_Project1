{
 "cells": [
  {
   "cell_type": "code",
   "execution_count": 2,
   "metadata": {},
   "outputs": [],
   "source": [
    "##############\n",
    "#Dependencies#\n",
    "##############\n",
    "%matplotlib notebook\n",
    "import datetime\n",
    "import pandas\n",
    "import numpy as np\n",
    "import folium\n"
   ]
  },
  {
   "cell_type": "code",
   "execution_count": 4,
   "metadata": {},
   "outputs": [
    {
     "data": {
      "text/html": [
       "<div>\n",
       "<style scoped>\n",
       "    .dataframe tbody tr th:only-of-type {\n",
       "        vertical-align: middle;\n",
       "    }\n",
       "\n",
       "    .dataframe tbody tr th {\n",
       "        vertical-align: top;\n",
       "    }\n",
       "\n",
       "    .dataframe thead th {\n",
       "        text-align: right;\n",
       "    }\n",
       "</style>\n",
       "<table border=\"1\" class=\"dataframe\">\n",
       "  <thead>\n",
       "    <tr style=\"text-align: right;\">\n",
       "      <th></th>\n",
       "      <th>Station.1</th>\n",
       "      <th>Time</th>\n",
       "      <th>Occupancy</th>\n",
       "      <th>Speed</th>\n",
       "      <th>Flow</th>\n",
       "    </tr>\n",
       "    <tr>\n",
       "      <th>Station</th>\n",
       "      <th></th>\n",
       "      <th></th>\n",
       "      <th></th>\n",
       "      <th></th>\n",
       "      <th></th>\n",
       "    </tr>\n",
       "  </thead>\n",
       "  <tbody>\n",
       "    <tr>\n",
       "      <th>S567</th>\n",
       "      <td>0.0</td>\n",
       "      <td>Wed Oct 03 01:16:59 CDT 2018</td>\n",
       "      <td>0.31</td>\n",
       "      <td>54</td>\n",
       "      <td>0</td>\n",
       "    </tr>\n",
       "    <tr>\n",
       "      <th>S567</th>\n",
       "      <td>0.0</td>\n",
       "      <td>Wed Oct 03 01:16:59 CDT 2018</td>\n",
       "      <td>0.31</td>\n",
       "      <td>54</td>\n",
       "      <td>0</td>\n",
       "    </tr>\n",
       "    <tr>\n",
       "      <th>S567</th>\n",
       "      <td>0.0</td>\n",
       "      <td>Sun Oct 07 21:21:29 CDT 2018</td>\n",
       "      <td>4.13</td>\n",
       "      <td>63</td>\n",
       "      <td>600</td>\n",
       "    </tr>\n",
       "    <tr>\n",
       "      <th>S583</th>\n",
       "      <td>0.0</td>\n",
       "      <td>Wed Oct 03 01:16:59 CDT 2018</td>\n",
       "      <td>0.24</td>\n",
       "      <td>55</td>\n",
       "      <td>0</td>\n",
       "    </tr>\n",
       "    <tr>\n",
       "      <th>S583</th>\n",
       "      <td>0.0</td>\n",
       "      <td>Wed Oct 03 01:16:59 CDT 2018</td>\n",
       "      <td>0.24</td>\n",
       "      <td>55</td>\n",
       "      <td>0</td>\n",
       "    </tr>\n",
       "  </tbody>\n",
       "</table>\n",
       "</div>"
      ],
      "text/plain": [
       "         Station.1                          Time Occupancy Speed Flow\n",
       "Station                                                              \n",
       "S567           0.0  Wed Oct 03 01:16:59 CDT 2018      0.31    54    0\n",
       "S567           0.0  Wed Oct 03 01:16:59 CDT 2018      0.31    54    0\n",
       "S567           0.0  Sun Oct 07 21:21:29 CDT 2018      4.13    63  600\n",
       "S583           0.0  Wed Oct 03 01:16:59 CDT 2018      0.24    55    0\n",
       "S583           0.0  Wed Oct 03 01:16:59 CDT 2018      0.24    55    0"
      ]
     },
     "execution_count": 4,
     "metadata": {},
     "output_type": "execute_result"
    }
   ],
   "source": [
    "route = ['S567','S583','S568','S582','S569','S570','S581',\n",
    "'S571','S579','S572','S578','S573',\"S577\",\"S587\"]\n",
    "station_df = pandas.read_csv('Data/station_config.csv')\n",
    "route_df= pandas.read_csv('Data/route_summary.csv')\n",
    "station_df = station_df.set_index(\"Station\")\n",
    "route_df = route_df.set_index(\"Station\")\n",
    "route_df= route_df.replace(\"UNKNOWN\",0)\n",
    "route_df= route_df.fillna(0)\n",
    "route_df.head()"
   ]
  },
  {
   "cell_type": "code",
   "execution_count": 16,
   "metadata": {},
   "outputs": [
    {
     "data": {
      "text/plain": [
       "False"
      ]
     },
     "execution_count": 16,
     "metadata": {},
     "output_type": "execute_result"
    },
    {
     "data": {
      "text/plain": [
       "15"
      ]
     },
     "execution_count": 16,
     "metadata": {},
     "output_type": "execute_result"
    },
    {
     "data": {
      "text/plain": [
       "14"
      ]
     },
     "execution_count": 16,
     "metadata": {},
     "output_type": "execute_result"
    },
    {
     "data": {
      "text/plain": [
       "270"
      ]
     },
     "execution_count": 16,
     "metadata": {},
     "output_type": "execute_result"
    },
    {
     "data": {
      "text/plain": [
       "True"
      ]
     },
     "execution_count": 16,
     "metadata": {},
     "output_type": "execute_result"
    },
    {
     "data": {
      "text/plain": [
       "{'S580'}"
      ]
     },
     "execution_count": 16,
     "metadata": {},
     "output_type": "execute_result"
    }
   ],
   "source": [
    "set(list(route_df.index))==set(route)\n",
    "len(set(list(route_df.index)))\n",
    "len(route)\n",
    "len(route_df)\n",
    "set(route).issubset(set(list(route_df.index)))\n",
    "set(list(route_df.index)).difference(set(route))\n"
   ]
  },
  {
   "cell_type": "code",
   "execution_count": 23,
   "metadata": {},
   "outputs": [
    {
     "data": {
      "text/html": [
       "<div>\n",
       "<style scoped>\n",
       "    .dataframe tbody tr th:only-of-type {\n",
       "        vertical-align: middle;\n",
       "    }\n",
       "\n",
       "    .dataframe tbody tr th {\n",
       "        vertical-align: top;\n",
       "    }\n",
       "\n",
       "    .dataframe thead th {\n",
       "        text-align: right;\n",
       "    }\n",
       "</style>\n",
       "<table border=\"1\" class=\"dataframe\">\n",
       "  <thead>\n",
       "    <tr style=\"text-align: right;\">\n",
       "      <th></th>\n",
       "      <th>Unnamed: 0</th>\n",
       "      <th>Lat</th>\n",
       "      <th>Lng</th>\n",
       "    </tr>\n",
       "    <tr>\n",
       "      <th>Station</th>\n",
       "      <th></th>\n",
       "      <th></th>\n",
       "      <th></th>\n",
       "    </tr>\n",
       "  </thead>\n",
       "  <tbody>\n",
       "    <tr>\n",
       "      <th>no ID</th>\n",
       "      <td>0</td>\n",
       "      <td>44.00701</td>\n",
       "      <td>-92.48221</td>\n",
       "    </tr>\n",
       "    <tr>\n",
       "      <th>no ID</th>\n",
       "      <td>1</td>\n",
       "      <td>45.60591</td>\n",
       "      <td>-94.48746</td>\n",
       "    </tr>\n",
       "    <tr>\n",
       "      <th>no ID</th>\n",
       "      <td>2</td>\n",
       "      <td>45.60418</td>\n",
       "      <td>-94.48424</td>\n",
       "    </tr>\n",
       "    <tr>\n",
       "      <th>no ID</th>\n",
       "      <td>3</td>\n",
       "      <td>45.60406</td>\n",
       "      <td>-94.48413</td>\n",
       "    </tr>\n",
       "    <tr>\n",
       "      <th>no ID</th>\n",
       "      <td>4</td>\n",
       "      <td>45.60404</td>\n",
       "      <td>-94.48405</td>\n",
       "    </tr>\n",
       "  </tbody>\n",
       "</table>\n",
       "</div>"
      ],
      "text/plain": [
       "         Unnamed: 0       Lat       Lng\n",
       "Station                                \n",
       "no ID             0  44.00701 -92.48221\n",
       "no ID             1  45.60591 -94.48746\n",
       "no ID             2  45.60418 -94.48424\n",
       "no ID             3  45.60406 -94.48413\n",
       "no ID             4  45.60404 -94.48405"
      ]
     },
     "execution_count": 23,
     "metadata": {},
     "output_type": "execute_result"
    },
    {
     "data": {
      "text/plain": [
       "12616"
      ]
     },
     "execution_count": 23,
     "metadata": {},
     "output_type": "execute_result"
    },
    {
     "data": {
      "text/html": [
       "<div>\n",
       "<style scoped>\n",
       "    .dataframe tbody tr th:only-of-type {\n",
       "        vertical-align: middle;\n",
       "    }\n",
       "\n",
       "    .dataframe tbody tr th {\n",
       "        vertical-align: top;\n",
       "    }\n",
       "\n",
       "    .dataframe thead th {\n",
       "        text-align: right;\n",
       "    }\n",
       "</style>\n",
       "<table border=\"1\" class=\"dataframe\">\n",
       "  <thead>\n",
       "    <tr style=\"text-align: right;\">\n",
       "      <th></th>\n",
       "      <th>Unnamed: 0</th>\n",
       "      <th>Lat</th>\n",
       "      <th>Lng</th>\n",
       "    </tr>\n",
       "    <tr>\n",
       "      <th>Station</th>\n",
       "      <th></th>\n",
       "      <th></th>\n",
       "      <th></th>\n",
       "    </tr>\n",
       "  </thead>\n",
       "  <tbody>\n",
       "    <tr>\n",
       "      <th>S567</th>\n",
       "      <td>1907</td>\n",
       "      <td>44.97447</td>\n",
       "      <td>-93.24870</td>\n",
       "    </tr>\n",
       "    <tr>\n",
       "      <th>S583</th>\n",
       "      <td>2135</td>\n",
       "      <td>44.98175</td>\n",
       "      <td>-93.24397</td>\n",
       "    </tr>\n",
       "    <tr>\n",
       "      <th>S568</th>\n",
       "      <td>1912</td>\n",
       "      <td>44.98399</td>\n",
       "      <td>-93.24197</td>\n",
       "    </tr>\n",
       "    <tr>\n",
       "      <th>S582</th>\n",
       "      <td>2128</td>\n",
       "      <td>44.99115</td>\n",
       "      <td>-93.23659</td>\n",
       "    </tr>\n",
       "    <tr>\n",
       "      <th>S569</th>\n",
       "      <td>1919</td>\n",
       "      <td>44.99116</td>\n",
       "      <td>-93.23629</td>\n",
       "    </tr>\n",
       "    <tr>\n",
       "      <th>S570</th>\n",
       "      <td>1923</td>\n",
       "      <td>44.99644</td>\n",
       "      <td>-93.23823</td>\n",
       "    </tr>\n",
       "    <tr>\n",
       "      <th>S581</th>\n",
       "      <td>2125</td>\n",
       "      <td>44.99646</td>\n",
       "      <td>-93.23853</td>\n",
       "    </tr>\n",
       "    <tr>\n",
       "      <th>S571</th>\n",
       "      <td>1926</td>\n",
       "      <td>45.00199</td>\n",
       "      <td>-93.23465</td>\n",
       "    </tr>\n",
       "    <tr>\n",
       "      <th>S579</th>\n",
       "      <td>2116</td>\n",
       "      <td>45.00091</td>\n",
       "      <td>-93.22346</td>\n",
       "    </tr>\n",
       "    <tr>\n",
       "      <th>S572</th>\n",
       "      <td>1931</td>\n",
       "      <td>45.00070</td>\n",
       "      <td>-93.22349</td>\n",
       "    </tr>\n",
       "    <tr>\n",
       "      <th>S578</th>\n",
       "      <td>2112</td>\n",
       "      <td>45.00302</td>\n",
       "      <td>-93.21487</td>\n",
       "    </tr>\n",
       "    <tr>\n",
       "      <th>S573</th>\n",
       "      <td>1935</td>\n",
       "      <td>45.00515</td>\n",
       "      <td>-93.20947</td>\n",
       "    </tr>\n",
       "    <tr>\n",
       "      <th>S577</th>\n",
       "      <td>2108</td>\n",
       "      <td>45.01014</td>\n",
       "      <td>-93.20040</td>\n",
       "    </tr>\n",
       "    <tr>\n",
       "      <th>S587</th>\n",
       "      <td>8969</td>\n",
       "      <td>45.00891</td>\n",
       "      <td>-93.20233</td>\n",
       "    </tr>\n",
       "  </tbody>\n",
       "</table>\n",
       "</div>"
      ],
      "text/plain": [
       "         Unnamed: 0       Lat       Lng\n",
       "Station                                \n",
       "S567           1907  44.97447 -93.24870\n",
       "S583           2135  44.98175 -93.24397\n",
       "S568           1912  44.98399 -93.24197\n",
       "S582           2128  44.99115 -93.23659\n",
       "S569           1919  44.99116 -93.23629\n",
       "S570           1923  44.99644 -93.23823\n",
       "S581           2125  44.99646 -93.23853\n",
       "S571           1926  45.00199 -93.23465\n",
       "S579           2116  45.00091 -93.22346\n",
       "S572           1931  45.00070 -93.22349\n",
       "S578           2112  45.00302 -93.21487\n",
       "S573           1935  45.00515 -93.20947\n",
       "S577           2108  45.01014 -93.20040\n",
       "S587           8969  45.00891 -93.20233"
      ]
     },
     "execution_count": 23,
     "metadata": {},
     "output_type": "execute_result"
    }
   ],
   "source": [
    "station_df.head()\n",
    "len(station_df)\n",
    "#set(list(station_df.index))\n",
    "station_df.loc[route ,:]"
   ]
  },
  {
   "cell_type": "code",
   "execution_count": 25,
   "metadata": {},
   "outputs": [],
   "source": [
    "\n",
    "Results = {}\n",
    "\n",
    "\n",
    "locations = []\n",
    "\n",
    "for station in route:\n",
    "        Occupancy =  float(route_df.loc[station,'Occupancy'].tail(1)[0])\n",
    "        Speed = int(route_df.loc[station,'Speed'].tail(1)[0])\n",
    "#         print(station)\n",
    "#         print(route_df.loc[station,'Occupancy'])\n",
    "#         print(route_df.loc[station,'Occupancy'].tail(1))\n",
    "#         break\n",
    "\n",
    "        Max_Occupancy = route_df.loc[station,'Occupancy'].astype(dtype=\"float\")\n",
    "        Max_Occupancy = max(Max_Occupancy.values)\n",
    "        Max_Speed = route_df.loc[station,'Speed'].astype(dtype=\"int\")\n",
    "        Max_Speed = max(Max_Speed.values)\n",
    "        \n",
    "        lat, lon = station_df.loc[station, ['Lat', 'Lng']]\n",
    "        locations.append((lat, lon))\n",
    "        #print(lat, lon)\n",
    "        #break\n",
    "        Results[station] = {\n",
    "            \"Current Speed\" : Speed,\n",
    "            \"Current Occupancy\" : Occupancy,\n",
    "            \"Max Speed\" : Max_Speed,\n",
    "            \"Max Occupancy\" : Max_Occupancy,\n",
    "            \"% of Max Speed\" : round(Speed / Max_Speed * 100, 2),\n",
    "            \"% of Max Occupancy\" : round(Occupancy / Max_Occupancy * 100, 2) ,\n",
    "            \"Lat\":lat, \n",
    "            \"Lon\":lon}"
   ]
  },
  {
   "cell_type": "code",
   "execution_count": 26,
   "metadata": {},
   "outputs": [
    {
     "data": {
      "text/html": [
       "<div>\n",
       "<style scoped>\n",
       "    .dataframe tbody tr th:only-of-type {\n",
       "        vertical-align: middle;\n",
       "    }\n",
       "\n",
       "    .dataframe tbody tr th {\n",
       "        vertical-align: top;\n",
       "    }\n",
       "\n",
       "    .dataframe thead th {\n",
       "        text-align: right;\n",
       "    }\n",
       "</style>\n",
       "<table border=\"1\" class=\"dataframe\">\n",
       "  <thead>\n",
       "    <tr style=\"text-align: right;\">\n",
       "      <th></th>\n",
       "      <th>% of Max Occupancy</th>\n",
       "      <th>% of Max Speed</th>\n",
       "      <th>Current Occupancy</th>\n",
       "      <th>Current Speed</th>\n",
       "      <th>Lat</th>\n",
       "      <th>Lon</th>\n",
       "      <th>Max Occupancy</th>\n",
       "      <th>Max Speed</th>\n",
       "    </tr>\n",
       "  </thead>\n",
       "  <tbody>\n",
       "    <tr>\n",
       "      <th>S567</th>\n",
       "      <td>88.38</td>\n",
       "      <td>100.00</td>\n",
       "      <td>3.65</td>\n",
       "      <td>63.0</td>\n",
       "      <td>44.97447</td>\n",
       "      <td>-93.24870</td>\n",
       "      <td>4.13</td>\n",
       "      <td>63.0</td>\n",
       "    </tr>\n",
       "    <tr>\n",
       "      <th>S583</th>\n",
       "      <td>56.26</td>\n",
       "      <td>96.72</td>\n",
       "      <td>2.65</td>\n",
       "      <td>59.0</td>\n",
       "      <td>44.98175</td>\n",
       "      <td>-93.24397</td>\n",
       "      <td>4.71</td>\n",
       "      <td>61.0</td>\n",
       "    </tr>\n",
       "    <tr>\n",
       "      <th>S568</th>\n",
       "      <td>57.39</td>\n",
       "      <td>69.81</td>\n",
       "      <td>2.33</td>\n",
       "      <td>37.0</td>\n",
       "      <td>44.98399</td>\n",
       "      <td>-93.24197</td>\n",
       "      <td>4.06</td>\n",
       "      <td>53.0</td>\n",
       "    </tr>\n",
       "    <tr>\n",
       "      <th>S582</th>\n",
       "      <td>100.00</td>\n",
       "      <td>73.56</td>\n",
       "      <td>5.85</td>\n",
       "      <td>64.0</td>\n",
       "      <td>44.99115</td>\n",
       "      <td>-93.23659</td>\n",
       "      <td>5.85</td>\n",
       "      <td>87.0</td>\n",
       "    </tr>\n",
       "    <tr>\n",
       "      <th>S569</th>\n",
       "      <td>37.62</td>\n",
       "      <td>96.74</td>\n",
       "      <td>1.61</td>\n",
       "      <td>89.0</td>\n",
       "      <td>44.99116</td>\n",
       "      <td>-93.23629</td>\n",
       "      <td>4.28</td>\n",
       "      <td>92.0</td>\n",
       "    </tr>\n",
       "  </tbody>\n",
       "</table>\n",
       "</div>"
      ],
      "text/plain": [
       "      % of Max Occupancy  % of Max Speed  Current Occupancy  Current Speed  \\\n",
       "S567               88.38          100.00               3.65           63.0   \n",
       "S583               56.26           96.72               2.65           59.0   \n",
       "S568               57.39           69.81               2.33           37.0   \n",
       "S582              100.00           73.56               5.85           64.0   \n",
       "S569               37.62           96.74               1.61           89.0   \n",
       "\n",
       "           Lat       Lon  Max Occupancy  Max Speed  \n",
       "S567  44.97447 -93.24870           4.13       63.0  \n",
       "S583  44.98175 -93.24397           4.71       61.0  \n",
       "S568  44.98399 -93.24197           4.06       53.0  \n",
       "S582  44.99115 -93.23659           5.85       87.0  \n",
       "S569  44.99116 -93.23629           4.28       92.0  "
      ]
     },
     "execution_count": 26,
     "metadata": {},
     "output_type": "execute_result"
    },
    {
     "data": {
      "text/html": [
       "<div>\n",
       "<style scoped>\n",
       "    .dataframe tbody tr th:only-of-type {\n",
       "        vertical-align: middle;\n",
       "    }\n",
       "\n",
       "    .dataframe tbody tr th {\n",
       "        vertical-align: top;\n",
       "    }\n",
       "\n",
       "    .dataframe thead th {\n",
       "        text-align: right;\n",
       "    }\n",
       "</style>\n",
       "<table border=\"1\" class=\"dataframe\">\n",
       "  <thead>\n",
       "    <tr style=\"text-align: right;\">\n",
       "      <th></th>\n",
       "      <th>% of Max Occupancy</th>\n",
       "      <th>% of Max Speed</th>\n",
       "      <th>Current Occupancy</th>\n",
       "      <th>Current Speed</th>\n",
       "      <th>Lat</th>\n",
       "      <th>Lon</th>\n",
       "      <th>Max Occupancy</th>\n",
       "      <th>Max Speed</th>\n",
       "    </tr>\n",
       "  </thead>\n",
       "  <tbody>\n",
       "    <tr>\n",
       "      <th>S567</th>\n",
       "      <td>88.38</td>\n",
       "      <td>100.00</td>\n",
       "      <td>3.65</td>\n",
       "      <td>63.0</td>\n",
       "      <td>44.97447</td>\n",
       "      <td>-93.24870</td>\n",
       "      <td>4.13</td>\n",
       "      <td>63.0</td>\n",
       "    </tr>\n",
       "    <tr>\n",
       "      <th>S583</th>\n",
       "      <td>56.26</td>\n",
       "      <td>96.72</td>\n",
       "      <td>2.65</td>\n",
       "      <td>59.0</td>\n",
       "      <td>44.98175</td>\n",
       "      <td>-93.24397</td>\n",
       "      <td>4.71</td>\n",
       "      <td>61.0</td>\n",
       "    </tr>\n",
       "    <tr>\n",
       "      <th>S568</th>\n",
       "      <td>57.39</td>\n",
       "      <td>69.81</td>\n",
       "      <td>2.33</td>\n",
       "      <td>37.0</td>\n",
       "      <td>44.98399</td>\n",
       "      <td>-93.24197</td>\n",
       "      <td>4.06</td>\n",
       "      <td>53.0</td>\n",
       "    </tr>\n",
       "    <tr>\n",
       "      <th>S582</th>\n",
       "      <td>100.00</td>\n",
       "      <td>73.56</td>\n",
       "      <td>5.85</td>\n",
       "      <td>64.0</td>\n",
       "      <td>44.99115</td>\n",
       "      <td>-93.23659</td>\n",
       "      <td>5.85</td>\n",
       "      <td>87.0</td>\n",
       "    </tr>\n",
       "    <tr>\n",
       "      <th>S569</th>\n",
       "      <td>37.62</td>\n",
       "      <td>96.74</td>\n",
       "      <td>1.61</td>\n",
       "      <td>89.0</td>\n",
       "      <td>44.99116</td>\n",
       "      <td>-93.23629</td>\n",
       "      <td>4.28</td>\n",
       "      <td>92.0</td>\n",
       "    </tr>\n",
       "    <tr>\n",
       "      <th>S570</th>\n",
       "      <td>100.00</td>\n",
       "      <td>85.54</td>\n",
       "      <td>3.87</td>\n",
       "      <td>71.0</td>\n",
       "      <td>44.99644</td>\n",
       "      <td>-93.23823</td>\n",
       "      <td>3.87</td>\n",
       "      <td>83.0</td>\n",
       "    </tr>\n",
       "    <tr>\n",
       "      <th>S581</th>\n",
       "      <td>30.26</td>\n",
       "      <td>86.84</td>\n",
       "      <td>1.54</td>\n",
       "      <td>66.0</td>\n",
       "      <td>44.99646</td>\n",
       "      <td>-93.23853</td>\n",
       "      <td>5.09</td>\n",
       "      <td>76.0</td>\n",
       "    </tr>\n",
       "    <tr>\n",
       "      <th>S571</th>\n",
       "      <td>68.12</td>\n",
       "      <td>93.33</td>\n",
       "      <td>5.17</td>\n",
       "      <td>56.0</td>\n",
       "      <td>45.00199</td>\n",
       "      <td>-93.23465</td>\n",
       "      <td>7.59</td>\n",
       "      <td>60.0</td>\n",
       "    </tr>\n",
       "    <tr>\n",
       "      <th>S579</th>\n",
       "      <td>56.10</td>\n",
       "      <td>100.00</td>\n",
       "      <td>2.07</td>\n",
       "      <td>66.0</td>\n",
       "      <td>45.00091</td>\n",
       "      <td>-93.22346</td>\n",
       "      <td>3.69</td>\n",
       "      <td>66.0</td>\n",
       "    </tr>\n",
       "    <tr>\n",
       "      <th>S572</th>\n",
       "      <td>100.00</td>\n",
       "      <td>91.18</td>\n",
       "      <td>3.59</td>\n",
       "      <td>62.0</td>\n",
       "      <td>45.00070</td>\n",
       "      <td>-93.22349</td>\n",
       "      <td>3.59</td>\n",
       "      <td>68.0</td>\n",
       "    </tr>\n",
       "    <tr>\n",
       "      <th>S578</th>\n",
       "      <td>97.49</td>\n",
       "      <td>96.61</td>\n",
       "      <td>3.11</td>\n",
       "      <td>57.0</td>\n",
       "      <td>45.00302</td>\n",
       "      <td>-93.21487</td>\n",
       "      <td>3.19</td>\n",
       "      <td>59.0</td>\n",
       "    </tr>\n",
       "    <tr>\n",
       "      <th>S573</th>\n",
       "      <td>78.79</td>\n",
       "      <td>70.09</td>\n",
       "      <td>2.08</td>\n",
       "      <td>82.0</td>\n",
       "      <td>45.00515</td>\n",
       "      <td>-93.20947</td>\n",
       "      <td>2.64</td>\n",
       "      <td>117.0</td>\n",
       "    </tr>\n",
       "    <tr>\n",
       "      <th>S577</th>\n",
       "      <td>92.06</td>\n",
       "      <td>98.51</td>\n",
       "      <td>3.48</td>\n",
       "      <td>66.0</td>\n",
       "      <td>45.01014</td>\n",
       "      <td>-93.20040</td>\n",
       "      <td>3.78</td>\n",
       "      <td>67.0</td>\n",
       "    </tr>\n",
       "    <tr>\n",
       "      <th>S587</th>\n",
       "      <td>31.09</td>\n",
       "      <td>100.00</td>\n",
       "      <td>0.83</td>\n",
       "      <td>56.0</td>\n",
       "      <td>45.00891</td>\n",
       "      <td>-93.20233</td>\n",
       "      <td>2.67</td>\n",
       "      <td>56.0</td>\n",
       "    </tr>\n",
       "  </tbody>\n",
       "</table>\n",
       "</div>"
      ],
      "text/plain": [
       "      % of Max Occupancy  % of Max Speed  Current Occupancy  Current Speed  \\\n",
       "S567               88.38          100.00               3.65           63.0   \n",
       "S583               56.26           96.72               2.65           59.0   \n",
       "S568               57.39           69.81               2.33           37.0   \n",
       "S582              100.00           73.56               5.85           64.0   \n",
       "S569               37.62           96.74               1.61           89.0   \n",
       "S570              100.00           85.54               3.87           71.0   \n",
       "S581               30.26           86.84               1.54           66.0   \n",
       "S571               68.12           93.33               5.17           56.0   \n",
       "S579               56.10          100.00               2.07           66.0   \n",
       "S572              100.00           91.18               3.59           62.0   \n",
       "S578               97.49           96.61               3.11           57.0   \n",
       "S573               78.79           70.09               2.08           82.0   \n",
       "S577               92.06           98.51               3.48           66.0   \n",
       "S587               31.09          100.00               0.83           56.0   \n",
       "\n",
       "           Lat       Lon  Max Occupancy  Max Speed  \n",
       "S567  44.97447 -93.24870           4.13       63.0  \n",
       "S583  44.98175 -93.24397           4.71       61.0  \n",
       "S568  44.98399 -93.24197           4.06       53.0  \n",
       "S582  44.99115 -93.23659           5.85       87.0  \n",
       "S569  44.99116 -93.23629           4.28       92.0  \n",
       "S570  44.99644 -93.23823           3.87       83.0  \n",
       "S581  44.99646 -93.23853           5.09       76.0  \n",
       "S571  45.00199 -93.23465           7.59       60.0  \n",
       "S579  45.00091 -93.22346           3.69       66.0  \n",
       "S572  45.00070 -93.22349           3.59       68.0  \n",
       "S578  45.00302 -93.21487           3.19       59.0  \n",
       "S573  45.00515 -93.20947           2.64      117.0  \n",
       "S577  45.01014 -93.20040           3.78       67.0  \n",
       "S587  45.00891 -93.20233           2.67       56.0  "
      ]
     },
     "execution_count": 26,
     "metadata": {},
     "output_type": "execute_result"
    }
   ],
   "source": [
    "Results = pandas.DataFrame(Results).T\n",
    "Results.head()\n",
    "Results"
   ]
  },
  {
   "cell_type": "code",
   "execution_count": 50,
   "metadata": {},
   "outputs": [
    {
     "data": {
      "text/plain": [
       "% of Max Occupancy    float64\n",
       "% of Max Speed        float64\n",
       "Current Occupancy     float64\n",
       "Current Speed         float64\n",
       "Lat                   float64\n",
       "Lon                   float64\n",
       "Max Occupancy         float64\n",
       "Max Speed             float64\n",
       "dtype: object"
      ]
     },
     "execution_count": 50,
     "metadata": {},
     "output_type": "execute_result"
    }
   ],
   "source": [
    "Results.dtypes\n"
   ]
  },
  {
   "cell_type": "code",
   "execution_count": 27,
   "metadata": {},
   "outputs": [
    {
     "data": {
      "text/plain": [
       "<folium.vector_layers.CircleMarker at 0x11776d208>"
      ]
     },
     "execution_count": 27,
     "metadata": {},
     "output_type": "execute_result"
    },
    {
     "data": {
      "text/plain": [
       "<folium.vector_layers.CircleMarker at 0x11776de80>"
      ]
     },
     "execution_count": 27,
     "metadata": {},
     "output_type": "execute_result"
    },
    {
     "data": {
      "text/plain": [
       "<folium.vector_layers.CircleMarker at 0x11776da58>"
      ]
     },
     "execution_count": 27,
     "metadata": {},
     "output_type": "execute_result"
    },
    {
     "data": {
      "text/plain": [
       "<folium.vector_layers.CircleMarker at 0x11776dcf8>"
      ]
     },
     "execution_count": 27,
     "metadata": {},
     "output_type": "execute_result"
    },
    {
     "data": {
      "text/plain": [
       "<folium.vector_layers.CircleMarker at 0x11776dc18>"
      ]
     },
     "execution_count": 27,
     "metadata": {},
     "output_type": "execute_result"
    },
    {
     "data": {
      "text/plain": [
       "<folium.vector_layers.CircleMarker at 0x1178eada0>"
      ]
     },
     "execution_count": 27,
     "metadata": {},
     "output_type": "execute_result"
    },
    {
     "data": {
      "text/plain": [
       "<folium.vector_layers.CircleMarker at 0x1178eafd0>"
      ]
     },
     "execution_count": 27,
     "metadata": {},
     "output_type": "execute_result"
    },
    {
     "data": {
      "text/plain": [
       "<folium.vector_layers.CircleMarker at 0x11776d940>"
      ]
     },
     "execution_count": 27,
     "metadata": {},
     "output_type": "execute_result"
    },
    {
     "data": {
      "text/plain": [
       "<folium.vector_layers.CircleMarker at 0x1178eacc0>"
      ]
     },
     "execution_count": 27,
     "metadata": {},
     "output_type": "execute_result"
    },
    {
     "data": {
      "text/plain": [
       "<folium.vector_layers.CircleMarker at 0x1178ead30>"
      ]
     },
     "execution_count": 27,
     "metadata": {},
     "output_type": "execute_result"
    },
    {
     "data": {
      "text/plain": [
       "<folium.vector_layers.CircleMarker at 0x1178ea7f0>"
      ]
     },
     "execution_count": 27,
     "metadata": {},
     "output_type": "execute_result"
    },
    {
     "data": {
      "text/plain": [
       "<folium.vector_layers.CircleMarker at 0x1178ea198>"
      ]
     },
     "execution_count": 27,
     "metadata": {},
     "output_type": "execute_result"
    },
    {
     "data": {
      "text/plain": [
       "<folium.vector_layers.CircleMarker at 0x1178ea828>"
      ]
     },
     "execution_count": 27,
     "metadata": {},
     "output_type": "execute_result"
    },
    {
     "data": {
      "text/plain": [
       "<folium.vector_layers.CircleMarker at 0x1178ea0f0>"
      ]
     },
     "execution_count": 27,
     "metadata": {},
     "output_type": "execute_result"
    }
   ],
   "source": [
    "folium_map = folium.Map(locations[5],\n",
    "                        zoom_start=13,\n",
    "                        tiles=\"CartoDB positron\")\n",
    "for index, row in Results.iterrows():\n",
    "\n",
    "    \n",
    "    folium.CircleMarker(location=(row[\"Lat\"],\n",
    "                                  row[\"Lon\"]),\n",
    "                        radius=1,\n",
    "                        \n",
    "                        fill=True).add_to(folium_map)"
   ]
  },
  {
   "cell_type": "code",
   "execution_count": 7,
   "metadata": {},
   "outputs": [],
   "source": [
    "Features = []\n",
    "Last_Sensor = []\n",
    "for index, row in Results.iterrows():\n",
    "    Current_Sensor = (row['Lat'], row['Lon'])\n",
    "    if Last_Sensor == [] :\n",
    "        Last_Sensor = (row['Lat'], row['Lon'])\n",
    "    else:\n",
    "    \n",
    "        folium.PolyLine([Current_Sensor,Last_Sensor],\n",
    "         weight=row['Current Occupancy'] * 2.5,\n",
    "                        popup=f\"Speed:{row['Current Speed']} Occupancy: {row['Current Occupancy']}\").add_to(folium_map)\n",
    "\n",
    "        Last_Sensor = (row['Lat'], row['Lon'])\n",
    "\n",
    "\n",
    "\n"
   ]
  },
  {
   "cell_type": "code",
   "execution_count": 28,
   "metadata": {},
   "outputs": [
    {
     "data": {
      "text/html": [
       "<div style=\"width:100%;\"><div style=\"position:relative;width:100%;height:0;padding-bottom:60%;\"><iframe src=\"data:text/html;charset=utf-8;base64,PCFET0NUWVBFIGh0bWw+CjxoZWFkPiAgICAKICAgIDxtZXRhIGh0dHAtZXF1aXY9ImNvbnRlbnQtdHlwZSIgY29udGVudD0idGV4dC9odG1sOyBjaGFyc2V0PVVURi04IiAvPgogICAgPHNjcmlwdD5MX1BSRUZFUl9DQU5WQVM9ZmFsc2U7IExfTk9fVE9VQ0g9ZmFsc2U7IExfRElTQUJMRV8zRD1mYWxzZTs8L3NjcmlwdD4KICAgIDxzY3JpcHQgc3JjPSJodHRwczovL2Nkbi5qc2RlbGl2ci5uZXQvbnBtL2xlYWZsZXRAMS4yLjAvZGlzdC9sZWFmbGV0LmpzIj48L3NjcmlwdD4KICAgIDxzY3JpcHQgc3JjPSJodHRwczovL2FqYXguZ29vZ2xlYXBpcy5jb20vYWpheC9saWJzL2pxdWVyeS8xLjExLjEvanF1ZXJ5Lm1pbi5qcyI+PC9zY3JpcHQ+CiAgICA8c2NyaXB0IHNyYz0iaHR0cHM6Ly9tYXhjZG4uYm9vdHN0cmFwY2RuLmNvbS9ib290c3RyYXAvMy4yLjAvanMvYm9vdHN0cmFwLm1pbi5qcyI+PC9zY3JpcHQ+CiAgICA8c2NyaXB0IHNyYz0iaHR0cHM6Ly9jZG5qcy5jbG91ZGZsYXJlLmNvbS9hamF4L2xpYnMvTGVhZmxldC5hd2Vzb21lLW1hcmtlcnMvMi4wLjIvbGVhZmxldC5hd2Vzb21lLW1hcmtlcnMuanMiPjwvc2NyaXB0PgogICAgPGxpbmsgcmVsPSJzdHlsZXNoZWV0IiBocmVmPSJodHRwczovL2Nkbi5qc2RlbGl2ci5uZXQvbnBtL2xlYWZsZXRAMS4yLjAvZGlzdC9sZWFmbGV0LmNzcyIvPgogICAgPGxpbmsgcmVsPSJzdHlsZXNoZWV0IiBocmVmPSJodHRwczovL21heGNkbi5ib290c3RyYXBjZG4uY29tL2Jvb3RzdHJhcC8zLjIuMC9jc3MvYm9vdHN0cmFwLm1pbi5jc3MiLz4KICAgIDxsaW5rIHJlbD0ic3R5bGVzaGVldCIgaHJlZj0iaHR0cHM6Ly9tYXhjZG4uYm9vdHN0cmFwY2RuLmNvbS9ib290c3RyYXAvMy4yLjAvY3NzL2Jvb3RzdHJhcC10aGVtZS5taW4uY3NzIi8+CiAgICA8bGluayByZWw9InN0eWxlc2hlZXQiIGhyZWY9Imh0dHBzOi8vbWF4Y2RuLmJvb3RzdHJhcGNkbi5jb20vZm9udC1hd2Vzb21lLzQuNi4zL2Nzcy9mb250LWF3ZXNvbWUubWluLmNzcyIvPgogICAgPGxpbmsgcmVsPSJzdHlsZXNoZWV0IiBocmVmPSJodHRwczovL2NkbmpzLmNsb3VkZmxhcmUuY29tL2FqYXgvbGlicy9MZWFmbGV0LmF3ZXNvbWUtbWFya2Vycy8yLjAuMi9sZWFmbGV0LmF3ZXNvbWUtbWFya2Vycy5jc3MiLz4KICAgIDxsaW5rIHJlbD0ic3R5bGVzaGVldCIgaHJlZj0iaHR0cHM6Ly9yYXdnaXQuY29tL3B5dGhvbi12aXN1YWxpemF0aW9uL2ZvbGl1bS9tYXN0ZXIvZm9saXVtL3RlbXBsYXRlcy9sZWFmbGV0LmF3ZXNvbWUucm90YXRlLmNzcyIvPgogICAgPHN0eWxlPmh0bWwsIGJvZHkge3dpZHRoOiAxMDAlO2hlaWdodDogMTAwJTttYXJnaW46IDA7cGFkZGluZzogMDt9PC9zdHlsZT4KICAgIDxzdHlsZT4jbWFwIHtwb3NpdGlvbjphYnNvbHV0ZTt0b3A6MDtib3R0b206MDtyaWdodDowO2xlZnQ6MDt9PC9zdHlsZT4KICAgIAogICAgPHN0eWxlPiNtYXBfNTI0YzBiNTc1MWU4NDUxMzg3MGYyYzNlMjVjZjE2ZmMgewogICAgICAgIHBvc2l0aW9uOiByZWxhdGl2ZTsKICAgICAgICB3aWR0aDogMTAwLjAlOwogICAgICAgIGhlaWdodDogMTAwLjAlOwogICAgICAgIGxlZnQ6IDAuMCU7CiAgICAgICAgdG9wOiAwLjAlOwogICAgICAgIH0KICAgIDwvc3R5bGU+CjwvaGVhZD4KPGJvZHk+ICAgIAogICAgCiAgICA8ZGl2IGNsYXNzPSJmb2xpdW0tbWFwIiBpZD0ibWFwXzUyNGMwYjU3NTFlODQ1MTM4NzBmMmMzZTI1Y2YxNmZjIiA+PC9kaXY+CjwvYm9keT4KPHNjcmlwdD4gICAgCiAgICAKICAgIAogICAgICAgIHZhciBib3VuZHMgPSBudWxsOwogICAgCgogICAgdmFyIG1hcF81MjRjMGI1NzUxZTg0NTEzODcwZjJjM2UyNWNmMTZmYyA9IEwubWFwKAogICAgICAgICdtYXBfNTI0YzBiNTc1MWU4NDUxMzg3MGYyYzNlMjVjZjE2ZmMnLCB7CiAgICAgICAgY2VudGVyOiBbNDQuOTk2NDQsIC05My4yMzgyM10sCiAgICAgICAgem9vbTogMTMsCiAgICAgICAgbWF4Qm91bmRzOiBib3VuZHMsCiAgICAgICAgbGF5ZXJzOiBbXSwKICAgICAgICB3b3JsZENvcHlKdW1wOiBmYWxzZSwKICAgICAgICBjcnM6IEwuQ1JTLkVQU0czODU3LAogICAgICAgIHpvb21Db250cm9sOiB0cnVlLAogICAgICAgIH0pOwoKICAgIAogICAgCiAgICB2YXIgdGlsZV9sYXllcl9jOTRjNjkyNDFkZWU0NTg3YmRkMjgzY2ZiNWJkYTE0MCA9IEwudGlsZUxheWVyKAogICAgICAgICdodHRwczovL2NhcnRvZGItYmFzZW1hcHMte3N9Lmdsb2JhbC5zc2wuZmFzdGx5Lm5ldC9saWdodF9hbGwve3p9L3t4fS97eX0ucG5nJywKICAgICAgICB7CiAgICAgICAgImF0dHJpYnV0aW9uIjogbnVsbCwKICAgICAgICAiZGV0ZWN0UmV0aW5hIjogZmFsc2UsCiAgICAgICAgIm1heE5hdGl2ZVpvb20iOiAxOCwKICAgICAgICAibWF4Wm9vbSI6IDE4LAogICAgICAgICJtaW5ab29tIjogMCwKICAgICAgICAibm9XcmFwIjogZmFsc2UsCiAgICAgICAgInN1YmRvbWFpbnMiOiAiYWJjIgp9KS5hZGRUbyhtYXBfNTI0YzBiNTc1MWU4NDUxMzg3MGYyYzNlMjVjZjE2ZmMpOwogICAgCiAgICAgICAgICAgIHZhciBjaXJjbGVfbWFya2VyXzgxZDE0OTlkMWQ2YTQwMzViOTNhOGJlOTdjM2YxZTdmID0gTC5jaXJjbGVNYXJrZXIoCiAgICAgICAgICAgICAgICBbNDQuOTc0NDcwMDAwMDAwMDA0LCAtOTMuMjQ4N10sCiAgICAgICAgICAgICAgICB7CiAgImJ1YmJsaW5nTW91c2VFdmVudHMiOiB0cnVlLAogICJjb2xvciI6ICIjMzM4OGZmIiwKICAiZGFzaEFycmF5IjogbnVsbCwKICAiZGFzaE9mZnNldCI6IG51bGwsCiAgImZpbGwiOiB0cnVlLAogICJmaWxsQ29sb3IiOiAiIzMzODhmZiIsCiAgImZpbGxPcGFjaXR5IjogMC4yLAogICJmaWxsUnVsZSI6ICJldmVub2RkIiwKICAibGluZUNhcCI6ICJyb3VuZCIsCiAgImxpbmVKb2luIjogInJvdW5kIiwKICAib3BhY2l0eSI6IDEuMCwKICAicmFkaXVzIjogMSwKICAic3Ryb2tlIjogdHJ1ZSwKICAid2VpZ2h0IjogMwp9CiAgICAgICAgICAgICAgICApCiAgICAgICAgICAgICAgICAuYWRkVG8obWFwXzUyNGMwYjU3NTFlODQ1MTM4NzBmMmMzZTI1Y2YxNmZjKTsKICAgICAgICAgICAgCiAgICAKICAgICAgICAgICAgdmFyIGNpcmNsZV9tYXJrZXJfNDBkMzNhNWM5MDJhNGRlNGI4MTFiYmRkYWYwNTgxNGYgPSBMLmNpcmNsZU1hcmtlcigKICAgICAgICAgICAgICAgIFs0NC45ODE3NSwgLTkzLjI0Mzk2OTk5OTk5OTk5XSwKICAgICAgICAgICAgICAgIHsKICAiYnViYmxpbmdNb3VzZUV2ZW50cyI6IHRydWUsCiAgImNvbG9yIjogIiMzMzg4ZmYiLAogICJkYXNoQXJyYXkiOiBudWxsLAogICJkYXNoT2Zmc2V0IjogbnVsbCwKICAiZmlsbCI6IHRydWUsCiAgImZpbGxDb2xvciI6ICIjMzM4OGZmIiwKICAiZmlsbE9wYWNpdHkiOiAwLjIsCiAgImZpbGxSdWxlIjogImV2ZW5vZGQiLAogICJsaW5lQ2FwIjogInJvdW5kIiwKICAibGluZUpvaW4iOiAicm91bmQiLAogICJvcGFjaXR5IjogMS4wLAogICJyYWRpdXMiOiAxLAogICJzdHJva2UiOiB0cnVlLAogICJ3ZWlnaHQiOiAzCn0KICAgICAgICAgICAgICAgICkKICAgICAgICAgICAgICAgIC5hZGRUbyhtYXBfNTI0YzBiNTc1MWU4NDUxMzg3MGYyYzNlMjVjZjE2ZmMpOwogICAgICAgICAgICAKICAgIAogICAgICAgICAgICB2YXIgY2lyY2xlX21hcmtlcl8wNTQ3YTJmNDMyMmY0NDAyYWMwMzMyOWJiNDkyMzQ0YSA9IEwuY2lyY2xlTWFya2VyKAogICAgICAgICAgICAgICAgWzQ0Ljk4Mzk5MDAwMDAwMDAwNiwgLTkzLjI0MTk3XSwKICAgICAgICAgICAgICAgIHsKICAiYnViYmxpbmdNb3VzZUV2ZW50cyI6IHRydWUsCiAgImNvbG9yIjogIiMzMzg4ZmYiLAogICJkYXNoQXJyYXkiOiBudWxsLAogICJkYXNoT2Zmc2V0IjogbnVsbCwKICAiZmlsbCI6IHRydWUsCiAgImZpbGxDb2xvciI6ICIjMzM4OGZmIiwKICAiZmlsbE9wYWNpdHkiOiAwLjIsCiAgImZpbGxSdWxlIjogImV2ZW5vZGQiLAogICJsaW5lQ2FwIjogInJvdW5kIiwKICAibGluZUpvaW4iOiAicm91bmQiLAogICJvcGFjaXR5IjogMS4wLAogICJyYWRpdXMiOiAxLAogICJzdHJva2UiOiB0cnVlLAogICJ3ZWlnaHQiOiAzCn0KICAgICAgICAgICAgICAgICkKICAgICAgICAgICAgICAgIC5hZGRUbyhtYXBfNTI0YzBiNTc1MWU4NDUxMzg3MGYyYzNlMjVjZjE2ZmMpOwogICAgICAgICAgICAKICAgIAogICAgICAgICAgICB2YXIgY2lyY2xlX21hcmtlcl9mMjJmMDY3MzRhM2U0YjQwYTY5OGZiMDcyOWRlMTMxMCA9IEwuY2lyY2xlTWFya2VyKAogICAgICAgICAgICAgICAgWzQ0Ljk5MTE1LCAtOTMuMjM2NTldLAogICAgICAgICAgICAgICAgewogICJidWJibGluZ01vdXNlRXZlbnRzIjogdHJ1ZSwKICAiY29sb3IiOiAiIzMzODhmZiIsCiAgImRhc2hBcnJheSI6IG51bGwsCiAgImRhc2hPZmZzZXQiOiBudWxsLAogICJmaWxsIjogdHJ1ZSwKICAiZmlsbENvbG9yIjogIiMzMzg4ZmYiLAogICJmaWxsT3BhY2l0eSI6IDAuMiwKICAiZmlsbFJ1bGUiOiAiZXZlbm9kZCIsCiAgImxpbmVDYXAiOiAicm91bmQiLAogICJsaW5lSm9pbiI6ICJyb3VuZCIsCiAgIm9wYWNpdHkiOiAxLjAsCiAgInJhZGl1cyI6IDEsCiAgInN0cm9rZSI6IHRydWUsCiAgIndlaWdodCI6IDMKfQogICAgICAgICAgICAgICAgKQogICAgICAgICAgICAgICAgLmFkZFRvKG1hcF81MjRjMGI1NzUxZTg0NTEzODcwZjJjM2UyNWNmMTZmYyk7CiAgICAgICAgICAgIAogICAgCiAgICAgICAgICAgIHZhciBjaXJjbGVfbWFya2VyXzIzMjdiZTFmYjhmYzRhMjA5NWIyNzgzMzgyMjAzN2U4ID0gTC5jaXJjbGVNYXJrZXIoCiAgICAgICAgICAgICAgICBbNDQuOTkxMTYsIC05My4yMzYyOV0sCiAgICAgICAgICAgICAgICB7CiAgImJ1YmJsaW5nTW91c2VFdmVudHMiOiB0cnVlLAogICJjb2xvciI6ICIjMzM4OGZmIiwKICAiZGFzaEFycmF5IjogbnVsbCwKICAiZGFzaE9mZnNldCI6IG51bGwsCiAgImZpbGwiOiB0cnVlLAogICJmaWxsQ29sb3IiOiAiIzMzODhmZiIsCiAgImZpbGxPcGFjaXR5IjogMC4yLAogICJmaWxsUnVsZSI6ICJldmVub2RkIiwKICAibGluZUNhcCI6ICJyb3VuZCIsCiAgImxpbmVKb2luIjogInJvdW5kIiwKICAib3BhY2l0eSI6IDEuMCwKICAicmFkaXVzIjogMSwKICAic3Ryb2tlIjogdHJ1ZSwKICAid2VpZ2h0IjogMwp9CiAgICAgICAgICAgICAgICApCiAgICAgICAgICAgICAgICAuYWRkVG8obWFwXzUyNGMwYjU3NTFlODQ1MTM4NzBmMmMzZTI1Y2YxNmZjKTsKICAgICAgICAgICAgCiAgICAKICAgICAgICAgICAgdmFyIGNpcmNsZV9tYXJrZXJfMTg1YjVkYWE5YmUwNDI2ZDk2NWM0M2M4NDVkNDJjY2EgPSBMLmNpcmNsZU1hcmtlcigKICAgICAgICAgICAgICAgIFs0NC45OTY0NCwgLTkzLjIzODIzXSwKICAgICAgICAgICAgICAgIHsKICAiYnViYmxpbmdNb3VzZUV2ZW50cyI6IHRydWUsCiAgImNvbG9yIjogIiMzMzg4ZmYiLAogICJkYXNoQXJyYXkiOiBudWxsLAogICJkYXNoT2Zmc2V0IjogbnVsbCwKICAiZmlsbCI6IHRydWUsCiAgImZpbGxDb2xvciI6ICIjMzM4OGZmIiwKICAiZmlsbE9wYWNpdHkiOiAwLjIsCiAgImZpbGxSdWxlIjogImV2ZW5vZGQiLAogICJsaW5lQ2FwIjogInJvdW5kIiwKICAibGluZUpvaW4iOiAicm91bmQiLAogICJvcGFjaXR5IjogMS4wLAogICJyYWRpdXMiOiAxLAogICJzdHJva2UiOiB0cnVlLAogICJ3ZWlnaHQiOiAzCn0KICAgICAgICAgICAgICAgICkKICAgICAgICAgICAgICAgIC5hZGRUbyhtYXBfNTI0YzBiNTc1MWU4NDUxMzg3MGYyYzNlMjVjZjE2ZmMpOwogICAgICAgICAgICAKICAgIAogICAgICAgICAgICB2YXIgY2lyY2xlX21hcmtlcl9jODdhNmVlNjM3NGM0MmVkYTZlNmQzMDRiNzNhYjcwZCA9IEwuY2lyY2xlTWFya2VyKAogICAgICAgICAgICAgICAgWzQ0Ljk5NjQ2LCAtOTMuMjM4NTMwMDAwMDAwMDFdLAogICAgICAgICAgICAgICAgewogICJidWJibGluZ01vdXNlRXZlbnRzIjogdHJ1ZSwKICAiY29sb3IiOiAiIzMzODhmZiIsCiAgImRhc2hBcnJheSI6IG51bGwsCiAgImRhc2hPZmZzZXQiOiBudWxsLAogICJmaWxsIjogdHJ1ZSwKICAiZmlsbENvbG9yIjogIiMzMzg4ZmYiLAogICJmaWxsT3BhY2l0eSI6IDAuMiwKICAiZmlsbFJ1bGUiOiAiZXZlbm9kZCIsCiAgImxpbmVDYXAiOiAicm91bmQiLAogICJsaW5lSm9pbiI6ICJyb3VuZCIsCiAgIm9wYWNpdHkiOiAxLjAsCiAgInJhZGl1cyI6IDEsCiAgInN0cm9rZSI6IHRydWUsCiAgIndlaWdodCI6IDMKfQogICAgICAgICAgICAgICAgKQogICAgICAgICAgICAgICAgLmFkZFRvKG1hcF81MjRjMGI1NzUxZTg0NTEzODcwZjJjM2UyNWNmMTZmYyk7CiAgICAgICAgICAgIAogICAgCiAgICAgICAgICAgIHZhciBjaXJjbGVfbWFya2VyX2ViZjZmNTI2YTliODRiNWRiYzk0MGIzNDZjOWY1NzcyID0gTC5jaXJjbGVNYXJrZXIoCiAgICAgICAgICAgICAgICBbNDUuMDAxOTksIC05My4yMzQ2NV0sCiAgICAgICAgICAgICAgICB7CiAgImJ1YmJsaW5nTW91c2VFdmVudHMiOiB0cnVlLAogICJjb2xvciI6ICIjMzM4OGZmIiwKICAiZGFzaEFycmF5IjogbnVsbCwKICAiZGFzaE9mZnNldCI6IG51bGwsCiAgImZpbGwiOiB0cnVlLAogICJmaWxsQ29sb3IiOiAiIzMzODhmZiIsCiAgImZpbGxPcGFjaXR5IjogMC4yLAogICJmaWxsUnVsZSI6ICJldmVub2RkIiwKICAibGluZUNhcCI6ICJyb3VuZCIsCiAgImxpbmVKb2luIjogInJvdW5kIiwKICAib3BhY2l0eSI6IDEuMCwKICAicmFkaXVzIjogMSwKICAic3Ryb2tlIjogdHJ1ZSwKICAid2VpZ2h0IjogMwp9CiAgICAgICAgICAgICAgICApCiAgICAgICAgICAgICAgICAuYWRkVG8obWFwXzUyNGMwYjU3NTFlODQ1MTM4NzBmMmMzZTI1Y2YxNmZjKTsKICAgICAgICAgICAgCiAgICAKICAgICAgICAgICAgdmFyIGNpcmNsZV9tYXJrZXJfODE0NThjNzlhNThlNDAxMjhiMWVlMjc0NjI0N2ExODIgPSBMLmNpcmNsZU1hcmtlcigKICAgICAgICAgICAgICAgIFs0NS4wMDA5MSwgLTkzLjIyMzQ2XSwKICAgICAgICAgICAgICAgIHsKICAiYnViYmxpbmdNb3VzZUV2ZW50cyI6IHRydWUsCiAgImNvbG9yIjogIiMzMzg4ZmYiLAogICJkYXNoQXJyYXkiOiBudWxsLAogICJkYXNoT2Zmc2V0IjogbnVsbCwKICAiZmlsbCI6IHRydWUsCiAgImZpbGxDb2xvciI6ICIjMzM4OGZmIiwKICAiZmlsbE9wYWNpdHkiOiAwLjIsCiAgImZpbGxSdWxlIjogImV2ZW5vZGQiLAogICJsaW5lQ2FwIjogInJvdW5kIiwKICAibGluZUpvaW4iOiAicm91bmQiLAogICJvcGFjaXR5IjogMS4wLAogICJyYWRpdXMiOiAxLAogICJzdHJva2UiOiB0cnVlLAogICJ3ZWlnaHQiOiAzCn0KICAgICAgICAgICAgICAgICkKICAgICAgICAgICAgICAgIC5hZGRUbyhtYXBfNTI0YzBiNTc1MWU4NDUxMzg3MGYyYzNlMjVjZjE2ZmMpOwogICAgICAgICAgICAKICAgIAogICAgICAgICAgICB2YXIgY2lyY2xlX21hcmtlcl9hN2Y3MDRlMWY3YzE0Y2QyOTM1ZjFiOTMwNDlkZDE0MiA9IEwuY2lyY2xlTWFya2VyKAogICAgICAgICAgICAgICAgWzQ1LjAwMDcsIC05My4yMjM0OV0sCiAgICAgICAgICAgICAgICB7CiAgImJ1YmJsaW5nTW91c2VFdmVudHMiOiB0cnVlLAogICJjb2xvciI6ICIjMzM4OGZmIiwKICAiZGFzaEFycmF5IjogbnVsbCwKICAiZGFzaE9mZnNldCI6IG51bGwsCiAgImZpbGwiOiB0cnVlLAogICJmaWxsQ29sb3IiOiAiIzMzODhmZiIsCiAgImZpbGxPcGFjaXR5IjogMC4yLAogICJmaWxsUnVsZSI6ICJldmVub2RkIiwKICAibGluZUNhcCI6ICJyb3VuZCIsCiAgImxpbmVKb2luIjogInJvdW5kIiwKICAib3BhY2l0eSI6IDEuMCwKICAicmFkaXVzIjogMSwKICAic3Ryb2tlIjogdHJ1ZSwKICAid2VpZ2h0IjogMwp9CiAgICAgICAgICAgICAgICApCiAgICAgICAgICAgICAgICAuYWRkVG8obWFwXzUyNGMwYjU3NTFlODQ1MTM4NzBmMmMzZTI1Y2YxNmZjKTsKICAgICAgICAgICAgCiAgICAKICAgICAgICAgICAgdmFyIGNpcmNsZV9tYXJrZXJfZGNlNmRlMzU4MTczNGIzMTg2NWJjOTVhYTM2MzFhNTAgPSBMLmNpcmNsZU1hcmtlcigKICAgICAgICAgICAgICAgIFs0NS4wMDMwMiwgLTkzLjIxNDg2OTk5OTk5OTk5XSwKICAgICAgICAgICAgICAgIHsKICAiYnViYmxpbmdNb3VzZUV2ZW50cyI6IHRydWUsCiAgImNvbG9yIjogIiMzMzg4ZmYiLAogICJkYXNoQXJyYXkiOiBudWxsLAogICJkYXNoT2Zmc2V0IjogbnVsbCwKICAiZmlsbCI6IHRydWUsCiAgImZpbGxDb2xvciI6ICIjMzM4OGZmIiwKICAiZmlsbE9wYWNpdHkiOiAwLjIsCiAgImZpbGxSdWxlIjogImV2ZW5vZGQiLAogICJsaW5lQ2FwIjogInJvdW5kIiwKICAibGluZUpvaW4iOiAicm91bmQiLAogICJvcGFjaXR5IjogMS4wLAogICJyYWRpdXMiOiAxLAogICJzdHJva2UiOiB0cnVlLAogICJ3ZWlnaHQiOiAzCn0KICAgICAgICAgICAgICAgICkKICAgICAgICAgICAgICAgIC5hZGRUbyhtYXBfNTI0YzBiNTc1MWU4NDUxMzg3MGYyYzNlMjVjZjE2ZmMpOwogICAgICAgICAgICAKICAgIAogICAgICAgICAgICB2YXIgY2lyY2xlX21hcmtlcl9mNzk4YTZhOTM3YmU0YmYxYjIzMGZjYWM3ZmUzMzliYyA9IEwuY2lyY2xlTWFya2VyKAogICAgICAgICAgICAgICAgWzQ1LjAwNTE1LCAtOTMuMjA5NDddLAogICAgICAgICAgICAgICAgewogICJidWJibGluZ01vdXNlRXZlbnRzIjogdHJ1ZSwKICAiY29sb3IiOiAiIzMzODhmZiIsCiAgImRhc2hBcnJheSI6IG51bGwsCiAgImRhc2hPZmZzZXQiOiBudWxsLAogICJmaWxsIjogdHJ1ZSwKICAiZmlsbENvbG9yIjogIiMzMzg4ZmYiLAogICJmaWxsT3BhY2l0eSI6IDAuMiwKICAiZmlsbFJ1bGUiOiAiZXZlbm9kZCIsCiAgImxpbmVDYXAiOiAicm91bmQiLAogICJsaW5lSm9pbiI6ICJyb3VuZCIsCiAgIm9wYWNpdHkiOiAxLjAsCiAgInJhZGl1cyI6IDEsCiAgInN0cm9rZSI6IHRydWUsCiAgIndlaWdodCI6IDMKfQogICAgICAgICAgICAgICAgKQogICAgICAgICAgICAgICAgLmFkZFRvKG1hcF81MjRjMGI1NzUxZTg0NTEzODcwZjJjM2UyNWNmMTZmYyk7CiAgICAgICAgICAgIAogICAgCiAgICAgICAgICAgIHZhciBjaXJjbGVfbWFya2VyX2RjMjEzNmZiOTQwNzQyZDk5ZDczNjBlYjk4NzU3MjkxID0gTC5jaXJjbGVNYXJrZXIoCiAgICAgICAgICAgICAgICBbNDUuMDEwMTQsIC05My4yMDA0XSwKICAgICAgICAgICAgICAgIHsKICAiYnViYmxpbmdNb3VzZUV2ZW50cyI6IHRydWUsCiAgImNvbG9yIjogIiMzMzg4ZmYiLAogICJkYXNoQXJyYXkiOiBudWxsLAogICJkYXNoT2Zmc2V0IjogbnVsbCwKICAiZmlsbCI6IHRydWUsCiAgImZpbGxDb2xvciI6ICIjMzM4OGZmIiwKICAiZmlsbE9wYWNpdHkiOiAwLjIsCiAgImZpbGxSdWxlIjogImV2ZW5vZGQiLAogICJsaW5lQ2FwIjogInJvdW5kIiwKICAibGluZUpvaW4iOiAicm91bmQiLAogICJvcGFjaXR5IjogMS4wLAogICJyYWRpdXMiOiAxLAogICJzdHJva2UiOiB0cnVlLAogICJ3ZWlnaHQiOiAzCn0KICAgICAgICAgICAgICAgICkKICAgICAgICAgICAgICAgIC5hZGRUbyhtYXBfNTI0YzBiNTc1MWU4NDUxMzg3MGYyYzNlMjVjZjE2ZmMpOwogICAgICAgICAgICAKICAgIAogICAgICAgICAgICB2YXIgY2lyY2xlX21hcmtlcl8yODQwYjI5MjgyZGU0ZmQyYWViNTE2Zjc5MWRmNzBmNiA9IEwuY2lyY2xlTWFya2VyKAogICAgICAgICAgICAgICAgWzQ1LjAwODkxLCAtOTMuMjAyMzNdLAogICAgICAgICAgICAgICAgewogICJidWJibGluZ01vdXNlRXZlbnRzIjogdHJ1ZSwKICAiY29sb3IiOiAiIzMzODhmZiIsCiAgImRhc2hBcnJheSI6IG51bGwsCiAgImRhc2hPZmZzZXQiOiBudWxsLAogICJmaWxsIjogdHJ1ZSwKICAiZmlsbENvbG9yIjogIiMzMzg4ZmYiLAogICJmaWxsT3BhY2l0eSI6IDAuMiwKICAiZmlsbFJ1bGUiOiAiZXZlbm9kZCIsCiAgImxpbmVDYXAiOiAicm91bmQiLAogICJsaW5lSm9pbiI6ICJyb3VuZCIsCiAgIm9wYWNpdHkiOiAxLjAsCiAgInJhZGl1cyI6IDEsCiAgInN0cm9rZSI6IHRydWUsCiAgIndlaWdodCI6IDMKfQogICAgICAgICAgICAgICAgKQogICAgICAgICAgICAgICAgLmFkZFRvKG1hcF81MjRjMGI1NzUxZTg0NTEzODcwZjJjM2UyNWNmMTZmYyk7CiAgICAgICAgICAgIAo8L3NjcmlwdD4=\" style=\"position:absolute;width:100%;height:100%;left:0;top:0;border:none !important;\" allowfullscreen webkitallowfullscreen mozallowfullscreen></iframe></div></div>"
      ],
      "text/plain": [
       "<folium.folium.Map at 0x11776d898>"
      ]
     },
     "execution_count": 28,
     "metadata": {},
     "output_type": "execute_result"
    }
   ],
   "source": [
    "folium_map\n"
   ]
  },
  {
   "cell_type": "code",
   "execution_count": 13,
   "metadata": {},
   "outputs": [
    {
     "name": "stdout",
     "output_type": "stream",
     "text": [
      "Map saved at results/maps/routemapOct07_075654.html\n"
     ]
    }
   ],
   "source": [
    "folium_map.save(f'results/maps/routemap{datetime.datetime.now().strftime(\"%b%d_%H%M%S\")}.html')\n",
    "print(f'Map saved at results/maps/routemap{datetime.datetime.now().strftime(\"%b%d_%H%M%S\")}.html')"
   ]
  },
  {
   "cell_type": "code",
   "execution_count": null,
   "metadata": {},
   "outputs": [],
   "source": []
  },
  {
   "cell_type": "code",
   "execution_count": 29,
   "metadata": {},
   "outputs": [],
   "source": [
    "import gmaps\n",
    "import sys\n",
    "sys.path.append('../')\n",
    "\n",
    "# Google developer API key\n",
    "from config import gkey,gkey_route\n",
    "gmaps.configure(api_key=gkey)\n",
    "gmaps.configure(api_key=gkey_route)"
   ]
  },
  {
   "cell_type": "code",
   "execution_count": 54,
   "metadata": {},
   "outputs": [
    {
     "data": {
      "application/vnd.jupyter.widget-view+json": {
       "model_id": "97e26be69fff430ba584347fd3cc85ea",
       "version_major": 2,
       "version_minor": 0
      },
      "text/plain": [
       "Figure(layout=FigureLayout(height='420px'))"
      ]
     },
     "metadata": {},
     "output_type": "display_data"
    }
   ],
   "source": [
    "\n",
    "fig = gmaps.figure()\n",
    "\n",
    "Last_Sensor = []\n",
    "\n",
    "def color_fuc(x):\n",
    "    if x<15:\n",
    "        color=\"red\"\n",
    "    elif x<45:\n",
    "        color=\"yellow\"\n",
    "    else:\n",
    "        color=\"green\"\n",
    "        \n",
    "    return color\n",
    "for index, row in Results.iterrows():\n",
    "    Current_Sensor = (row['Lat'], row['Lon'])\n",
    "    if Last_Sensor == [] :\n",
    "        Last_Sensor = (row['Lat'], row['Lon'])\n",
    "    else:\n",
    "        directions = gmaps.directions_layer(Current_Sensor, Last_Sensor, stroke_color=color_fuc(row['Current Speed']),stroke_weight=row['Current Occupancy'],show_markers=True)\n",
    "        fig.add_layer(directions)\n",
    "        \n",
    "#         folium.PolyLine([Current_Sensor,Last_Sensor],\n",
    "#          weight=row['Current Occupancy'] * 2.5,\n",
    "#                         popup=f\"Speed:{row['Current Speed']} Occupancy: {row['Current Occupancy']}\").add_to(folium_map)\n",
    "\n",
    "        Last_Sensor = (row['Lat'], row['Lon'])\n",
    "\n",
    "\n",
    "# start=0\n",
    "# for end in range(1,8):\n",
    "#     start_pos=(station_df.loc[start,\"Lat\"],station_df.loc[start,\"Lng\"])\n",
    "#     end_pos=(station_df.loc[end,\"Lat\"],station_df.loc[end,\"Lng\"])\n",
    "   \n",
    "    \n",
    "#     directions = gmaps.directions_layer(start_pos, end_pos, stroke_color='green',stroke_weight=2.0,show_markers=False)\n",
    "#     fig.add_layer(directions)\n",
    "fig   "
   ]
  },
  {
   "cell_type": "code",
   "execution_count": null,
   "metadata": {},
   "outputs": [],
   "source": [
    "len(Results)\n",
    "Current_Sensor\n"
   ]
  },
  {
   "cell_type": "code",
   "execution_count": 33,
   "metadata": {},
   "outputs": [
    {
     "data": {
      "application/vnd.jupyter.widget-view+json": {
       "model_id": "79e60bc21e304ee2b3e064e4b062c7d0",
       "version_major": 2,
       "version_minor": 0
      },
      "text/plain": [
       "Output(layout=Layout(border='1px solid black'))"
      ]
     },
     "metadata": {},
     "output_type": "display_data"
    }
   ],
   "source": [
    "import ipywidgets as widgets\n",
    "import time\n",
    "from IPython.display import display\n",
    "\n",
    "out = widgets.Output(layout={'border': '1px solid black'})\n",
    "out"
   ]
  },
  {
   "cell_type": "code",
   "execution_count": 48,
   "metadata": {},
   "outputs": [
    {
     "name": "stdout",
     "output_type": "stream",
     "text": [
      "next? yes/nono\n"
     ]
    }
   ],
   "source": [
    "\n",
    "#fig = gmaps.figure()\n",
    "\n",
    "Last_Sensor = []\n",
    "for index, row in Results.iterrows():\n",
    "    Current_Sensor = (row['Lat'], row['Lon'])\n",
    "    if Last_Sensor == [] :\n",
    "        Last_Sensor = (row['Lat'], row['Lon'])\n",
    "    else:\n",
    "        \n",
    "        with out:\n",
    "            fig = gmaps.figure(center=Current_Sensor, zoom_level=14)\n",
    "            directions = gmaps.directions_layer(Current_Sensor, Last_Sensor, stroke_color='green',stroke_weight=row['Current Occupancy'],show_markers=True)\n",
    "            fig.add_layer(directions)\n",
    "            fig\n",
    "            out.clear_output(wait=True)\n",
    "        time.sleep(5)  \n",
    "        a=input(\"next? yes/no\")\n",
    "        if a==\"no\":\n",
    "            break\n",
    "        else:\n",
    "            pass       \n",
    "        Last_Sensor = (row['Lat'], row['Lon'])\n",
    "\n"
   ]
  },
  {
   "cell_type": "code",
   "execution_count": 42,
   "metadata": {},
   "outputs": [
    {
     "data": {
      "application/vnd.jupyter.widget-view+json": {
       "model_id": "e7d1c5c476bc42c79669d43a36b09d79",
       "version_major": 2,
       "version_minor": 0
      },
      "text/plain": [
       "Figure(layout=FigureLayout(height='420px'))"
      ]
     },
     "metadata": {},
     "output_type": "display_data"
    }
   ],
   "source": [
    "fig = gmaps.figure(center=(45.00891, -93.20233), zoom_level=13)\n",
    "fig"
   ]
  },
  {
   "cell_type": "code",
   "execution_count": 41,
   "metadata": {},
   "outputs": [
    {
     "data": {
      "application/vnd.jupyter.widget-view+json": {
       "model_id": "4303e008ea6844fb90df568659c34b30",
       "version_major": 2,
       "version_minor": 0
      },
      "text/plain": [
       "Figure(layout=FigureLayout(height='420px'))"
      ]
     },
     "metadata": {},
     "output_type": "display_data"
    }
   ],
   "source": []
  },
  {
   "cell_type": "code",
   "execution_count": null,
   "metadata": {},
   "outputs": [],
   "source": []
  }
 ],
 "metadata": {
  "kernelspec": {
   "display_name": "Python [default]",
   "language": "python",
   "name": "python3"
  },
  "language_info": {
   "codemirror_mode": {
    "name": "ipython",
    "version": 3
   },
   "file_extension": ".py",
   "mimetype": "text/x-python",
   "name": "python",
   "nbconvert_exporter": "python",
   "pygments_lexer": "ipython3",
   "version": "3.6.5"
  }
 },
 "nbformat": 4,
 "nbformat_minor": 2
}

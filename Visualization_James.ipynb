{
 "cells": [
  {
   "cell_type": "code",
   "execution_count": 1,
   "metadata": {},
   "outputs": [],
   "source": [
    "##############\n",
    "#Dependencies#\n",
    "##############\n",
    "%matplotlib notebook\n",
    "import datetime\n",
    "import pandas\n",
    "import numpy as np\n",
    "import folium\n"
   ]
  },
  {
   "cell_type": "code",
   "execution_count": 2,
   "metadata": {},
   "outputs": [
    {
     "data": {
      "text/html": [
       "<div>\n",
       "<style scoped>\n",
       "    .dataframe tbody tr th:only-of-type {\n",
       "        vertical-align: middle;\n",
       "    }\n",
       "\n",
       "    .dataframe tbody tr th {\n",
       "        vertical-align: top;\n",
       "    }\n",
       "\n",
       "    .dataframe thead th {\n",
       "        text-align: right;\n",
       "    }\n",
       "</style>\n",
       "<table border=\"1\" class=\"dataframe\">\n",
       "  <thead>\n",
       "    <tr style=\"text-align: right;\">\n",
       "      <th></th>\n",
       "      <th>Station.1</th>\n",
       "      <th>Time</th>\n",
       "      <th>Occupancy</th>\n",
       "      <th>Speed</th>\n",
       "      <th>Flow</th>\n",
       "    </tr>\n",
       "    <tr>\n",
       "      <th>Station</th>\n",
       "      <th></th>\n",
       "      <th></th>\n",
       "      <th></th>\n",
       "      <th></th>\n",
       "      <th></th>\n",
       "    </tr>\n",
       "  </thead>\n",
       "  <tbody>\n",
       "    <tr>\n",
       "      <th>S567</th>\n",
       "      <td>0.0</td>\n",
       "      <td>Wed Oct 03 01:16:59 CDT 2018</td>\n",
       "      <td>0.31</td>\n",
       "      <td>54</td>\n",
       "      <td>0</td>\n",
       "    </tr>\n",
       "    <tr>\n",
       "      <th>S567</th>\n",
       "      <td>0.0</td>\n",
       "      <td>Wed Oct 03 01:16:59 CDT 2018</td>\n",
       "      <td>0.31</td>\n",
       "      <td>54</td>\n",
       "      <td>0</td>\n",
       "    </tr>\n",
       "    <tr>\n",
       "      <th>S567</th>\n",
       "      <td>0.0</td>\n",
       "      <td>Sun Oct 07 21:21:29 CDT 2018</td>\n",
       "      <td>4.13</td>\n",
       "      <td>63</td>\n",
       "      <td>600</td>\n",
       "    </tr>\n",
       "    <tr>\n",
       "      <th>S583</th>\n",
       "      <td>0.0</td>\n",
       "      <td>Wed Oct 03 01:16:59 CDT 2018</td>\n",
       "      <td>0.24</td>\n",
       "      <td>55</td>\n",
       "      <td>0</td>\n",
       "    </tr>\n",
       "    <tr>\n",
       "      <th>S583</th>\n",
       "      <td>0.0</td>\n",
       "      <td>Wed Oct 03 01:16:59 CDT 2018</td>\n",
       "      <td>0.24</td>\n",
       "      <td>55</td>\n",
       "      <td>0</td>\n",
       "    </tr>\n",
       "  </tbody>\n",
       "</table>\n",
       "</div>"
      ],
      "text/plain": [
       "         Station.1                          Time Occupancy Speed Flow\n",
       "Station                                                              \n",
       "S567           0.0  Wed Oct 03 01:16:59 CDT 2018      0.31    54    0\n",
       "S567           0.0  Wed Oct 03 01:16:59 CDT 2018      0.31    54    0\n",
       "S567           0.0  Sun Oct 07 21:21:29 CDT 2018      4.13    63  600\n",
       "S583           0.0  Wed Oct 03 01:16:59 CDT 2018      0.24    55    0\n",
       "S583           0.0  Wed Oct 03 01:16:59 CDT 2018      0.24    55    0"
      ]
     },
     "execution_count": 2,
     "metadata": {},
     "output_type": "execute_result"
    }
   ],
   "source": [
    "sensors_data=pandas.read_csv(\"./Station_Keys/Southbound_35W_StationNames.csv\")\n",
    "\n",
    "route1 = ['S567','S583','S568','S582','S569','S570','S581',\n",
    "'S571','S579','S572','S578','S573',\"S577\",\"S587\"]\n",
    "\n",
    "route2= ['S685', 'S686', 'S691', 'S692', 'S693', 'S695', 'S697', 'S576',\n",
    "       'S577', 'S578', 'S579', 'S580', 'S570', 'S582', 'S583', 'S584',\n",
    "       'S585', 'S3', 'S4', 'S5', 'S6', 'S7', 'S8', 'S9', 'S10', 'S14',\n",
    "       'S15', 'S17', 'S18', 'S19', 'S20', 'S21', 'S1148', 'S23', 'S13']\n",
    "\n",
    "route=list(set(route1) & set(route2))\n",
    "\n",
    "station_df = pandas.read_csv('Data/station_config.csv')\n",
    "route_df= pandas.read_csv('Data/route_summary.csv')\n",
    "station_df = station_df.set_index(\"Station\")\n",
    "route_df = route_df.set_index(\"Station\")\n",
    "route_df= route_df.replace(\"UNKNOWN\",0)\n",
    "route_df= route_df.fillna(0)\n",
    "route_df.head()"
   ]
  },
  {
   "cell_type": "code",
   "execution_count": 3,
   "metadata": {},
   "outputs": [
    {
     "data": {
      "text/plain": [
       "array(['S685', 'S686', 'S691', 'S692', 'S693', 'S695', 'S697', 'S576',\n",
       "       'S577', 'S578', 'S579', 'S580', 'S570', 'S582', 'S583', 'S584',\n",
       "       'S585', 'S3', 'S4', 'S5', 'S6', 'S7', 'S8', 'S9', 'S10', 'S14',\n",
       "       'S15', 'S17', 'S18', 'S19', 'S20', 'S21', 'S1148', 'S23', 'S13'],\n",
       "      dtype=object)"
      ]
     },
     "execution_count": 3,
     "metadata": {},
     "output_type": "execute_result"
    }
   ],
   "source": [
    "aa=sensors_data.dropna()\n",
    "bb=aa[aa[\"Type\"]==\"Flow\"]\n",
    "bb[\"1\"].values"
   ]
  },
  {
   "cell_type": "code",
   "execution_count": 4,
   "metadata": {},
   "outputs": [],
   "source": [
    "# #set(list(route_df.index.values))\n",
    "# #route_df\n",
    "# route1 = ['S567','S583','S568','S582','S569','S570','S581',\n",
    "# 'S571','S579','S572','S578','S573',\"S577\",\"S587\"]\n",
    "\n",
    "# route2= ['S685', 'S686', 'S691', 'S692', 'S693', 'S695', 'S697', 'S576',\n",
    "#        'S577', 'S578', 'S579', 'S580', 'S570', 'S582', 'S583', 'S584',\n",
    "#        'S585', 'S3', 'S4', 'S5', 'S6', 'S7', 'S8', 'S9', 'S10', 'S14',\n",
    "#        'S15', 'S17', 'S18', 'S19', 'S20', 'S21', 'S1148', 'S23', 'S13']\n",
    "\n",
    "# route=list(set(route1) & set(route2))\n",
    "# route"
   ]
  },
  {
   "cell_type": "code",
   "execution_count": 5,
   "metadata": {},
   "outputs": [],
   "source": [
    "# set(list(route_df.index))==set(route)\n",
    "# len(set(list(route_df.index)))\n",
    "# len(route)\n",
    "# len(route_df)\n",
    "# set(route).issubset(set(list(route_df.index)))\n",
    "# set(list(route_df.index)).difference(set(route))\n"
   ]
  },
  {
   "cell_type": "code",
   "execution_count": 6,
   "metadata": {},
   "outputs": [],
   "source": [
    "# route_df"
   ]
  },
  {
   "cell_type": "code",
   "execution_count": 7,
   "metadata": {},
   "outputs": [],
   "source": [
    "# station_df.head()\n",
    "# len(station_df)\n",
    "# #set(list(station_df.index))\n",
    "# station_df.loc[route ,:]"
   ]
  },
  {
   "cell_type": "code",
   "execution_count": 8,
   "metadata": {},
   "outputs": [],
   "source": [
    "\n",
    "Results = {}\n",
    "\n",
    "\n",
    "locations = []\n",
    "\n",
    "for station in route:\n",
    "        Occupancy =  float(route_df.loc[station,'Occupancy'].tail(1)[0])\n",
    "        Speed = int(route_df.loc[station,'Speed'].tail(1)[0])\n",
    "#         print(station)\n",
    "#         print(route_df.loc[station,'Occupancy'])\n",
    "#         print(route_df.loc[station,'Occupancy'].tail(1))\n",
    "#         break\n",
    "\n",
    "        Max_Occupancy = route_df.loc[station,'Occupancy'].astype(dtype=\"float\")\n",
    "        Max_Occupancy = max(Max_Occupancy.values)\n",
    "        Max_Speed = route_df.loc[station,'Speed'].astype(dtype=\"int\")\n",
    "        Max_Speed = max(Max_Speed.values)\n",
    "        \n",
    "        lat, lon = station_df.loc[station, ['Lat', 'Lng']]\n",
    "        locations.append((lat, lon))\n",
    "        #print(lat, lon)\n",
    "        #break\n",
    "        Results[station] = {\n",
    "            \"Current Speed\" : Speed,\n",
    "            \"Current Occupancy\" : Occupancy,\n",
    "            \"Max Speed\" : Max_Speed,\n",
    "            \"Max Occupancy\" : Max_Occupancy,\n",
    "            \"% of Max Speed\" : round(Speed / Max_Speed * 100, 2),\n",
    "            \"% of Max Occupancy\" : round(Occupancy / Max_Occupancy * 100, 2) ,\n",
    "            \"Lat\":lat, \n",
    "            \"Lon\":lon}"
   ]
  },
  {
   "cell_type": "code",
   "execution_count": 9,
   "metadata": {},
   "outputs": [
    {
     "data": {
      "text/html": [
       "<div>\n",
       "<style scoped>\n",
       "    .dataframe tbody tr th:only-of-type {\n",
       "        vertical-align: middle;\n",
       "    }\n",
       "\n",
       "    .dataframe tbody tr th {\n",
       "        vertical-align: top;\n",
       "    }\n",
       "\n",
       "    .dataframe thead th {\n",
       "        text-align: right;\n",
       "    }\n",
       "</style>\n",
       "<table border=\"1\" class=\"dataframe\">\n",
       "  <thead>\n",
       "    <tr style=\"text-align: right;\">\n",
       "      <th></th>\n",
       "      <th>% of Max Occupancy</th>\n",
       "      <th>% of Max Speed</th>\n",
       "      <th>Current Occupancy</th>\n",
       "      <th>Current Speed</th>\n",
       "      <th>Lat</th>\n",
       "      <th>Lon</th>\n",
       "      <th>Max Occupancy</th>\n",
       "      <th>Max Speed</th>\n",
       "    </tr>\n",
       "  </thead>\n",
       "  <tbody>\n",
       "    <tr>\n",
       "      <th>S583</th>\n",
       "      <td>56.26</td>\n",
       "      <td>96.72</td>\n",
       "      <td>2.65</td>\n",
       "      <td>59.0</td>\n",
       "      <td>44.98175</td>\n",
       "      <td>-93.24397</td>\n",
       "      <td>4.71</td>\n",
       "      <td>61.0</td>\n",
       "    </tr>\n",
       "    <tr>\n",
       "      <th>S570</th>\n",
       "      <td>100.00</td>\n",
       "      <td>85.54</td>\n",
       "      <td>3.87</td>\n",
       "      <td>71.0</td>\n",
       "      <td>44.99644</td>\n",
       "      <td>-93.23823</td>\n",
       "      <td>3.87</td>\n",
       "      <td>83.0</td>\n",
       "    </tr>\n",
       "    <tr>\n",
       "      <th>S577</th>\n",
       "      <td>92.06</td>\n",
       "      <td>98.51</td>\n",
       "      <td>3.48</td>\n",
       "      <td>66.0</td>\n",
       "      <td>45.01014</td>\n",
       "      <td>-93.20040</td>\n",
       "      <td>3.78</td>\n",
       "      <td>67.0</td>\n",
       "    </tr>\n",
       "    <tr>\n",
       "      <th>S582</th>\n",
       "      <td>100.00</td>\n",
       "      <td>73.56</td>\n",
       "      <td>5.85</td>\n",
       "      <td>64.0</td>\n",
       "      <td>44.99115</td>\n",
       "      <td>-93.23659</td>\n",
       "      <td>5.85</td>\n",
       "      <td>87.0</td>\n",
       "    </tr>\n",
       "    <tr>\n",
       "      <th>S579</th>\n",
       "      <td>56.10</td>\n",
       "      <td>100.00</td>\n",
       "      <td>2.07</td>\n",
       "      <td>66.0</td>\n",
       "      <td>45.00091</td>\n",
       "      <td>-93.22346</td>\n",
       "      <td>3.69</td>\n",
       "      <td>66.0</td>\n",
       "    </tr>\n",
       "  </tbody>\n",
       "</table>\n",
       "</div>"
      ],
      "text/plain": [
       "      % of Max Occupancy  % of Max Speed  Current Occupancy  Current Speed  \\\n",
       "S583               56.26           96.72               2.65           59.0   \n",
       "S570              100.00           85.54               3.87           71.0   \n",
       "S577               92.06           98.51               3.48           66.0   \n",
       "S582              100.00           73.56               5.85           64.0   \n",
       "S579               56.10          100.00               2.07           66.0   \n",
       "\n",
       "           Lat       Lon  Max Occupancy  Max Speed  \n",
       "S583  44.98175 -93.24397           4.71       61.0  \n",
       "S570  44.99644 -93.23823           3.87       83.0  \n",
       "S577  45.01014 -93.20040           3.78       67.0  \n",
       "S582  44.99115 -93.23659           5.85       87.0  \n",
       "S579  45.00091 -93.22346           3.69       66.0  "
      ]
     },
     "execution_count": 9,
     "metadata": {},
     "output_type": "execute_result"
    },
    {
     "data": {
      "text/html": [
       "<div>\n",
       "<style scoped>\n",
       "    .dataframe tbody tr th:only-of-type {\n",
       "        vertical-align: middle;\n",
       "    }\n",
       "\n",
       "    .dataframe tbody tr th {\n",
       "        vertical-align: top;\n",
       "    }\n",
       "\n",
       "    .dataframe thead th {\n",
       "        text-align: right;\n",
       "    }\n",
       "</style>\n",
       "<table border=\"1\" class=\"dataframe\">\n",
       "  <thead>\n",
       "    <tr style=\"text-align: right;\">\n",
       "      <th></th>\n",
       "      <th>% of Max Occupancy</th>\n",
       "      <th>% of Max Speed</th>\n",
       "      <th>Current Occupancy</th>\n",
       "      <th>Current Speed</th>\n",
       "      <th>Lat</th>\n",
       "      <th>Lon</th>\n",
       "      <th>Max Occupancy</th>\n",
       "      <th>Max Speed</th>\n",
       "    </tr>\n",
       "  </thead>\n",
       "  <tbody>\n",
       "    <tr>\n",
       "      <th>S583</th>\n",
       "      <td>56.26</td>\n",
       "      <td>96.72</td>\n",
       "      <td>2.65</td>\n",
       "      <td>59.0</td>\n",
       "      <td>44.98175</td>\n",
       "      <td>-93.24397</td>\n",
       "      <td>4.71</td>\n",
       "      <td>61.0</td>\n",
       "    </tr>\n",
       "    <tr>\n",
       "      <th>S570</th>\n",
       "      <td>100.00</td>\n",
       "      <td>85.54</td>\n",
       "      <td>3.87</td>\n",
       "      <td>71.0</td>\n",
       "      <td>44.99644</td>\n",
       "      <td>-93.23823</td>\n",
       "      <td>3.87</td>\n",
       "      <td>83.0</td>\n",
       "    </tr>\n",
       "    <tr>\n",
       "      <th>S577</th>\n",
       "      <td>92.06</td>\n",
       "      <td>98.51</td>\n",
       "      <td>3.48</td>\n",
       "      <td>66.0</td>\n",
       "      <td>45.01014</td>\n",
       "      <td>-93.20040</td>\n",
       "      <td>3.78</td>\n",
       "      <td>67.0</td>\n",
       "    </tr>\n",
       "    <tr>\n",
       "      <th>S582</th>\n",
       "      <td>100.00</td>\n",
       "      <td>73.56</td>\n",
       "      <td>5.85</td>\n",
       "      <td>64.0</td>\n",
       "      <td>44.99115</td>\n",
       "      <td>-93.23659</td>\n",
       "      <td>5.85</td>\n",
       "      <td>87.0</td>\n",
       "    </tr>\n",
       "    <tr>\n",
       "      <th>S579</th>\n",
       "      <td>56.10</td>\n",
       "      <td>100.00</td>\n",
       "      <td>2.07</td>\n",
       "      <td>66.0</td>\n",
       "      <td>45.00091</td>\n",
       "      <td>-93.22346</td>\n",
       "      <td>3.69</td>\n",
       "      <td>66.0</td>\n",
       "    </tr>\n",
       "    <tr>\n",
       "      <th>S578</th>\n",
       "      <td>97.49</td>\n",
       "      <td>96.61</td>\n",
       "      <td>3.11</td>\n",
       "      <td>57.0</td>\n",
       "      <td>45.00302</td>\n",
       "      <td>-93.21487</td>\n",
       "      <td>3.19</td>\n",
       "      <td>59.0</td>\n",
       "    </tr>\n",
       "  </tbody>\n",
       "</table>\n",
       "</div>"
      ],
      "text/plain": [
       "      % of Max Occupancy  % of Max Speed  Current Occupancy  Current Speed  \\\n",
       "S583               56.26           96.72               2.65           59.0   \n",
       "S570              100.00           85.54               3.87           71.0   \n",
       "S577               92.06           98.51               3.48           66.0   \n",
       "S582              100.00           73.56               5.85           64.0   \n",
       "S579               56.10          100.00               2.07           66.0   \n",
       "S578               97.49           96.61               3.11           57.0   \n",
       "\n",
       "           Lat       Lon  Max Occupancy  Max Speed  \n",
       "S583  44.98175 -93.24397           4.71       61.0  \n",
       "S570  44.99644 -93.23823           3.87       83.0  \n",
       "S577  45.01014 -93.20040           3.78       67.0  \n",
       "S582  44.99115 -93.23659           5.85       87.0  \n",
       "S579  45.00091 -93.22346           3.69       66.0  \n",
       "S578  45.00302 -93.21487           3.19       59.0  "
      ]
     },
     "execution_count": 9,
     "metadata": {},
     "output_type": "execute_result"
    }
   ],
   "source": [
    "Results = pandas.DataFrame(Results).T\n",
    "Results.head()\n",
    "Results"
   ]
  },
  {
   "cell_type": "code",
   "execution_count": 10,
   "metadata": {},
   "outputs": [],
   "source": [
    "# Results.dtypes\n"
   ]
  },
  {
   "cell_type": "code",
   "execution_count": 11,
   "metadata": {},
   "outputs": [
    {
     "data": {
      "text/plain": [
       "<folium.vector_layers.CircleMarker at 0x10738ff28>"
      ]
     },
     "execution_count": 11,
     "metadata": {},
     "output_type": "execute_result"
    },
    {
     "data": {
      "text/plain": [
       "<folium.vector_layers.CircleMarker at 0x10738fa58>"
      ]
     },
     "execution_count": 11,
     "metadata": {},
     "output_type": "execute_result"
    },
    {
     "data": {
      "text/plain": [
       "<folium.vector_layers.CircleMarker at 0x10bd8a668>"
      ]
     },
     "execution_count": 11,
     "metadata": {},
     "output_type": "execute_result"
    },
    {
     "data": {
      "text/plain": [
       "<folium.vector_layers.CircleMarker at 0x10bd8aeb8>"
      ]
     },
     "execution_count": 11,
     "metadata": {},
     "output_type": "execute_result"
    },
    {
     "data": {
      "text/plain": [
       "<folium.vector_layers.CircleMarker at 0x10bd7f8d0>"
      ]
     },
     "execution_count": 11,
     "metadata": {},
     "output_type": "execute_result"
    },
    {
     "data": {
      "text/plain": [
       "<folium.vector_layers.CircleMarker at 0x10bd7f7f0>"
      ]
     },
     "execution_count": 11,
     "metadata": {},
     "output_type": "execute_result"
    }
   ],
   "source": [
    "folium_map = folium.Map(locations[5],\n",
    "                        zoom_start=13,\n",
    "                        tiles=\"CartoDB positron\")\n",
    "for index, row in Results.iterrows():\n",
    "\n",
    "    \n",
    "    folium.CircleMarker(location=(row[\"Lat\"],\n",
    "                                  row[\"Lon\"]),\n",
    "                        radius=1,\n",
    "                        \n",
    "                        fill=True).add_to(folium_map)"
   ]
  },
  {
   "cell_type": "code",
   "execution_count": 12,
   "metadata": {},
   "outputs": [
    {
     "data": {
      "text/plain": [
       "<folium.vector_layers.PolyLine at 0x10bde12e8>"
      ]
     },
     "execution_count": 12,
     "metadata": {},
     "output_type": "execute_result"
    },
    {
     "data": {
      "text/plain": [
       "<folium.vector_layers.PolyLine at 0x10738fb38>"
      ]
     },
     "execution_count": 12,
     "metadata": {},
     "output_type": "execute_result"
    },
    {
     "data": {
      "text/plain": [
       "<folium.vector_layers.PolyLine at 0x10bd821d0>"
      ]
     },
     "execution_count": 12,
     "metadata": {},
     "output_type": "execute_result"
    },
    {
     "data": {
      "text/plain": [
       "<folium.vector_layers.PolyLine at 0x10bd7f048>"
      ]
     },
     "execution_count": 12,
     "metadata": {},
     "output_type": "execute_result"
    },
    {
     "data": {
      "text/plain": [
       "<folium.vector_layers.PolyLine at 0x10bde1ba8>"
      ]
     },
     "execution_count": 12,
     "metadata": {},
     "output_type": "execute_result"
    }
   ],
   "source": [
    "Features = []\n",
    "Last_Sensor = []\n",
    "for index, row in Results.iterrows():\n",
    "    Current_Sensor = (row['Lat'], row['Lon'])\n",
    "    if Last_Sensor == [] :\n",
    "        Last_Sensor = (row['Lat'], row['Lon'])\n",
    "    else:\n",
    "    \n",
    "        folium.PolyLine([Current_Sensor,Last_Sensor],\n",
    "         weight=row['Current Occupancy'] * 2.5,\n",
    "                        popup=f\"Speed:{row['Current Speed']} Occupancy: {row['Current Occupancy']}\").add_to(folium_map)\n",
    "\n",
    "        Last_Sensor = (row['Lat'], row['Lon'])\n",
    "\n",
    "\n",
    "\n"
   ]
  },
  {
   "cell_type": "code",
   "execution_count": 13,
   "metadata": {},
   "outputs": [
    {
     "data": {
      "text/html": [
       "<div style=\"width:100%;\"><div style=\"position:relative;width:100%;height:0;padding-bottom:60%;\"><iframe src=\"data:text/html;charset=utf-8;base64,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\" style=\"position:absolute;width:100%;height:100%;left:0;top:0;border:none !important;\" allowfullscreen webkitallowfullscreen mozallowfullscreen></iframe></div></div>"
      ],
      "text/plain": [
       "<folium.folium.Map at 0x10738fc18>"
      ]
     },
     "execution_count": 13,
     "metadata": {},
     "output_type": "execute_result"
    }
   ],
   "source": [
    "folium_map\n"
   ]
  },
  {
   "cell_type": "code",
   "execution_count": 14,
   "metadata": {},
   "outputs": [
    {
     "name": "stdout",
     "output_type": "stream",
     "text": [
      "Map saved at results/maps/routemapOct09_233051.html\n"
     ]
    }
   ],
   "source": [
    "folium_map.save(f'results/maps/routemap{datetime.datetime.now().strftime(\"%b%d_%H%M%S\")}.html')\n",
    "print(f'Map saved at results/maps/routemap{datetime.datetime.now().strftime(\"%b%d_%H%M%S\")}.html')"
   ]
  },
  {
   "cell_type": "code",
   "execution_count": null,
   "metadata": {},
   "outputs": [],
   "source": []
  },
  {
   "cell_type": "code",
   "execution_count": 15,
   "metadata": {},
   "outputs": [],
   "source": [
    "import gmaps\n",
    "import sys\n",
    "sys.path.append('../')\n",
    "\n",
    "# Google developer API key\n",
    "from config import gkey,gkey_route\n",
    "gmaps.configure(api_key=gkey)\n",
    "gmaps.configure(api_key=gkey_route)"
   ]
  },
  {
   "cell_type": "code",
   "execution_count": 16,
   "metadata": {},
   "outputs": [
    {
     "data": {
      "application/vnd.jupyter.widget-view+json": {
       "model_id": "96597359f4b74f5582df4d4a5b51ceb6",
       "version_major": 2,
       "version_minor": 0
      },
      "text/plain": [
       "Figure(layout=FigureLayout(height='420px'))"
      ]
     },
     "metadata": {},
     "output_type": "display_data"
    }
   ],
   "source": [
    "\n",
    "fig = gmaps.figure()\n",
    "\n",
    "Last_Sensor = []\n",
    "\n",
    "def color_fuc(x):\n",
    "    if x<15:\n",
    "        color=\"red\"\n",
    "    elif x<45:\n",
    "        color=\"yellow\"\n",
    "    else:\n",
    "        color=\"green\"\n",
    "        \n",
    "    return color\n",
    "for index, row in Results.iterrows():\n",
    "    Current_Sensor = (row['Lat'], row['Lon'])\n",
    "    if Last_Sensor == [] :\n",
    "        Last_Sensor = (row['Lat'], row['Lon'])\n",
    "    else:\n",
    "        directions = gmaps.directions_layer(Current_Sensor, Last_Sensor, stroke_color=color_fuc(row['Current Speed']),stroke_weight=row['Current Occupancy'],show_markers=True)\n",
    "        fig.add_layer(directions)\n",
    "        \n",
    "#         folium.PolyLine([Current_Sensor,Last_Sensor],\n",
    "#          weight=row['Current Occupancy'] * 2.5,\n",
    "#                         popup=f\"Speed:{row['Current Speed']} Occupancy: {row['Current Occupancy']}\").add_to(folium_map)\n",
    "\n",
    "        Last_Sensor = (row['Lat'], row['Lon'])\n",
    "\n",
    "\n",
    "# start=0\n",
    "# for end in range(1,8):\n",
    "#     start_pos=(station_df.loc[start,\"Lat\"],station_df.loc[start,\"Lng\"])\n",
    "#     end_pos=(station_df.loc[end,\"Lat\"],station_df.loc[end,\"Lng\"])\n",
    "   \n",
    "    \n",
    "#     directions = gmaps.directions_layer(start_pos, end_pos, stroke_color='green',stroke_weight=2.0,show_markers=False)\n",
    "#     fig.add_layer(directions)\n",
    "fig   "
   ]
  },
  {
   "cell_type": "code",
   "execution_count": null,
   "metadata": {},
   "outputs": [],
   "source": [
    "# len(Results)\n",
    "# Current_Sensor\n"
   ]
  },
  {
   "cell_type": "code",
   "execution_count": null,
   "metadata": {},
   "outputs": [],
   "source": [
    "# import ipywidgets as widgets\n",
    "# import time\n",
    "# from IPython.display import display\n",
    "\n",
    "# out = widgets.Output(layout={'border': '1px solid black'})\n",
    "# out"
   ]
  },
  {
   "cell_type": "code",
   "execution_count": 18,
   "metadata": {},
   "outputs": [
    {
     "data": {
      "application/vnd.jupyter.widget-view+json": {
       "model_id": "db725730a65e4e9d9e9dd24cc1035014",
       "version_major": 2,
       "version_minor": 0
      },
      "text/plain": [
       "Figure(layout=FigureLayout(height='420px'))"
      ]
     },
     "metadata": {},
     "output_type": "display_data"
    },
    {
     "name": "stdout",
     "output_type": "stream",
     "text": [
      "next? yes/noyes\n"
     ]
    },
    {
     "data": {
      "application/vnd.jupyter.widget-view+json": {
       "model_id": "c8947ba1f36a4f46aa190452b6319b56",
       "version_major": 2,
       "version_minor": 0
      },
      "text/plain": [
       "Figure(layout=FigureLayout(height='420px'))"
      ]
     },
     "metadata": {},
     "output_type": "display_data"
    },
    {
     "name": "stdout",
     "output_type": "stream",
     "text": [
      "next? yes/noyes\n"
     ]
    },
    {
     "data": {
      "application/vnd.jupyter.widget-view+json": {
       "model_id": "2e57f0cbf9744b669508d1019d412e96",
       "version_major": 2,
       "version_minor": 0
      },
      "text/plain": [
       "Figure(layout=FigureLayout(height='420px'))"
      ]
     },
     "metadata": {},
     "output_type": "display_data"
    },
    {
     "name": "stdout",
     "output_type": "stream",
     "text": [
      "next? yes/noyes\n"
     ]
    },
    {
     "data": {
      "application/vnd.jupyter.widget-view+json": {
       "model_id": "66f1c2b404ae4b558afdc49504ea2601",
       "version_major": 2,
       "version_minor": 0
      },
      "text/plain": [
       "Figure(layout=FigureLayout(height='420px'))"
      ]
     },
     "metadata": {},
     "output_type": "display_data"
    },
    {
     "name": "stdout",
     "output_type": "stream",
     "text": [
      "next? yes/noyes\n"
     ]
    },
    {
     "data": {
      "application/vnd.jupyter.widget-view+json": {
       "model_id": "2d4645f889674576a448923db3c9af31",
       "version_major": 2,
       "version_minor": 0
      },
      "text/plain": [
       "Figure(layout=FigureLayout(height='420px'))"
      ]
     },
     "metadata": {},
     "output_type": "display_data"
    },
    {
     "ename": "KeyboardInterrupt",
     "evalue": "",
     "output_type": "error",
     "traceback": [
      "\u001b[0;31m---------------------------------------------------------------------------\u001b[0m",
      "\u001b[0;31mKeyboardInterrupt\u001b[0m                         Traceback (most recent call last)",
      "\u001b[0;32m~/anaconda3/envs/PythonData/lib/python3.6/site-packages/ipykernel/kernelbase.py\u001b[0m in \u001b[0;36m_input_request\u001b[0;34m(self, prompt, ident, parent, password)\u001b[0m\n\u001b[1;32m    728\u001b[0m             \u001b[0;32mtry\u001b[0m\u001b[0;34m:\u001b[0m\u001b[0;34m\u001b[0m\u001b[0m\n\u001b[0;32m--> 729\u001b[0;31m                 \u001b[0mident\u001b[0m\u001b[0;34m,\u001b[0m \u001b[0mreply\u001b[0m \u001b[0;34m=\u001b[0m \u001b[0mself\u001b[0m\u001b[0;34m.\u001b[0m\u001b[0msession\u001b[0m\u001b[0;34m.\u001b[0m\u001b[0mrecv\u001b[0m\u001b[0;34m(\u001b[0m\u001b[0mself\u001b[0m\u001b[0;34m.\u001b[0m\u001b[0mstdin_socket\u001b[0m\u001b[0;34m,\u001b[0m \u001b[0;36m0\u001b[0m\u001b[0;34m)\u001b[0m\u001b[0;34m\u001b[0m\u001b[0m\n\u001b[0m\u001b[1;32m    730\u001b[0m             \u001b[0;32mexcept\u001b[0m \u001b[0mException\u001b[0m\u001b[0;34m:\u001b[0m\u001b[0;34m\u001b[0m\u001b[0m\n",
      "\u001b[0;32m~/anaconda3/envs/PythonData/lib/python3.6/site-packages/jupyter_client/session.py\u001b[0m in \u001b[0;36mrecv\u001b[0;34m(self, socket, mode, content, copy)\u001b[0m\n\u001b[1;32m    802\u001b[0m         \u001b[0;32mtry\u001b[0m\u001b[0;34m:\u001b[0m\u001b[0;34m\u001b[0m\u001b[0m\n\u001b[0;32m--> 803\u001b[0;31m             \u001b[0mmsg_list\u001b[0m \u001b[0;34m=\u001b[0m \u001b[0msocket\u001b[0m\u001b[0;34m.\u001b[0m\u001b[0mrecv_multipart\u001b[0m\u001b[0;34m(\u001b[0m\u001b[0mmode\u001b[0m\u001b[0;34m,\u001b[0m \u001b[0mcopy\u001b[0m\u001b[0;34m=\u001b[0m\u001b[0mcopy\u001b[0m\u001b[0;34m)\u001b[0m\u001b[0;34m\u001b[0m\u001b[0m\n\u001b[0m\u001b[1;32m    804\u001b[0m         \u001b[0;32mexcept\u001b[0m \u001b[0mzmq\u001b[0m\u001b[0;34m.\u001b[0m\u001b[0mZMQError\u001b[0m \u001b[0;32mas\u001b[0m \u001b[0me\u001b[0m\u001b[0;34m:\u001b[0m\u001b[0;34m\u001b[0m\u001b[0m\n",
      "\u001b[0;32m~/anaconda3/envs/PythonData/lib/python3.6/site-packages/zmq/sugar/socket.py\u001b[0m in \u001b[0;36mrecv_multipart\u001b[0;34m(self, flags, copy, track)\u001b[0m\n\u001b[1;32m    465\u001b[0m         \"\"\"\n\u001b[0;32m--> 466\u001b[0;31m         \u001b[0mparts\u001b[0m \u001b[0;34m=\u001b[0m \u001b[0;34m[\u001b[0m\u001b[0mself\u001b[0m\u001b[0;34m.\u001b[0m\u001b[0mrecv\u001b[0m\u001b[0;34m(\u001b[0m\u001b[0mflags\u001b[0m\u001b[0;34m,\u001b[0m \u001b[0mcopy\u001b[0m\u001b[0;34m=\u001b[0m\u001b[0mcopy\u001b[0m\u001b[0;34m,\u001b[0m \u001b[0mtrack\u001b[0m\u001b[0;34m=\u001b[0m\u001b[0mtrack\u001b[0m\u001b[0;34m)\u001b[0m\u001b[0;34m]\u001b[0m\u001b[0;34m\u001b[0m\u001b[0m\n\u001b[0m\u001b[1;32m    467\u001b[0m         \u001b[0;31m# have first part already, only loop while more to receive\u001b[0m\u001b[0;34m\u001b[0m\u001b[0;34m\u001b[0m\u001b[0m\n",
      "\u001b[0;32mzmq/backend/cython/socket.pyx\u001b[0m in \u001b[0;36mzmq.backend.cython.socket.Socket.recv\u001b[0;34m()\u001b[0m\n",
      "\u001b[0;32mzmq/backend/cython/socket.pyx\u001b[0m in \u001b[0;36mzmq.backend.cython.socket.Socket.recv\u001b[0;34m()\u001b[0m\n",
      "\u001b[0;32mzmq/backend/cython/socket.pyx\u001b[0m in \u001b[0;36mzmq.backend.cython.socket._recv_copy\u001b[0;34m()\u001b[0m\n",
      "\u001b[0;32m~/anaconda3/envs/PythonData/lib/python3.6/site-packages/zmq/backend/cython/checkrc.pxd\u001b[0m in \u001b[0;36mzmq.backend.cython.checkrc._check_rc\u001b[0;34m()\u001b[0m\n",
      "\u001b[0;31mKeyboardInterrupt\u001b[0m: ",
      "\nDuring handling of the above exception, another exception occurred:\n",
      "\u001b[0;31mKeyboardInterrupt\u001b[0m                         Traceback (most recent call last)",
      "\u001b[0;32m<ipython-input-18-ee4f9cbcdd6d>\u001b[0m in \u001b[0;36m<module>\u001b[0;34m()\u001b[0m\n\u001b[1;32m     15\u001b[0m         \u001b[0;31m#out.clear_output(wait=True)\u001b[0m\u001b[0;34m\u001b[0m\u001b[0;34m\u001b[0m\u001b[0m\n\u001b[1;32m     16\u001b[0m         \u001b[0mtime\u001b[0m\u001b[0;34m.\u001b[0m\u001b[0msleep\u001b[0m\u001b[0;34m(\u001b[0m\u001b[0;36m5\u001b[0m\u001b[0;34m)\u001b[0m\u001b[0;34m\u001b[0m\u001b[0m\n\u001b[0;32m---> 17\u001b[0;31m         \u001b[0ma\u001b[0m\u001b[0;34m=\u001b[0m\u001b[0minput\u001b[0m\u001b[0;34m(\u001b[0m\u001b[0;34m\"next? yes/no\"\u001b[0m\u001b[0;34m)\u001b[0m\u001b[0;34m\u001b[0m\u001b[0m\n\u001b[0m\u001b[1;32m     18\u001b[0m         \u001b[0;32mif\u001b[0m \u001b[0ma\u001b[0m\u001b[0;34m==\u001b[0m\u001b[0;34m\"no\"\u001b[0m\u001b[0;34m:\u001b[0m\u001b[0;34m\u001b[0m\u001b[0m\n\u001b[1;32m     19\u001b[0m             \u001b[0;32mbreak\u001b[0m\u001b[0;34m\u001b[0m\u001b[0m\n",
      "\u001b[0;32m~/anaconda3/envs/PythonData/lib/python3.6/site-packages/ipykernel/kernelbase.py\u001b[0m in \u001b[0;36mraw_input\u001b[0;34m(self, prompt)\u001b[0m\n\u001b[1;32m    702\u001b[0m             \u001b[0mself\u001b[0m\u001b[0;34m.\u001b[0m\u001b[0m_parent_ident\u001b[0m\u001b[0;34m,\u001b[0m\u001b[0;34m\u001b[0m\u001b[0m\n\u001b[1;32m    703\u001b[0m             \u001b[0mself\u001b[0m\u001b[0;34m.\u001b[0m\u001b[0m_parent_header\u001b[0m\u001b[0;34m,\u001b[0m\u001b[0;34m\u001b[0m\u001b[0m\n\u001b[0;32m--> 704\u001b[0;31m             \u001b[0mpassword\u001b[0m\u001b[0;34m=\u001b[0m\u001b[0;32mFalse\u001b[0m\u001b[0;34m,\u001b[0m\u001b[0;34m\u001b[0m\u001b[0m\n\u001b[0m\u001b[1;32m    705\u001b[0m         )\n\u001b[1;32m    706\u001b[0m \u001b[0;34m\u001b[0m\u001b[0m\n",
      "\u001b[0;32m~/anaconda3/envs/PythonData/lib/python3.6/site-packages/ipykernel/kernelbase.py\u001b[0m in \u001b[0;36m_input_request\u001b[0;34m(self, prompt, ident, parent, password)\u001b[0m\n\u001b[1;32m    732\u001b[0m             \u001b[0;32mexcept\u001b[0m \u001b[0mKeyboardInterrupt\u001b[0m\u001b[0;34m:\u001b[0m\u001b[0;34m\u001b[0m\u001b[0m\n\u001b[1;32m    733\u001b[0m                 \u001b[0;31m# re-raise KeyboardInterrupt, to truncate traceback\u001b[0m\u001b[0;34m\u001b[0m\u001b[0;34m\u001b[0m\u001b[0m\n\u001b[0;32m--> 734\u001b[0;31m                 \u001b[0;32mraise\u001b[0m \u001b[0mKeyboardInterrupt\u001b[0m\u001b[0;34m\u001b[0m\u001b[0m\n\u001b[0m\u001b[1;32m    735\u001b[0m             \u001b[0;32melse\u001b[0m\u001b[0;34m:\u001b[0m\u001b[0;34m\u001b[0m\u001b[0m\n\u001b[1;32m    736\u001b[0m                 \u001b[0;32mbreak\u001b[0m\u001b[0;34m\u001b[0m\u001b[0m\n",
      "\u001b[0;31mKeyboardInterrupt\u001b[0m: "
     ]
    }
   ],
   "source": [
    "\n",
    "#fig = gmaps.figure()\n",
    "import time\n",
    "Last_Sensor = []\n",
    "for index, row in Results.iterrows():\n",
    "    Current_Sensor = (row['Lat'], row['Lon'])\n",
    "    if Last_Sensor == [] :\n",
    "        Last_Sensor = (row['Lat'], row['Lon'])\n",
    "    else:\n",
    "        \n",
    "        fig = gmaps.figure(center=Current_Sensor, zoom_level=14)\n",
    "        directions = gmaps.directions_layer(Last_Sensor, Current_Sensor,stroke_color='green',stroke_weight=row['Current Occupancy'],show_markers=True)\n",
    "        fig.add_layer(directions)\n",
    "        fig\n",
    "        #out.clear_output(wait=True)\n",
    "        time.sleep(5)  \n",
    "        a=input(\"next? yes/no\")\n",
    "        if a==\"no\":\n",
    "            break\n",
    "        else:\n",
    "            pass       \n",
    "        Last_Sensor = (row['Lat'], row['Lon'])\n",
    "\n"
   ]
  },
  {
   "cell_type": "code",
   "execution_count": null,
   "metadata": {},
   "outputs": [],
   "source": [
    "# fig = gmaps.figure(center=(45.00891, -93.20233), zoom_level=13)\n",
    "# fig"
   ]
  },
  {
   "cell_type": "code",
   "execution_count": null,
   "metadata": {},
   "outputs": [],
   "source": []
  },
  {
   "cell_type": "code",
   "execution_count": null,
   "metadata": {},
   "outputs": [],
   "source": []
  }
 ],
 "metadata": {
  "kernelspec": {
   "display_name": "Python [default]",
   "language": "python",
   "name": "python3"
  },
  "language_info": {
   "codemirror_mode": {
    "name": "ipython",
    "version": 3
   },
   "file_extension": ".py",
   "mimetype": "text/x-python",
   "name": "python",
   "nbconvert_exporter": "python",
   "pygments_lexer": "ipython3",
   "version": "3.6.5"
  }
 },
 "nbformat": 4,
 "nbformat_minor": 2
}

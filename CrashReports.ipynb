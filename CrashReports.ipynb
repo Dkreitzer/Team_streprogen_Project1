{
 "cells": [
  {
   "cell_type": "code",
   "execution_count": 1,
   "metadata": {},
   "outputs": [],
   "source": [
    "import pandas as pd\n",
    "import os\n",
    "import xml.etree.ElementTree as ET\n",
    "import gzip\n",
    "import time\n",
    "import shutil\n",
    "import urllib\n",
    "import requests\n",
    "\n"
   ]
  },
  {
   "cell_type": "code",
   "execution_count": null,
   "metadata": {},
   "outputs": [],
   "source": []
  },
  {
   "cell_type": "code",
   "execution_count": 2,
   "metadata": {},
   "outputs": [],
   "source": [
    "def download():\n",
    "  \n",
    "    r = requests.get('http://data.dot.state.mn.us/iris_xml/incident.xml.gz')\n",
    "    with open('incident.xml', 'w') as handle:\n",
    "        handle.write(gzip.decompress(r.content).decode('utf-8'))"
   ]
  },
  {
   "cell_type": "code",
   "execution_count": 3,
   "metadata": {},
   "outputs": [],
   "source": [
    "def unzip(file, target):\n",
    "    unzipa(file, target)\n",
    "    unzipb(file, target)"
   ]
  },
  {
   "cell_type": "code",
   "execution_count": 4,
   "metadata": {},
   "outputs": [],
   "source": [
    "def unzipa(file, target):\n",
    "    attempts = 0 \n",
    "    try:\n",
    "        with gzip.open(file, 'rb') as f_in:\n",
    "            with open(target, 'wb') as f_out:\n",
    "                shutil.copyfileobj(f_in, f_out)\n",
    "    except FileNotFoundError:\n",
    "        print(\"File not found, retrying in 10 secs\")\n",
    "        time.sleep(10)\n"
   ]
  },
  {
   "cell_type": "code",
   "execution_count": 5,
   "metadata": {},
   "outputs": [],
   "source": [
    "def unzipb(file, target):\n",
    "    attempts = 0 \n",
    "    try:\n",
    "        with gzip.open(file, 'rb') as f_in:\n",
    "            with open(target, 'wb') as f_out:\n",
    "                shutil.copyfileobj(f_in, f_out)\n",
    "    except FileNotFoundError:\n",
    "        print(\"File not found, giving up\")"
   ]
  },
  {
   "cell_type": "code",
   "execution_count": 6,
   "metadata": {},
   "outputs": [],
   "source": [
    "def data_check(XMLfile):\n",
    "    try:\n",
    "        with open('crash_data.csv', 'r') as CD:\n",
    "            parse(XMLfile)\n",
    "    except FileNotFoundError:\n",
    "            All_Crash_Data = pd.DataFrame(columns=['Name', 'Date', 'Direction', 'Road', 'Location', 'Event'])\n",
    "            with open('crash_data.csv', 'w') as f:\n",
    "                All_Crash_Data.to_csv(f, header=True)\n",
    "            parse(XMLfile)\n"
   ]
  },
  {
   "cell_type": "code",
   "execution_count": 7,
   "metadata": {},
   "outputs": [],
   "source": [
    "def parse(XMLfile):\n",
    "    with open('crash_data.csv', 'r') as CD:\n",
    "           All_Crash_Data = pd.read_csv(CD)\n",
    "\n",
    "    dates = []\n",
    "    incident_dirs = []\n",
    "    roads = []\n",
    "    locations = []\n",
    "    names = []\n",
    "    events = []\n",
    "    \n",
    "    parsedXML = ET.parse(XMLfile)\n",
    "    root = parsedXML.getroot()\n",
    "    for child in root:\n",
    "        if child.attrib['name'] not in str(All_Crash_Data['Name']):\n",
    "            try:\n",
    "                dates.append(child.attrib['event_date'])\n",
    "            except KeyError:\n",
    "                dates.append(\"none\")\n",
    "            try:\n",
    "                names.append(str(child.attrib['name']))\n",
    "            except KeyError:\n",
    "                name.append(\"none\")\n",
    "            try:\n",
    "                incident_dirs.append(child.attrib['dir'])\n",
    "            except KeyError:\n",
    "                incident_dir.append(\"none\")\n",
    "            try:\n",
    "                roads.append(child.attrib['road'])\n",
    "            except KeyError:\n",
    "                roads.append('None')\n",
    "            try:\n",
    "                locations.append(child.attrib['location'])\n",
    "            except KeyError:\n",
    "                locations.append(\"none\")\n",
    "            try: \n",
    "                events.append(child.attrib['event_type'])\n",
    "            except KeyError:\n",
    "                events.append(\"none\")\n",
    "  \n",
    "\n",
    "\n",
    "    DF = pd.DataFrame({\"Name\" : names,\n",
    "                       \"Date\" : dates,\n",
    "                       \"Direction\": incident_dirs,\n",
    "                       \"Road\" : roads,\n",
    "                       \"Location\" : locations,\n",
    "                       \"Event\" : events})\n",
    "    \n",
    "    print(DF)\n",
    "\n",
    "\n",
    "    with open('crash_data.csv', 'a') as f:\n",
    "        DF.to_csv(f, header=False)\n"
   ]
  },
  {
   "cell_type": "code",
   "execution_count": 12,
   "metadata": {},
   "outputs": [],
   "source": [
    "download()"
   ]
  },
  {
   "cell_type": "code",
   "execution_count": 13,
   "metadata": {},
   "outputs": [],
   "source": [
    "unzip(\"incidents.xml.gz\", \"incident.xml\")"
   ]
  },
  {
   "cell_type": "code",
   "execution_count": 15,
   "metadata": {},
   "outputs": [
    {
     "name": "stdout",
     "output_type": "stream",
     "text": [
      "                Name                          Date Direction     Road  \\\n",
      "0   2018092819553371  Fri Sep 28 19:55:33 CDT 2018        WB   T.H.62   \n",
      "1       L004_9940513  Sat Sep 29 19:56:42 CDT 2018        NB    I-35E   \n",
      "2       L004_9940567  Sat Sep 29 20:32:52 CDT 2018        WB  T.H.212   \n",
      "3   2018092819531862  Fri Sep 28 19:53:18 CDT 2018        SB  U.S.169   \n",
      "4   2018092819533003  Fri Sep 28 19:53:30 CDT 2018        NB  U.S.169   \n",
      "5       L004_9940545  Sat Sep 29 20:20:02 CDT 2018        WB     I-90   \n",
      "6   2018092819315453  Fri Sep 28 19:31:54 CDT 2018        NB  T.H.100   \n",
      "7   2018092820101610  Fri Sep 28 20:10:16 CDT 2018        SB    I-35W   \n",
      "8   2018092820040732  Fri Sep 28 20:04:07 CDT 2018        SB    I-35E   \n",
      "9   2018092820090159  Fri Sep 28 20:09:01 CDT 2018        WB   T.H.36   \n",
      "10  2018092819042630  Fri Sep 28 19:04:26 CDT 2018        SB  T.H.100   \n",
      "\n",
      "           Location              Event  \n",
      "0         @ T.H.100  INCIDENT_ROADWORK  \n",
      "1              none     INCIDENT_STALL  \n",
      "2              none     INCIDENT_CRASH  \n",
      "3       @ T.H.62 WB  INCIDENT_ROADWORK  \n",
      "4       @ T.H.62 WB  INCIDENT_ROADWORK  \n",
      "5              none    INCIDENT_HAZARD  \n",
      "6       @ T.H.62 WB  INCIDENT_ROADWORK  \n",
      "7   @ Cleveland Ave  INCIDENT_ROADWORK  \n",
      "8        S of I-35W  INCIDENT_ROADWORK  \n",
      "9   @ Cleveland Ave  INCIDENT_ROADWORK  \n",
      "10      @ T.H.62 WB  INCIDENT_ROADWORK  \n"
     ]
    }
   ],
   "source": [
    "data_check(\"incident.xml\")"
   ]
  },
  {
   "cell_type": "code",
   "execution_count": null,
   "metadata": {},
   "outputs": [],
   "source": []
  },
  {
   "cell_type": "code",
   "execution_count": null,
   "metadata": {},
   "outputs": [],
   "source": []
  }
 ],
 "metadata": {
  "kernelspec": {
   "display_name": "Python [conda env:PythonData]",
   "language": "python",
   "name": "conda-env-PythonData-py"
  },
  "language_info": {
   "codemirror_mode": {
    "name": "ipython",
    "version": 3
   },
   "file_extension": ".py",
   "mimetype": "text/x-python",
   "name": "python",
   "nbconvert_exporter": "python",
   "pygments_lexer": "ipython3",
   "version": "3.6.5"
  }
 },
 "nbformat": 4,
 "nbformat_minor": 2
}

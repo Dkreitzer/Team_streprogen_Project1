{
 "cells": [
  {
   "cell_type": "code",
   "execution_count": 1,
   "metadata": {},
   "outputs": [],
   "source": [
    "import pandas as pd\n",
    "import requests \n",
    "import os\n",
    "import xml.etree.ElementTree as ET\n",
    "import gzip\n",
    "\n",
    "\n"
   ]
  },
  {
   "cell_type": "code",
   "execution_count": 2,
   "metadata": {},
   "outputs": [],
   "source": [
    "def unzip():\n",
    "    with gzip.open('incident.xml.gz', 'rb') as f_in:\n",
    "        with open('incident.xml', 'wb') as f_out:\n",
    "            shutil.copyfileobj(f_in, f_out)\n",
    "\n"
   ]
  },
  {
   "cell_type": "code",
   "execution_count": 8,
   "metadata": {},
   "outputs": [],
   "source": [
    "def incidents():\n",
    "    incident_dirs = []\n",
    "    roads = []\n",
    "    locations = []\n",
    "    names = []\n",
    "    events = []\n",
    "    parsedXML = ET.parse( \"incident.xml\" )\n",
    "    root = parsedXML.getroot()\n",
    "    for child in root:\n",
    "        names.append(child.attrib['name'])\n",
    "        incident_dirs.append(child.attrib['dir'])\n",
    "        roads.append(child.attrib['road'])\n",
    "        locations.append(child.attrib['location'])\n",
    "        events.append(child.attrib['event_type'])\n",
    " \n",
    "\n",
    "    DF = pd.DataFrame({\"name\" : names,\n",
    "                       \"direction\" :incident_dirs,\n",
    "                       \"Road\" : roads,\n",
    "                       \"Location\" : locations,\n",
    "                       \"Event\" : events\n",
    "\n",
    "    })\n",
    "    print(DF)\n",
    "\n",
    "\n",
    "\n",
    "\n"
   ]
  },
  {
   "cell_type": "code",
   "execution_count": 9,
   "metadata": {},
   "outputs": [
    {
     "name": "stdout",
     "output_type": "stream",
     "text": [
      "               name direction     Road         Location              Event\n",
      "0  2018092819553371        WB   T.H.62        @ T.H.100  INCIDENT_ROADWORK\n",
      "1  2018092819531862        SB  U.S.169      @ T.H.62 WB  INCIDENT_ROADWORK\n",
      "2  2018092819533003        NB  U.S.169      @ T.H.62 WB  INCIDENT_ROADWORK\n",
      "3      L004_9939905        NB    I-35W     @ T.H.121 NB     INCIDENT_CRASH\n",
      "4  2018092819315453        NB  T.H.100      @ T.H.62 WB  INCIDENT_ROADWORK\n",
      "5  2018092820101610        SB    I-35W  @ Cleveland Ave  INCIDENT_ROADWORK\n",
      "6      L004_9940001        NB  T.H.100       @ I-394 WB     INCIDENT_STALL\n",
      "7  2018092820040732        SB    I-35E       S of I-35W  INCIDENT_ROADWORK\n",
      "8  2018092820090159        WB   T.H.36  @ Cleveland Ave  INCIDENT_ROADWORK\n",
      "9  2018092819042630        SB  T.H.100      @ T.H.62 WB  INCIDENT_ROADWORK\n"
     ]
    }
   ],
   "source": [
    "incidents()"
   ]
  },
  {
   "cell_type": "code",
   "execution_count": 5,
   "metadata": {},
   "outputs": [
    {
     "ename": "NameError",
     "evalue": "name 'DF' is not defined",
     "output_type": "error",
     "traceback": [
      "\u001b[1;31m---------------------------------------------------------------------------\u001b[0m",
      "\u001b[1;31mNameError\u001b[0m                                 Traceback (most recent call last)",
      "\u001b[1;32m<ipython-input-5-8d962b2673f1>\u001b[0m in \u001b[0;36m<module>\u001b[1;34m()\u001b[0m\n\u001b[1;32m----> 1\u001b[1;33m \u001b[0mDF\u001b[0m\u001b[1;33m\u001b[0m\u001b[0m\n\u001b[0m",
      "\u001b[1;31mNameError\u001b[0m: name 'DF' is not defined"
     ]
    }
   ],
   "source": []
  },
  {
   "cell_type": "code",
   "execution_count": null,
   "metadata": {},
   "outputs": [],
   "source": []
  }
 ],
 "metadata": {
  "kernelspec": {
   "display_name": "Python [conda env:PythonData]",
   "language": "python",
   "name": "conda-env-PythonData-py"
  },
  "language_info": {
   "codemirror_mode": {
    "name": "ipython",
    "version": 3
   },
   "file_extension": ".py",
   "mimetype": "text/x-python",
   "name": "python",
   "nbconvert_exporter": "python",
   "pygments_lexer": "ipython3",
   "version": "3.6.5"
  }
 },
 "nbformat": 4,
 "nbformat_minor": 2
}

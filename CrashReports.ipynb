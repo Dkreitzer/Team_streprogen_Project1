{
 "cells": [
  {
   "cell_type": "code",
   "execution_count": 1,
   "metadata": {},
   "outputs": [],
   "source": [
    "import pandas as pd\n",
    "import requests \n",
    "import os\n",
    "import xml.etree.ElementTree as ET\n",
    "import gzip\n",
    "import shutil\n",
    "\n"
   ]
  },
  {
   "cell_type": "code",
   "execution_count": 2,
   "metadata": {},
   "outputs": [],
   "source": [
    "def unzip(file, target):\n",
    "    with gzip.open(file, 'rb') as f_in:\n",
    "        with open(target, 'wb') as f_out:\n",
    "            shutil.copyfileobj(f_in, f_out)\n",
    "\n"
   ]
  },
  {
   "cell_type": "code",
   "execution_count": 3,
   "metadata": {},
   "outputs": [],
   "source": [
    "def incidents(XMLfile):\n",
    "    incident_dirs = []\n",
    "    roads = []\n",
    "    locations = []\n",
    "    names = []\n",
    "    events = []\n",
    "    parsedXML = ET.parse(XMLfile)\n",
    "    root = parsedXML.getroot()\n",
    "    for child in root:\n",
    "        try:\n",
    "            names.append(child.attrib['name'])\n",
    "        except KeyError:\n",
    "            name.append(\"none\")\n",
    "        try:\n",
    "            incident_dirs.append(child.attrib['dir'])\n",
    "        except KeyError:\n",
    "            incident_dir.append(\"none\")\n",
    "        try:\n",
    "            roads.append(child.attrib['road'])\n",
    "        except KeyError:\n",
    "            roads.append('None')\n",
    "        try:\n",
    "            locations.append(child.attrib['location'])\n",
    "        except KeyError:\n",
    "            locations.append(\"none\")\n",
    "        try: \n",
    "            events.append(child.attrib['event_type'])\n",
    "        except KeyError:\n",
    "            events.append(\"none\")\n",
    "   \n",
    "\n",
    "    DF = pd.DataFrame({\"name\" : names,\n",
    "                       \"direction\" :incident_dirs,\n",
    "                       \"Road\" : roads,\n",
    "                       \"Location\" : locations,\n",
    "                       \"Event\" : events\n",
    "    \n",
    "                       \n",
    "    })\n",
    "    \n",
    "    print(DF)\n",
    "\n",
    "\n",
    "\n",
    "\n"
   ]
  },
  {
   "cell_type": "code",
   "execution_count": 4,
   "metadata": {},
   "outputs": [],
   "source": [
    "unzip(\"incident.xml.gz\", \"incident.xml\")"
   ]
  },
  {
   "cell_type": "code",
   "execution_count": 5,
   "metadata": {},
   "outputs": [
    {
     "name": "stdout",
     "output_type": "stream",
     "text": [
      "                name direction     Road         Location              Event\n",
      "0       L004_9940096        NB  U.S.169    S of 77th Ave     INCIDENT_CRASH\n",
      "1       L004_9940078        EB     I-94         @ T.H.24     INCIDENT_STALL\n",
      "2   2018092819553371        WB   T.H.62        @ T.H.100  INCIDENT_ROADWORK\n",
      "3   2018092819531862        SB  U.S.169      @ T.H.62 WB  INCIDENT_ROADWORK\n",
      "4   2018092819533003        NB  U.S.169      @ T.H.62 WB  INCIDENT_ROADWORK\n",
      "5   2018092916221139        SB  T.H.100       @ I-494 WB     INCIDENT_CRASH\n",
      "6   2018092916530233        WB    I-694        @ 10th St     INCIDENT_STALL\n",
      "7       L004_9940131        WB  T.H.212             none     INCIDENT_CRASH\n",
      "8   2018092819315453        NB  T.H.100      @ T.H.62 WB  INCIDENT_ROADWORK\n",
      "9       L004_9940124        WB    I-494      @ T.H.61 SB     INCIDENT_STALL\n",
      "10  2018092820101610        SB    I-35W  @ Cleveland Ave  INCIDENT_ROADWORK\n",
      "11      L004_9940142        EB    T.H.7      @ C.S.A.H.1     INCIDENT_STALL\n",
      "12      L004_9940105        SB  T.H.100        @ 70th St     INCIDENT_CRASH\n",
      "13      L004_9940114        SB     I-35       @ Co Rd 23     INCIDENT_STALL\n",
      "14  2018092820040732        SB    I-35E       S of I-35W  INCIDENT_ROADWORK\n",
      "15  2018092820090159        WB   T.H.36  @ Cleveland Ave  INCIDENT_ROADWORK\n",
      "16  2018092819042630        SB  T.H.100      @ T.H.62 WB  INCIDENT_ROADWORK\n"
     ]
    }
   ],
   "source": [
    "incidents(\"incident.xml\")"
   ]
  },
  {
   "cell_type": "code",
   "execution_count": null,
   "metadata": {},
   "outputs": [],
   "source": []
  }
 ],
 "metadata": {
  "kernelspec": {
   "display_name": "Python [conda env:PythonData]",
   "language": "python",
   "name": "conda-env-PythonData-py"
  },
  "language_info": {
   "codemirror_mode": {
    "name": "ipython",
    "version": 3
   },
   "file_extension": ".py",
   "mimetype": "text/x-python",
   "name": "python",
   "nbconvert_exporter": "python",
   "pygments_lexer": "ipython3",
   "version": "3.6.5"
  }
 },
 "nbformat": 4,
 "nbformat_minor": 2
}

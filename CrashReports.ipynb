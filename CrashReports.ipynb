{
 "cells": [
  {
   "cell_type": "code",
   "execution_count": 1,
   "metadata": {},
   "outputs": [],
   "source": [
    "import pandas as pd\n",
    "import requests \n",
    "import os\n",
    "import xml.etree.ElementTree as ET\n",
    "import gzip\n",
    "import time\n",
    "import shutil\n",
    "import urllib\n",
    "\n"
   ]
  },
  {
   "cell_type": "code",
   "execution_count": null,
   "metadata": {},
   "outputs": [],
   "source": []
  },
  {
   "cell_type": "code",
   "execution_count": 2,
   "metadata": {},
   "outputs": [],
   "source": [
    "def download():\n",
    "    url = \"http://data.dot.state.mn.us/iris_xml/incident.xml.gz\"\n",
    "    content = urllib.request.urlopen(url)\n",
    "    output = open(\"incidents.XML.gz\", \"wb\")\n",
    "    output.write(content.read())\n",
    "    output.close()\n",
    "    print(\"Downloading Incident Data\")"
   ]
  },
  {
   "cell_type": "code",
   "execution_count": 3,
   "metadata": {},
   "outputs": [],
   "source": [
    "def unzip(file, target):\n",
    "    unzipa(file, target)\n",
    "    unzipb(file, target)"
   ]
  },
  {
   "cell_type": "code",
   "execution_count": 4,
   "metadata": {},
   "outputs": [],
   "source": [
    "def unzipa(file, target):\n",
    "    attempts = 0 \n",
    "    try:\n",
    "        with gzip.open(file, 'rb') as f_in:\n",
    "            with open(target, 'wb') as f_out:\n",
    "                shutil.copyfileobj(f_in, f_out)\n",
    "    except FileNotFoundError:\n",
    "        print(\"File not found, retrying in 10 secs\")\n",
    "        time.sleep(10)\n"
   ]
  },
  {
   "cell_type": "code",
   "execution_count": 5,
   "metadata": {},
   "outputs": [],
   "source": [
    "def unzipb(file, target):\n",
    "    attempts = 0 \n",
    "    try:\n",
    "        with gzip.open(file, 'rb') as f_in:\n",
    "            with open(target, 'wb') as f_out:\n",
    "                shutil.copyfileobj(f_in, f_out)\n",
    "    except FileNotFoundError:\n",
    "        print(\"File not found, giving up\")"
   ]
  },
  {
   "cell_type": "code",
   "execution_count": 6,
   "metadata": {},
   "outputs": [],
   "source": [
    "def parse(XMLfile):\n",
    "    dates = []\n",
    "    incident_dirs = []\n",
    "    roads = []\n",
    "    locations = []\n",
    "    names = []\n",
    "    events = []\n",
    "    parsedXML = ET.parse(XMLfile)\n",
    "    root = parsedXML.getroot()\n",
    "    for child in root:\n",
    "        try:\n",
    "            dates.append(child.attrib['event_date'])\n",
    "        except KeyError:\n",
    "            dates.append(\"none\")\n",
    "        try:\n",
    "            names.append(child.attrib['name'])\n",
    "        except KeyError:\n",
    "            name.append(\"none\")\n",
    "        try:\n",
    "            incident_dirs.append(child.attrib['dir'])\n",
    "        except KeyError:\n",
    "            incident_dir.append(\"none\")\n",
    "        try:\n",
    "            roads.append(child.attrib['road'])\n",
    "        except KeyError:\n",
    "            roads.append('None')\n",
    "        try:\n",
    "            locations.append(child.attrib['location'])\n",
    "        except KeyError:\n",
    "            locations.append(\"none\")\n",
    "        try: \n",
    "            events.append(child.attrib['event_type'])\n",
    "        except KeyError:\n",
    "            events.append(\"none\")\n",
    "   \n",
    "\n",
    "    DF = pd.DataFrame({\"Name\" : names,\n",
    "                       \"Date\" : dates,\n",
    "                       \"Direction\": incident_dirs,\n",
    "                       \"Road\" : roads,\n",
    "                       \"Location\" : locations,\n",
    "                       \"Event\" : events\n",
    "    \n",
    "                       \n",
    "    })\n",
    "    \n",
    "    print(DF)\n",
    "\n",
    "\n",
    "\n",
    "\n"
   ]
  },
  {
   "cell_type": "code",
   "execution_count": 7,
   "metadata": {},
   "outputs": [
    {
     "name": "stdout",
     "output_type": "stream",
     "text": [
      "Downloading Incident Data\n"
     ]
    }
   ],
   "source": [
    "download()"
   ]
  },
  {
   "cell_type": "code",
   "execution_count": 8,
   "metadata": {},
   "outputs": [],
   "source": [
    "unzip(\"incidents.xml.gz\", \"incident.xml\")"
   ]
  },
  {
   "cell_type": "code",
   "execution_count": 9,
   "metadata": {},
   "outputs": [
    {
     "name": "stdout",
     "output_type": "stream",
     "text": [
      "                Name                          Date Direction     Road  \\\n",
      "0   2018092819553371  Fri Sep 28 19:55:33 CDT 2018        WB   T.H.62   \n",
      "1   2018092819531862  Fri Sep 28 19:53:18 CDT 2018        SB  U.S.169   \n",
      "2   2018092819533003  Fri Sep 28 19:53:30 CDT 2018        NB  U.S.169   \n",
      "3   2018092819315453  Fri Sep 28 19:31:54 CDT 2018        NB  T.H.100   \n",
      "4   2018092820101610  Fri Sep 28 20:10:16 CDT 2018        SB    I-35W   \n",
      "5       L004_9940258  Sat Sep 29 17:46:42 CDT 2018        NB   T.H.77   \n",
      "6       L004_9940241  Sat Sep 29 17:39:42 CDT 2018        NB  U.S.169   \n",
      "7   2018092820040732  Fri Sep 28 20:04:07 CDT 2018        SB    I-35E   \n",
      "8   2018092820090159  Fri Sep 28 20:09:01 CDT 2018        WB   T.H.36   \n",
      "9   2018092819042630  Fri Sep 28 19:04:26 CDT 2018        SB  T.H.100   \n",
      "10      L004_9940285  Sat Sep 29 17:56:02 CDT 2018        WB     I-94   \n",
      "11      L004_9940286  Sat Sep 29 17:56:42 CDT 2018        WB     I-90   \n",
      "12      L004_9940284  Sat Sep 29 17:56:22 CDT 2018        NB   T.H.52   \n",
      "\n",
      "                 Location              Event  \n",
      "0               @ T.H.100  INCIDENT_ROADWORK  \n",
      "1             @ T.H.62 WB  INCIDENT_ROADWORK  \n",
      "2             @ T.H.62 WB  INCIDENT_ROADWORK  \n",
      "3             @ T.H.62 WB  INCIDENT_ROADWORK  \n",
      "4         @ Cleveland Ave  INCIDENT_ROADWORK  \n",
      "5             @ Lindau Ln     INCIDENT_CRASH  \n",
      "6   @ Anderson Lakes Pkwy     INCIDENT_STALL  \n",
      "7              S of I-35W  INCIDENT_ROADWORK  \n",
      "8         @ Cleveland Ave  INCIDENT_ROADWORK  \n",
      "9             @ T.H.62 WB  INCIDENT_ROADWORK  \n",
      "10               @ 7th St     INCIDENT_CRASH  \n",
      "11                   none     INCIDENT_STALL  \n",
      "12                   none     INCIDENT_STALL  \n"
     ]
    }
   ],
   "source": [
    "parse(\"incident.xml\")"
   ]
  },
  {
   "cell_type": "code",
   "execution_count": null,
   "metadata": {},
   "outputs": [],
   "source": []
  },
  {
   "cell_type": "code",
   "execution_count": null,
   "metadata": {},
   "outputs": [],
   "source": []
  }
 ],
 "metadata": {
  "kernelspec": {
   "display_name": "Python [conda env:PythonData]",
   "language": "python",
   "name": "conda-env-PythonData-py"
  },
  "language_info": {
   "codemirror_mode": {
    "name": "ipython",
    "version": 3
   },
   "file_extension": ".py",
   "mimetype": "text/x-python",
   "name": "python",
   "nbconvert_exporter": "python",
   "pygments_lexer": "ipython3",
   "version": "3.6.5"
  }
 },
 "nbformat": 4,
 "nbformat_minor": 2
}

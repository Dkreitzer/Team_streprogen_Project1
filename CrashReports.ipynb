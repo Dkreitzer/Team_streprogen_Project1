{
 "cells": [
  {
   "cell_type": "code",
   "execution_count": 22,
   "metadata": {},
   "outputs": [],
   "source": [
    "import pandas as pd\n",
    "import requests \n",
    "import os\n",
    "import xml.etree.ElementTree as ET\n",
    "import gzip\n",
    "import shutil\n",
    "import urllib\n",
    "\n"
   ]
  },
  {
   "cell_type": "code",
   "execution_count": 37,
   "metadata": {},
   "outputs": [],
   "source": [
    "\n",
    "url = \"http://data.dot.state.mn.us/iris_xml/incident.xml.gz\"\n",
    "content = urllib.request.urlopen(url)\n",
    "output = open(\"incidents.XML.gz\", \"wb\")\n",
    "output.write(content.read())\n",
    "output.close()\n"
   ]
  },
  {
   "cell_type": "code",
   "execution_count": 10,
   "metadata": {},
   "outputs": [
    {
     "data": {
      "text/plain": [
       "<Response [200]>"
      ]
     },
     "execution_count": 10,
     "metadata": {},
     "output_type": "execute_result"
    }
   ],
   "source": []
  },
  {
   "cell_type": "code",
   "execution_count": 2,
   "metadata": {},
   "outputs": [],
   "source": [
    "def unzip(file, target):\n",
    "    with gzip.open(file, 'rb') as f_in:\n",
    "        with open(target, 'wb') as f_out:\n",
    "            shutil.copyfileobj(f_in, f_out)\n",
    "\n"
   ]
  },
  {
   "cell_type": "code",
   "execution_count": 6,
   "metadata": {},
   "outputs": [],
   "source": [
    "def parse(XMLfile):\n",
    "    incident_dirs = []\n",
    "    roads = []\n",
    "    locations = []\n",
    "    names = []\n",
    "    events = []\n",
    "    parsedXML = ET.parse(XMLfile)\n",
    "    root = parsedXML.getroot()\n",
    "    for child in root:\n",
    "        try:\n",
    "            names.append(child.attrib['name'])\n",
    "        except KeyError:\n",
    "            name.append(\"none\")\n",
    "        try:\n",
    "            incident_dirs.append(child.attrib['dir'])\n",
    "        except KeyError:\n",
    "            incident_dir.append(\"none\")\n",
    "        try:\n",
    "            roads.append(child.attrib['road'])\n",
    "        except KeyError:\n",
    "            roads.append('None')\n",
    "        try:\n",
    "            locations.append(child.attrib['location'])\n",
    "        except KeyError:\n",
    "            locations.append(\"none\")\n",
    "        try: \n",
    "            events.append(child.attrib['event_type'])\n",
    "        except KeyError:\n",
    "            events.append(\"none\")\n",
    "   \n",
    "\n",
    "    DF = pd.DataFrame({\"name\" : names,\n",
    "                       \"direction\" :incident_dirs,\n",
    "                       \"Road\" : roads,\n",
    "                       \"Location\" : locations,\n",
    "                       \"Event\" : events\n",
    "    \n",
    "                       \n",
    "    })\n",
    "    \n",
    "    print(DF)\n",
    "\n",
    "\n",
    "\n",
    "\n"
   ]
  },
  {
   "cell_type": "code",
   "execution_count": 38,
   "metadata": {},
   "outputs": [],
   "source": [
    "unzip(\"incidents.xml.gz\", \"incident.xml\")"
   ]
  },
  {
   "cell_type": "code",
   "execution_count": 39,
   "metadata": {},
   "outputs": [
    {
     "name": "stdout",
     "output_type": "stream",
     "text": [
      "               name direction     Road               Location  \\\n",
      "0  2018092819553371        WB   T.H.62              @ T.H.100   \n",
      "1  2018092819531862        SB  U.S.169            @ T.H.62 WB   \n",
      "2  2018092819533003        NB  U.S.169            @ T.H.62 WB   \n",
      "3  2018092819315453        NB  T.H.100            @ T.H.62 WB   \n",
      "4  2018092820101610        SB    I-35W        @ Cleveland Ave   \n",
      "5      L004_9940258        NB   T.H.77            @ Lindau Ln   \n",
      "6      L004_9940241        NB  U.S.169  @ Anderson Lakes Pkwy   \n",
      "7  2018092820040732        SB    I-35E             S of I-35W   \n",
      "8  2018092820090159        WB   T.H.36        @ Cleveland Ave   \n",
      "9  2018092819042630        SB  T.H.100            @ T.H.62 WB   \n",
      "\n",
      "               Event  \n",
      "0  INCIDENT_ROADWORK  \n",
      "1  INCIDENT_ROADWORK  \n",
      "2  INCIDENT_ROADWORK  \n",
      "3  INCIDENT_ROADWORK  \n",
      "4  INCIDENT_ROADWORK  \n",
      "5     INCIDENT_CRASH  \n",
      "6     INCIDENT_STALL  \n",
      "7  INCIDENT_ROADWORK  \n",
      "8  INCIDENT_ROADWORK  \n",
      "9  INCIDENT_ROADWORK  \n"
     ]
    }
   ],
   "source": [
    "parse(\"incident.xml\")"
   ]
  },
  {
   "cell_type": "code",
   "execution_count": null,
   "metadata": {},
   "outputs": [],
   "source": []
  },
  {
   "cell_type": "code",
   "execution_count": null,
   "metadata": {},
   "outputs": [],
   "source": []
  }
 ],
 "metadata": {
  "kernelspec": {
   "display_name": "Python [conda env:PythonData]",
   "language": "python",
   "name": "conda-env-PythonData-py"
  },
  "language_info": {
   "codemirror_mode": {
    "name": "ipython",
    "version": 3
   },
   "file_extension": ".py",
   "mimetype": "text/x-python",
   "name": "python",
   "nbconvert_exporter": "python",
   "pygments_lexer": "ipython3",
   "version": "3.6.5"
  }
 },
 "nbformat": 4,
 "nbformat_minor": 2
}

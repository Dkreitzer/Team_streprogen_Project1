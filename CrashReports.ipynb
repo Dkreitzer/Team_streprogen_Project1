{
 "cells": [
  {
   "cell_type": "code",
   "execution_count": 1,
   "metadata": {},
   "outputs": [],
   "source": [
    "import pandas as pd\n",
    "import os\n",
    "import xml.etree.ElementTree as ET\n",
    "import gzip\n",
    "import time\n",
    "import shutil\n",
    "import urllib\n",
    "\n"
   ]
  },
  {
   "cell_type": "code",
   "execution_count": null,
   "metadata": {},
   "outputs": [],
   "source": []
  },
  {
   "cell_type": "code",
   "execution_count": 2,
   "metadata": {},
   "outputs": [],
   "source": [
    "def download():\n",
    "    url = \"http://data.dot.state.mn.us/iris_xml/incident.xml.gz\"\n",
    "    content = urllib.request.urlopen(url)\n",
    "    output = open(\"incidents.XML.gz\", \"wb\")\n",
    "    output.write(content.read())\n",
    "    output.close()\n",
    "    print(\"Downloading Incident Data\")"
   ]
  },
  {
   "cell_type": "code",
   "execution_count": 3,
   "metadata": {},
   "outputs": [],
   "source": [
    "def unzip(file, target):\n",
    "    unzipa(file, target)\n",
    "    unzipb(file, target)"
   ]
  },
  {
   "cell_type": "code",
   "execution_count": 4,
   "metadata": {},
   "outputs": [],
   "source": [
    "def unzipa(file, target):\n",
    "    attempts = 0 \n",
    "    try:\n",
    "        with gzip.open(file, 'rb') as f_in:\n",
    "            with open(target, 'wb') as f_out:\n",
    "                shutil.copyfileobj(f_in, f_out)\n",
    "    except FileNotFoundError:\n",
    "        print(\"File not found, retrying in 10 secs\")\n",
    "        time.sleep(10)\n"
   ]
  },
  {
   "cell_type": "code",
   "execution_count": 5,
   "metadata": {},
   "outputs": [],
   "source": [
    "def unzipb(file, target):\n",
    "    attempts = 0 \n",
    "    try:\n",
    "        with gzip.open(file, 'rb') as f_in:\n",
    "            with open(target, 'wb') as f_out:\n",
    "                shutil.copyfileobj(f_in, f_out)\n",
    "    except FileNotFoundError:\n",
    "        print(\"File not found, giving up\")"
   ]
  },
  {
   "cell_type": "code",
   "execution_count": 6,
   "metadata": {},
   "outputs": [],
   "source": [
    "def data_check(XMLfile):\n",
    "    try:\n",
    "        with open('crash_data.csv', 'r') as CD:\n",
    "            parse(XMLfile)\n",
    "    except FileNotFoundError:\n",
    "            All_Crash_Data = pd.DataFrame(columns=['Name', 'Date', 'Direction', 'Road', 'Location', 'Event'])\n",
    "            with open('crash_data.csv', 'w') as f:\n",
    "                All_Crash_Data.to_csv(f, header=True)\n",
    "            parse(XMLfile)\n"
   ]
  },
  {
   "cell_type": "code",
   "execution_count": 7,
   "metadata": {},
   "outputs": [],
   "source": [
    "def parse(XMLfile):\n",
    "    with open('crash_data.csv', 'r') as CD:\n",
    "           All_Crash_Data = pd.read_csv(CD)\n",
    "\n",
    "    dates = []\n",
    "    incident_dirs = []\n",
    "    roads = []\n",
    "    locations = []\n",
    "    names = []\n",
    "    events = []\n",
    "    \n",
    "    parsedXML = ET.parse(XMLfile)\n",
    "    root = parsedXML.getroot()\n",
    "\n",
    "    for child in root:\n",
    "\n",
    "        if child.attrib['name'] not in str(All_Crash_Data['Name']):\n",
    "            try:\n",
    "                dates.append(child.attrib['event_date'])\n",
    "            except KeyError:\n",
    "                dates.append(\"none\")\n",
    "            try:\n",
    "                names.append(str(child.attrib['name']))\n",
    "            except KeyError:\n",
    "                name.append(\"none\")\n",
    "            try:\n",
    "                incident_dirs.append(child.attrib['dir'])\n",
    "            except KeyError:\n",
    "                incident_dir.append(\"none\")\n",
    "            try:\n",
    "                roads.append(child.attrib['road'])\n",
    "            except KeyError:\n",
    "                roads.append('None')\n",
    "\n",
    "            try:\n",
    "                locations.append(child.attrib['location'])\n",
    "            except KeyError:\n",
    "                locations.append(\"none\")\n",
    "            try: \n",
    "                events.append(child.attrib['event_type'])\n",
    "            except KeyError:\n",
    "                events.append(\"none\")\n",
    "\n",
    "\n",
    "\n",
    "    DF = pd.DataFrame({\"Name\" : names,\n",
    "                       \"Date\" : dates,\n",
    "                       \"Direction\": incident_dirs,\n",
    "                       \"Road\" : roads,\n",
    "                       \"Location\" : locations,\n",
    "                       \"Event\" : events})\n",
    "    \n",
    "    print(DF)\n",
    "\n",
    "\n",
    "    with open('crash_data.csv', 'a') as f:\n",
    "        DF.to_csv(f, header=False)"
   ]
  },
  {
   "cell_type": "code",
   "execution_count": 8,
   "metadata": {},
   "outputs": [
    {
     "name": "stdout",
     "output_type": "stream",
     "text": [
      "Downloading Incident Data\n"
     ]
    }
   ],
   "source": [
    "download()"
   ]
  },
  {
   "cell_type": "code",
   "execution_count": 9,
   "metadata": {},
   "outputs": [],
   "source": [
    "unzip(\"incidents.xml.gz\", \"incident.xml\")"
   ]
  },
  {
   "cell_type": "code",
   "execution_count": 10,
   "metadata": {},
   "outputs": [
    {
     "name": "stdout",
     "output_type": "stream",
     "text": [
      "           Name                          Date Direction   Road   Location  \\\n",
      "0  L004_9940386  Sat Sep 29 18:47:12 CDT 2018        EB  I-494  @ Dodd Rd   \n",
      "\n",
      "            Event  \n",
      "0  INCIDENT_STALL  \n"
     ]
    }
   ],
   "source": [
    "data_check(\"incident.xml\")"
   ]
  },
  {
   "cell_type": "code",
   "execution_count": null,
   "metadata": {},
   "outputs": [],
   "source": []
  },
  {
   "cell_type": "code",
   "execution_count": null,
   "metadata": {},
   "outputs": [],
   "source": []
  }
 ],
 "metadata": {
  "kernelspec": {
   "display_name": "Python [conda env:PythonData]",
   "language": "python",
   "name": "conda-env-PythonData-py"
  },
  "language_info": {
   "codemirror_mode": {
    "name": "ipython",
    "version": 3
   },
   "file_extension": ".py",
   "mimetype": "text/x-python",
   "name": "python",
   "nbconvert_exporter": "python",
   "pygments_lexer": "ipython3",
   "version": "3.6.5"
  }
 },
 "nbformat": 4,
 "nbformat_minor": 2
}

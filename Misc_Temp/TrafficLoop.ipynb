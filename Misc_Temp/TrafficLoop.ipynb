{
 "cells": [
  {
   "cell_type": "code",
   "execution_count": null,
   "metadata": {},
   "outputs": [],
   "source": [
    "import time\n",
    "import os\n",
    "##https://imagemagick.org/script/download.php##\n",
    "##to convert to gif in terminal##\n"
   ]
  },
  {
   "cell_type": "code",
   "execution_count": null,
   "metadata": {},
   "outputs": [],
   "source": [
    "def Data_Request():\n",
    "    while True:\n",
    "        %run RequestData.ipynb\n",
    "        download()\n",
    "        data_check()\n",
    "        Route_Summary()\n",
    "\n",
    "        print(\"sleeping 30s\")\n",
    "        time.sleep(30)"
   ]
  },
  {
   "cell_type": "code",
   "execution_count": null,
   "metadata": {},
   "outputs": [],
   "source": [
    "def most_recent_map():\n",
    "    %run Visualization.ipynb\n",
    "    import_summary()\n",
    "    recent_data = route_df.groupby('Station').last()\n",
    "    grab_timed_data(recent_data)\n",
    "    "
   ]
  },
  {
   "cell_type": "code",
   "execution_count": null,
   "metadata": {},
   "outputs": [],
   "source": [
    "def most_recent_map_loop():\n",
    "    %run Visualization.ipynb\n",
    "    while True:\n",
    "        import_summary()\n",
    "        recent_data = route_df.groupby('Station').last()\n",
    "        grab_timed_data(recent_data)"
   ]
  },
  {
   "cell_type": "code",
   "execution_count": null,
   "metadata": {},
   "outputs": [],
   "source": [
    "          ##Request Map of specific Time# \n",
    "    ##format == \"Wed Oct 10 16:41:59 CDT 2018\"##\n",
    "def Map_Request_Timed(Timestring):\n",
    "    %run Visualization.ipynb\n",
    "    import_summary()\n",
    "    Timed_Map(Timestring)\n"
   ]
  },
  {
   "cell_type": "code",
   "execution_count": null,
   "metadata": {},
   "outputs": [],
   "source": [
    "##Daily_PNGs NB AND SB## THIS WILL TAKE SOME TIME\n",
    "def Daily_PNGs():\n",
    "    %run Visualization.ipynb\n",
    "    import_summary()\n",
    "    Daily_Visuals()\n"
   ]
  },
  {
   "cell_type": "code",
   "execution_count": null,
   "metadata": {},
   "outputs": [],
   "source": [
    "def gif_request(date):\n",
    "    ##format is oct01##\n",
    "    NBpngs = str(os.listdir(f\"Results/Maps/{date}/NB\"))\n",
    "    SBpngs = str(os.listdir(f\"Results/Maps/{date}/SB\"))\n",
    "    NBpngs = NBpngs.replace(\"'\",\"\")\n",
    "    NBpngs = NBpngs.replace(\",\",\"\")\n",
    "    SBpngs = SBpngs.replace(\"'\",\"\")\n",
    "    SBpngs = SBpngs.replace(\",\",\"\")\n",
    "    print(\"COPY THIS INTO TERMINAL AT NBpngs Folders NO BRACKETS\")\n",
    "    print(\"------------------------------------------------\")\n",
    "    print(f\"convert -loop 0 -delay 60 {NBpngs} NBMap.gif\\n\\n\")\n",
    "    print(\"COPY THIS INTO TERMINAL AT SBpngs Folders NO BRACKETS\")\n",
    "    print(\"------------------------------------------------\")\n",
    "    print(f\"convert -loop 0 -delay 60 {SBpngs} SBMap.gif\")"
   ]
  },
  {
   "cell_type": "code",
   "execution_count": null,
   "metadata": {},
   "outputs": [],
   "source": [
    "most_recent_map()\n",
    "# gif_request(\"oct10\")\n",
    "# Daily_PNGs()\n",
    "# Map_Request_Timed(\"Wed Oct 10 16:41:59 CDT 2018\")\n",
    "folium_map"
   ]
  }
 ],
 "metadata": {
  "kernelspec": {
   "display_name": "Python [default]",
   "language": "python",
   "name": "python3"
  },
  "language_info": {
   "codemirror_mode": {
    "name": "ipython",
    "version": 3
   },
   "file_extension": ".py",
   "mimetype": "text/x-python",
   "name": "python",
   "nbconvert_exporter": "python",
   "pygments_lexer": "ipython3",
   "version": "3.6.5"
  }
 },
 "nbformat": 4,
 "nbformat_minor": 2
}

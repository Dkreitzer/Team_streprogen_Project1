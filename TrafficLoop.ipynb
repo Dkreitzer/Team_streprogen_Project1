{
 "cells": [
  {
   "cell_type": "code",
   "execution_count": 33,
   "metadata": {},
   "outputs": [],
   "source": [
    "import time\n",
    "import threading\n",
    "import os\n",
    "##https://imagemagick.org/script/download.php##\n",
    "##to convert to gif in terminal##\n"
   ]
  },
  {
   "cell_type": "code",
   "execution_count": 3,
   "metadata": {},
   "outputs": [],
   "source": [
    "def Data_Request():\n",
    "    while True:\n",
    "        %run RequestData.ipynb\n",
    "        download()\n",
    "        data_check()\n",
    "        Route_Summary()\n",
    "\n",
    "        print(\"sleeping 30s\")\n",
    "        time.sleep(30)"
   ]
  },
  {
   "cell_type": "code",
   "execution_count": 34,
   "metadata": {},
   "outputs": [],
   "source": [
    "def most_recent_map():\n",
    "    %run Visualization.ipynb\n",
    "    import_summary()\n",
    "    recent_data = route_df.groupby('Station').last()\n",
    "    grab_timed_data(recent_data)\n",
    "    "
   ]
  },
  {
   "cell_type": "code",
   "execution_count": 15,
   "metadata": {},
   "outputs": [
    {
     "name": "stdout",
     "output_type": "stream",
     "text": [
      "download complete\n",
      "Incident Data Parsed\n"
     ]
    }
   ],
   "source": [
    "def most_recent_map_loop():\n",
    "    %run Visualization.ipynb\n",
    "    while True:\n",
    "        import_summary()\n",
    "        recent_data = route_df.groupby('Station').last()\n",
    "        grab_timed_data(recent_data)"
   ]
  },
  {
   "cell_type": "code",
   "execution_count": 36,
   "metadata": {},
   "outputs": [],
   "source": [
    "          ##Request Map of specific Time# \n",
    "    ##format == \"Wed Oct 10 16:41:59 CDT 2018\"##\n",
    "def Map_Request_Timed(Timestring):\n",
    "    %run Visualization.ipynb\n",
    "    import_summary()\n",
    "    Timed_Map(Timestring)\n"
   ]
  },
  {
   "cell_type": "code",
   "execution_count": 37,
   "metadata": {},
   "outputs": [],
   "source": [
    "##Daily_PNGs NB AND SB## THIS WILL TAKE SOME TIME\n",
    "def Daily_PNGs():\n",
    "    %run Visualization.ipynb\n",
    "    import_summary()\n",
    "    Daily_Visuals()\n"
   ]
  },
  {
   "cell_type": "code",
   "execution_count": 40,
   "metadata": {},
   "outputs": [
    {
     "name": "stdout",
     "output_type": "stream",
     "text": [
      "Map saved at results/maps/routemap_temp.html\n",
      "Map Converted -->> results/maps/Oct11/NB/NBroutemapOct1016_41_59\n",
      "Map saved at results/maps/routemap_temp.html\n",
      "Map Converted -->> results/maps/Oct11/SB/SBroutemapOct1016_41_59\n"
     ]
    }
   ],
   "source": [
    "\n",
    "# Daily_PNGs()\n",
    "Map_Request_Timed(\"Wed Oct 10 16:41:59 CDT 2018\")\n"
   ]
  },
  {
   "cell_type": "code",
   "execution_count": 22,
   "metadata": {},
   "outputs": [],
   "source": []
  },
  {
   "cell_type": "code",
   "execution_count": 41,
   "metadata": {},
   "outputs": [],
   "source": [
    "def gif_request(date):\n",
    "    ##format is oct01##\n",
    "    NBpngs = str(os.listdir(f\"Results/Maps/{date}/NB\"))\n",
    "    SBpngs = str(os.listdir(f\"Results/Maps/{date}/SB\"))\n",
    "    NBpngs = NBpngs.replace(\"'\",\"\")\n",
    "    NBpngs = NBpngs.replace(\",\",\"\")\n",
    "    SBpngs = SBpngs.replace(\"'\",\"\")\n",
    "    SBpngs = SBpngs.replace(\",\",\"\")\n",
    "    print(\"COPY THIS INTO TERMINAL AT NBpngs Folders NO BRACKETS\")\n",
    "    print(\"------------------------------------------------\")\n",
    "    print(f\"convert -loop 0 -delay 60 {NBpngs} NBMap.gif\\n\\n\")\n",
    "    print(\"COPY THIS INTO TERMINAL AT SBpngs Folders NO BRACKETS\")\n",
    "    print(\"------------------------------------------------\")\n",
    "    print(f\"convert -loop 0 -delay 60 {SBpngs} SBMap.gif\")"
   ]
  },
  {
   "cell_type": "code",
   "execution_count": 42,
   "metadata": {},
   "outputs": [
    {
     "name": "stdout",
     "output_type": "stream",
     "text": [
      "COPY THIS INTO TERMINAL AT NBpngs Folders NO BRACKETS\n",
      "------------------------------------------------\n",
      "convert -loop 0 -delay 60 [map.gif NBroutemapOct1016_41_59.png NBroutemapOct1016_42_29.png NBroutemapOct1016_42_59.png NBroutemapOct1016_43_29.png NBroutemapOct1016_43_59.png NBroutemapOct1016_44_59.png NBroutemapOct1016_45_29.png NBroutemapOct1016_45_59.png NBroutemapOct1016_46_29.png NBroutemapOct1016_46_59.png NBroutemapOct1016_47_29.png NBroutemapOct1016_47_59.png NBroutemapOct1016_48_29.png NBroutemapOct1016_48_59.png NBroutemapOct1016_49_29.png NBroutemapOct1016_49_59.png NBroutemapOct1016_50_29.png NBroutemapOct1016_50_59.png NBroutemapOct1016_51_29.png NBroutemapOct1016_51_59.png NBroutemapOct1016_52_29.png NBroutemapOct1016_52_59.png NBroutemapOct1016_53_29.png NBroutemapOct1016_53_59.png NBroutemapOct1016_54_29.png NBroutemapOct1016_54_59.png NBroutemapOct1016_55_29.png NBroutemapOct1016_55_59.png NBroutemapOct1016_56_29.png NBroutemapOct1016_56_59.png NBroutemapOct1016_57_29.png NBroutemapOct1016_57_59.png NBroutemapOct10_19_44_36.png NBroutemapOct10_19_56_44.png NBroutemapOct10_22_10_02.png NBroutemapOct10_22_15_06.png NBroutemapOct10_22_15_16.png NBroutemapOct10_22_15_26.png NBroutemapOct10_22_17_03.png NBroutemapOct10_22_17_18.png] NBMap.gif\n",
      "\n",
      "\n",
      "COPY THIS INTO TERMINAL AT SBpngs Folders NO BRACKETS\n",
      "------------------------------------------------\n",
      "convert -loop 0 -delay 60 [SBroutemapOct1016_41_59.png SBroutemapOct1016_42_29.png SBroutemapOct1016_42_59.png SBroutemapOct1016_43_29.png SBroutemapOct1016_43_59.png SBroutemapOct1016_44_59.png SBroutemapOct1016_45_29.png SBroutemapOct1016_45_59.png SBroutemapOct1016_46_29.png SBroutemapOct1016_46_59.png SBroutemapOct1016_47_29.png SBroutemapOct1016_47_59.png SBroutemapOct1016_48_29.png SBroutemapOct1016_48_59.png SBroutemapOct1016_49_29.png SBroutemapOct1016_49_59.png SBroutemapOct1016_50_29.png SBroutemapOct1016_50_59.png SBroutemapOct1016_51_29.png SBroutemapOct1016_51_59.png SBroutemapOct1016_52_29.png SBroutemapOct1016_52_59.png SBroutemapOct1016_53_29.png SBroutemapOct1016_53_59.png SBroutemapOct1016_54_29.png SBroutemapOct1016_54_59.png SBroutemapOct1016_55_29.png SBroutemapOct1016_55_59.png SBroutemapOct1016_56_29.png SBroutemapOct1016_56_59.png SBroutemapOct1016_57_29.png SBroutemapOct10_19_44_36.png SBroutemapOct10_19_56_44.png SBroutemapOct10_22_10_02.png SBroutemapOct10_22_15_26.png SBroutemapOct10_22_17_18.png] SBMap.gif\n"
     ]
    }
   ],
   "source": [
    "gif_request(\"oct10\")"
   ]
  },
  {
   "cell_type": "code",
   "execution_count": null,
   "metadata": {},
   "outputs": [],
   "source": []
  }
 ],
 "metadata": {
  "kernelspec": {
   "display_name": "Python [default]",
   "language": "python",
   "name": "python3"
  },
  "language_info": {
   "codemirror_mode": {
    "name": "ipython",
    "version": 3
   },
   "file_extension": ".py",
   "mimetype": "text/x-python",
   "name": "python",
   "nbconvert_exporter": "python",
   "pygments_lexer": "ipython3",
   "version": "3.6.5"
  }
 },
 "nbformat": 4,
 "nbformat_minor": 2
}

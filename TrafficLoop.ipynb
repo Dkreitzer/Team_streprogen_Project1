{
 "cells": [
  {
   "cell_type": "code",
   "execution_count": 1,
   "metadata": {},
   "outputs": [],
   "source": [
    "import time\n",
    "\n",
    "\n"
   ]
  },
  {
   "cell_type": "code",
   "execution_count": 4,
   "metadata": {},
   "outputs": [
    {
     "name": "stdout",
     "output_type": "stream",
     "text": [
      "Incident Data Parsed\n",
      "Station Data Parsed\n",
      "Summary Saved at data/Route_Summary.csv\n"
     ]
    },
    {
     "name": "stderr",
     "output_type": "stream",
     "text": [
      "C:\\Users\\xanen\\Anaconda3\\lib\\site-packages\\ipykernel\\__main__.py:29: RuntimeWarning: invalid value encountered in long_scalars\n",
      "C:\\Users\\xanen\\Anaconda3\\lib\\site-packages\\ipykernel\\__main__.py:30: RuntimeWarning: invalid value encountered in double_scalars\n"
     ]
    },
    {
     "name": "stdout",
     "output_type": "stream",
     "text": [
      "Map saved at results/maps/routemap_temp.html\n",
      " Map Converted -->> results/maps/NBroutemapOct10_1735.png\n",
      "sleeping 30s\n"
     ]
    },
    {
     "ename": "KeyboardInterrupt",
     "evalue": "",
     "output_type": "error",
     "traceback": [
      "\u001b[1;31m---------------------------------------------------------------------------\u001b[0m",
      "\u001b[1;31mKeyboardInterrupt\u001b[0m                         Traceback (most recent call last)",
      "\u001b[1;32m<ipython-input-4-ba5898814c0e>\u001b[0m in \u001b[0;36m<module>\u001b[1;34m()\u001b[0m\n\u001b[0;32m     11\u001b[0m     \u001b[0mconvert_to_png\u001b[0m\u001b[1;33m(\u001b[0m\u001b[1;34m'NB'\u001b[0m\u001b[1;33m)\u001b[0m\u001b[1;33m\u001b[0m\u001b[0m\n\u001b[0;32m     12\u001b[0m     \u001b[0mprint\u001b[0m\u001b[1;33m(\u001b[0m\u001b[1;34m\"sleeping 30s\"\u001b[0m\u001b[1;33m)\u001b[0m\u001b[1;33m\u001b[0m\u001b[0m\n\u001b[1;32m---> 13\u001b[1;33m     \u001b[0mtime\u001b[0m\u001b[1;33m.\u001b[0m\u001b[0msleep\u001b[0m\u001b[1;33m(\u001b[0m\u001b[1;36m30\u001b[0m\u001b[1;33m)\u001b[0m\u001b[1;33m\u001b[0m\u001b[0m\n\u001b[0m",
      "\u001b[1;31mKeyboardInterrupt\u001b[0m: "
     ]
    }
   ],
   "source": [
    "while True:\n",
    "    %run RequestData.ipynb\n",
    "    download()\n",
    "    data_check()\n",
    "    Route_Summary()\n",
    "  \n",
    "    print(\"sleeping 30s\")\n",
    "    time.sleep(30)"
   ]
  },
  {
   "cell_type": "code",
   "execution_count": 18,
   "metadata": {},
   "outputs": [],
   "source": [
    "%run Visualization.ipynb\n",
    "import_summary()\n",
    "# Timed_Map(\"Wed Oct 10 16:41:59 CDT 2018\")\n"
   ]
  },
  {
   "cell_type": "code",
   "execution_count": null,
   "metadata": {},
   "outputs": [
    {
     "name": "stdout",
     "output_type": "stream",
     "text": [
      "Starting Visualization at Oct10_19_44_36\n",
      "Map saved at results/maps/routemap_temp.html\n",
      " Map Converted -->> results/maps/Oct10/NBroutemapOct10_19_44_36\n",
      "Map saved at results/maps/routemap_temp.html\n",
      " Map Converted -->> results/maps/Oct10/SBroutemapOct10_19_44_36\n",
      "Map saved at results/maps/routemap_temp.html\n",
      " Map Converted -->> results/maps/Oct10/NBroutemapOct10_19_44_36\n",
      "Map saved at results/maps/routemap_temp.html\n",
      " Map Converted -->> results/maps/Oct10/SBroutemapOct10_19_44_36\n",
      "Map saved at results/maps/routemap_temp.html\n"
     ]
    }
   ],
   "source": [
    "##Daily_PNGs NB AND SB## THIS WILL TAKE SOME TIME\n",
    "%run Visualization.ipynb\n",
    "import_summary()\n",
    "Daily_Visuals()\n"
   ]
  },
  {
   "cell_type": "code",
   "execution_count": null,
   "metadata": {},
   "outputs": [],
   "source": []
  }
 ],
 "metadata": {
  "kernelspec": {
   "display_name": "Python [default]",
   "language": "python",
   "name": "python3"
  },
  "language_info": {
   "codemirror_mode": {
    "name": "ipython",
    "version": 3
   },
   "file_extension": ".py",
   "mimetype": "text/x-python",
   "name": "python",
   "nbconvert_exporter": "python",
   "pygments_lexer": "ipython3",
   "version": "3.6.5"
  }
 },
 "nbformat": 4,
 "nbformat_minor": 2
}

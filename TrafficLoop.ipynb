{
 "cells": [
  {
   "cell_type": "code",
   "execution_count": null,
   "metadata": {},
   "outputs": [],
   "source": [
    "import time\n",
    "\n",
    "\n"
   ]
  },
  {
   "cell_type": "code",
   "execution_count": null,
   "metadata": {},
   "outputs": [],
   "source": [
    "while True:\n",
    "    %run RequestData.ipynb\n",
    "    download()\n",
    "    data_check()\n",
    "    Route_Summary()\n",
    "  \n",
    "    print(\"sleeping 30s\")\n",
    "    time.sleep(30)"
   ]
  },
  {
   "cell_type": "code",
   "execution_count": null,
   "metadata": {},
   "outputs": [],
   "source": [
    "##Request Map of specific Time#\n",
    "%run Visualization.ipynb\n",
    "import_summary()\n",
    "Timed_Map(\"Wed Oct 10 16:41:59 CDT 2018\")\n"
   ]
  },
  {
   "cell_type": "code",
   "execution_count": null,
   "metadata": {},
   "outputs": [],
   "source": [
    "##Daily_PNGs NB AND SB## THIS WILL TAKE SOME TIME\n",
    "%run Visualization.ipynb\n",
    "import_summary();\n",
    "Daily_Visuals();\n"
   ]
  },
  {
   "cell_type": "code",
   "execution_count": null,
   "metadata": {},
   "outputs": [],
   "source": [
    "def send_email_from_Heroku():\n",
    "    from  send_email_with_attachments import send_an_email\n",
    "    while True:\n",
    "        filename=\"./Data/Route_Summary.csv\"\n",
    "        send_an_email(file_name,subject=\"Route_Summary.csv\",\\\n",
    "                body='from Python!')\n",
    "        filename=\"./Data/crash_data.csv\"\n",
    "        send_an_email(file_name,subject=\"sending email with attachments\",\\\n",
    "                body='from Python!')\n",
    "    return None"
   ]
  },
  {
   "cell_type": "code",
   "execution_count": 2,
   "metadata": {},
   "outputs": [
    {
     "data": {
      "text/plain": [
       "'Route_Summary.csv'"
      ]
     },
     "execution_count": 2,
     "metadata": {},
     "output_type": "execute_result"
    }
   ],
   "source": [
    "filename=\"./Data/Route_Summary.csv\"\n",
    "filename.split(\"/\")[-1]"
   ]
  },
  {
   "cell_type": "code",
   "execution_count": null,
   "metadata": {},
   "outputs": [],
   "source": []
  }
 ],
 "metadata": {
  "kernelspec": {
   "display_name": "Python [default]",
   "language": "python",
   "name": "python3"
  },
  "language_info": {
   "codemirror_mode": {
    "name": "ipython",
    "version": 3
   },
   "file_extension": ".py",
   "mimetype": "text/x-python",
   "name": "python",
   "nbconvert_exporter": "python",
   "pygments_lexer": "ipython3",
   "version": "3.6.5"
  }
 },
 "nbformat": 4,
 "nbformat_minor": 2
}

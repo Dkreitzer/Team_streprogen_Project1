{
 "cells": [
  {
   "cell_type": "code",
   "execution_count": 95,
   "metadata": {},
   "outputs": [],
   "source": [
    "##############\n",
    "#Dependencies#\n",
    "##############\n",
    "%matplotlib inline\n",
    "\n",
    "import pandas\n",
    "import gmaps\n",
    "from config import (gkey, \n",
    "#                     route)\n",
    "                   )"
   ]
  },
  {
   "cell_type": "code",
   "execution_count": 96,
   "metadata": {},
   "outputs": [],
   "source": [
    "gmaps.configure(api_key=gkey)"
   ]
  },
  {
   "cell_type": "code",
   "execution_count": 169,
   "metadata": {},
   "outputs": [
    {
     "data": {
      "text/html": [
       "<div>\n",
       "<style scoped>\n",
       "    .dataframe tbody tr th:only-of-type {\n",
       "        vertical-align: middle;\n",
       "    }\n",
       "\n",
       "    .dataframe tbody tr th {\n",
       "        vertical-align: top;\n",
       "    }\n",
       "\n",
       "    .dataframe thead th {\n",
       "        text-align: right;\n",
       "    }\n",
       "</style>\n",
       "<table border=\"1\" class=\"dataframe\">\n",
       "  <thead>\n",
       "    <tr style=\"text-align: right;\">\n",
       "      <th></th>\n",
       "      <th>Station.1</th>\n",
       "      <th>Time</th>\n",
       "      <th>Occupancy</th>\n",
       "      <th>Speed</th>\n",
       "      <th>Flow</th>\n",
       "    </tr>\n",
       "    <tr>\n",
       "      <th>Station</th>\n",
       "      <th></th>\n",
       "      <th></th>\n",
       "      <th></th>\n",
       "      <th></th>\n",
       "      <th></th>\n",
       "    </tr>\n",
       "  </thead>\n",
       "  <tbody>\n",
       "    <tr>\n",
       "      <th>S567</th>\n",
       "      <td>NaN</td>\n",
       "      <td>Wed Oct 03 01:16:59 CDT 2018</td>\n",
       "      <td>0.31</td>\n",
       "      <td>54</td>\n",
       "      <td>NaN</td>\n",
       "    </tr>\n",
       "    <tr>\n",
       "      <th>S567</th>\n",
       "      <td>NaN</td>\n",
       "      <td>Wed Oct 03 01:16:59 CDT 2018</td>\n",
       "      <td>0.31</td>\n",
       "      <td>54</td>\n",
       "      <td>NaN</td>\n",
       "    </tr>\n",
       "    <tr>\n",
       "      <th>S567</th>\n",
       "      <td>NaN</td>\n",
       "      <td>Sat Oct 06 19:03:29 CDT 2018</td>\n",
       "      <td>3.54</td>\n",
       "      <td>67</td>\n",
       "      <td>520</td>\n",
       "    </tr>\n",
       "    <tr>\n",
       "      <th>S567</th>\n",
       "      <td>NaN</td>\n",
       "      <td>Sat Oct 06 19:03:29 CDT 2018</td>\n",
       "      <td>3.54</td>\n",
       "      <td>67</td>\n",
       "      <td>520</td>\n",
       "    </tr>\n",
       "    <tr>\n",
       "      <th>S567</th>\n",
       "      <td>NaN</td>\n",
       "      <td>Sat Oct 06 19:32:29 CDT 2018</td>\n",
       "      <td>5.91</td>\n",
       "      <td>65</td>\n",
       "      <td>840</td>\n",
       "    </tr>\n",
       "  </tbody>\n",
       "</table>\n",
       "</div>"
      ],
      "text/plain": [
       "         Station.1                          Time Occupancy Speed Flow\n",
       "Station                                                              \n",
       "S567           NaN  Wed Oct 03 01:16:59 CDT 2018      0.31    54  NaN\n",
       "S567           NaN  Wed Oct 03 01:16:59 CDT 2018      0.31    54  NaN\n",
       "S567           NaN  Sat Oct 06 19:03:29 CDT 2018      3.54    67  520\n",
       "S567           NaN  Sat Oct 06 19:03:29 CDT 2018      3.54    67  520\n",
       "S567           NaN  Sat Oct 06 19:32:29 CDT 2018      5.91    65  840"
      ]
     },
     "execution_count": 169,
     "metadata": {},
     "output_type": "execute_result"
    }
   ],
   "source": [
    "route = ['S567','S583','S568','S582','S569','S570','S581',\n",
    "'S580','S571','S579','S572','S578','S573',\"S577\",\"S587\"]\n",
    "station_df = pandas.read_csv('data/station_config.csv')\n",
    "route_df= pandas.read_csv('data/route_summary.csv')\n",
    "station_df = station_df.set_index(\"Station\")\n",
    "route_df = route_df.set_index(\"Station\")\n",
    "route_df.head()"
   ]
  },
  {
   "cell_type": "code",
   "execution_count": 193,
   "metadata": {},
   "outputs": [],
   "source": [
    "\n",
    "Results = {}\n",
    "\n",
    "\n",
    "locations = []\n",
    "\n",
    "for station in route:\n",
    "        Flow =  route_df.loc[station,'Flow'].tail(1)[0]\n",
    "        Speed = route_df.loc[station,'Speed'].tail(1)[0]\n",
    "\n",
    "        Max_Flow = route_df.loc[station,'Flow'].dropna()\n",
    "        Max_Flow = max(Max_Flow.values)\n",
    "        Max_Speed = route_df.loc[station,'Speed'].dropna()\n",
    "        Max_Speed = max(Max_Speed.values)\n",
    "        \n",
    "        lat, lon = station_df.loc[station, ['Lat', 'Lng']]\n",
    "        locations.append((lat, lon))\n",
    "\n",
    "        Results[station] = {\n",
    "           \"Current\": {\"Speed\" : Speed,\"Flow\" : Flow},\n",
    "           \"Max\": {\"Speed\" : Speed, \"Flow\" : Flow},\n",
    "            \"Lat\":lat, \n",
    "            \"Lon\":lon}"
   ]
  },
  {
   "cell_type": "code",
   "execution_count": 194,
   "metadata": {},
   "outputs": [
    {
     "data": {
      "text/plain": [
       "{'S567': {'Current': {'Speed': '61', 'Flow': '880'},\n",
       "  'Max': {'Speed': '61', 'Flow': '880'},\n",
       "  'Lat': 44.974470000000004,\n",
       "  'Lon': -93.2487},\n",
       " 'S583': {'Current': {'Speed': '64', 'Flow': '630'},\n",
       "  'Max': {'Speed': '64', 'Flow': '630'},\n",
       "  'Lat': 44.98175,\n",
       "  'Lon': -93.24396999999999},\n",
       " 'S568': {'Current': {'Speed': '47', 'Flow': '720'},\n",
       "  'Max': {'Speed': '47', 'Flow': '720'},\n",
       "  'Lat': 44.983990000000006,\n",
       "  'Lon': -93.24197},\n",
       " 'S582': {'Current': {'Speed': '81', 'Flow': '1160'},\n",
       "  'Max': {'Speed': '81', 'Flow': '1160'},\n",
       "  'Lat': 44.99115,\n",
       "  'Lon': -93.23659},\n",
       " 'S569': {'Current': {'Speed': '75', 'Flow': '780'},\n",
       "  'Max': {'Speed': '75', 'Flow': '780'},\n",
       "  'Lat': 44.99116,\n",
       "  'Lon': -93.23629},\n",
       " 'S570': {'Current': {'Speed': '76', 'Flow': '600'},\n",
       "  'Max': {'Speed': '76', 'Flow': '600'},\n",
       "  'Lat': 44.99644,\n",
       "  'Lon': -93.23823},\n",
       " 'S581': {'Current': {'Speed': '69', 'Flow': '1040'},\n",
       "  'Max': {'Speed': '69', 'Flow': '1040'},\n",
       "  'Lat': 44.99646,\n",
       "  'Lon': -93.23853000000001},\n",
       " 'S580': {'Current': {'Speed': 'UNKNOWN', 'Flow': 'UNKNOWN'},\n",
       "  'Max': {'Speed': 'UNKNOWN', 'Flow': 'UNKNOWN'},\n",
       "  'Lat': 45.00273,\n",
       "  'Lon': -93.23333000000001},\n",
       " 'S571': {'Current': {'Speed': '61', 'Flow': '600'},\n",
       "  'Max': {'Speed': '61', 'Flow': '600'},\n",
       "  'Lat': 45.00199,\n",
       "  'Lon': -93.23465},\n",
       " 'S579': {'Current': {'Speed': '74', 'Flow': '800'},\n",
       "  'Max': {'Speed': '74', 'Flow': '800'},\n",
       "  'Lat': 45.00091,\n",
       "  'Lon': -93.22346},\n",
       " 'S572': {'Current': {'Speed': '65', 'Flow': '600'},\n",
       "  'Max': {'Speed': '65', 'Flow': '600'},\n",
       "  'Lat': 45.0007,\n",
       "  'Lon': -93.22349},\n",
       " 'S578': {'Current': {'Speed': '56', 'Flow': '640'},\n",
       "  'Max': {'Speed': '56', 'Flow': '640'},\n",
       "  'Lat': 45.00302,\n",
       "  'Lon': -93.21486999999999},\n",
       " 'S573': {'Current': {'Speed': '55', 'Flow': '480'},\n",
       "  'Max': {'Speed': '55', 'Flow': '480'},\n",
       "  'Lat': 45.00515,\n",
       "  'Lon': -93.20947},\n",
       " 'S577': {'Current': {'Speed': '67', 'Flow': '800'},\n",
       "  'Max': {'Speed': '67', 'Flow': '800'},\n",
       "  'Lat': 45.01014,\n",
       "  'Lon': -93.2004},\n",
       " 'S587': {'Current': {'Speed': '55', 'Flow': '420'},\n",
       "  'Max': {'Speed': '55', 'Flow': '420'},\n",
       "  'Lat': 45.00891,\n",
       "  'Lon': -93.20233}}"
      ]
     },
     "execution_count": 194,
     "metadata": {},
     "output_type": "execute_result"
    }
   ],
   "source": [
    "Results"
   ]
  },
  {
   "cell_type": "code",
   "execution_count": null,
   "metadata": {},
   "outputs": [],
   "source": []
  },
  {
   "cell_type": "code",
   "execution_count": null,
   "metadata": {},
   "outputs": [],
   "source": []
  },
  {
   "cell_type": "code",
   "execution_count": 196,
   "metadata": {},
   "outputs": [
    {
     "data": {
      "application/vnd.jupyter.widget-view+json": {
       "model_id": "f1917e46c8d04399b651da77867d5f7f",
       "version_major": 2,
       "version_minor": 0
      },
      "text/plain": [
       "Figure(layout=FigureLayout(height='420px'))"
      ]
     },
     "metadata": {},
     "output_type": "display_data"
    }
   ],
   "source": [
    "# Create bank symbol layer\n",
    "fig = gmaps.figure()\n",
    "\n",
    "station_layer = gmaps.symbol_layer(locations)\n",
    "\n",
    "fig.add_layer(station_layer)\n",
    "\n",
    "fig"
   ]
  },
  {
   "cell_type": "code",
   "execution_count": 183,
   "metadata": {},
   "outputs": [
    {
     "data": {
      "text/plain": [
       "array(['520', '520', '840', '840', '840', '1000', '800', '880', '1080',\n",
       "       '1040', '680', '1160', '960', '960', '880', '880', '880', '480',\n",
       "       '1080', '1080', '1080', '1160', '920', '800', '1240', '1240',\n",
       "       '440', '1040', '840', '840', '720', '640', '600', '600', '760',\n",
       "       '1200', '480', '480', '680', '920', '800', '920', '1040', '720',\n",
       "       '1160', '720', '640', '360', '680', '840', '840', '640', '760',\n",
       "       '760', '760', '1160', '1160', '520', '520', '520', '840', '840',\n",
       "       '840', '1000', '800', '880', '1080', '1040', '680', '1160', '960',\n",
       "       '960', '880', '880', '880', '480', '1080', '1080', '1080', '1160',\n",
       "       '920', '800', '1240', '1240', '440', '1040', '840', '840', '720',\n",
       "       '640', '600', '600', '760', '1200', '480', '480', '680', '920',\n",
       "       '800', '920', '1040', '720', '1160', '720', '640', '360', '680',\n",
       "       '840', '840', '640', '760', '760', '760', '1160', '1160', '520',\n",
       "       '520', '520', '520', '840', '840', '840', '1000', '800', '880',\n",
       "       '1080', '1040', '680', '1160', '960', '960', '880', '880', '880',\n",
       "       '480', '1080', '1080', '1080', '1160', '920', '800', '1240',\n",
       "       '1240', '440', '1040', '840', '840', '720', '640', '600', '600',\n",
       "       '760', '1200', '480', '480', '680', '920', '800', '920', '1040',\n",
       "       '720', '1160', '720', '640', '360', '680', '840', '840', '640',\n",
       "       '760', '760', '760', '1160', '1160', '520', '520', '880'],\n",
       "      dtype=object)"
      ]
     },
     "execution_count": 183,
     "metadata": {},
     "output_type": "execute_result"
    }
   ],
   "source": []
  },
  {
   "cell_type": "raw",
   "metadata": {},
   "source": []
  }
 ],
 "metadata": {
  "kernelspec": {
   "display_name": "Python [default]",
   "language": "python",
   "name": "python3"
  },
  "language_info": {
   "codemirror_mode": {
    "name": "ipython",
    "version": 3
   },
   "file_extension": ".py",
   "mimetype": "text/x-python",
   "name": "python",
   "nbconvert_exporter": "python",
   "pygments_lexer": "ipython3",
   "version": "3.6.5"
  }
 },
 "nbformat": 4,
 "nbformat_minor": 2
}

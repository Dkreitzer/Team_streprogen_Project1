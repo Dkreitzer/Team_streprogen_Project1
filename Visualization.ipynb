{
 "cells": [
  {
   "cell_type": "code",
   "execution_count": 1,
   "metadata": {},
   "outputs": [],
   "source": [
    "##############\n",
    "#Dependencies#\n",
    "##############\n",
    "%matplotlib notebook\n",
    "from selenium import webdriver\n",
    "from datetime import datetime\n",
    "import pandas\n",
    "import os\n",
    "import numpy as np\n",
    "import time\n",
    "import folium\n"
   ]
  },
  {
   "cell_type": "code",
   "execution_count": 22,
   "metadata": {},
   "outputs": [],
   "source": [
    "def import_summary():\n",
    "    global route_df\n",
    "    global Times\n",
    "    route_df= pandas.read_csv('Data/route_summary.csv')\n",
    "    route_df = route_df.drop_duplicates()\n",
    "    route_df = route_df.set_index(\"Station\")\n",
    "    route_df= route_df.fillna(0)\n",
    "    route_df = route_df.drop(\"Unnamed: 0\", axis=1)\n",
    "    Times = np.unique(route_df[\"Time\"])\n",
    "    try:\n",
    "        os.mkdir(f'Results/maps/{datetime.now().strftime(\"%b%d\")}')\n",
    "    except FileExistsError:\n",
    "        pass"
   ]
  },
  {
   "cell_type": "code",
   "execution_count": 16,
   "metadata": {},
   "outputs": [],
   "source": [
    "def Daily_Visuals():\n",
    "    start_time = datetime.now().strftime(\"%b%d_%H_%M_%S\")\n",
    "    print(f\"Starting Visualization at {start_time}\")\n",
    "    for time in Times:\n",
    "        Timed_Map(time)\n",
    "    end_time = datetime.now().strftime(\"%b%d_%H_%M_%S\")\n",
    "    print(f\"Visualization completed at {end_time}\")\n",
    "    print(f\"It took {end_time} - {start_time} to complete\")\n",
    "    \n",
    "    \n"
   ]
  },
  {
   "cell_type": "code",
   "execution_count": 4,
   "metadata": {},
   "outputs": [],
   "source": [
    "def Timed_Map(Datetimestring):\n",
    "    route_timed = route_df.reset_index().set_index([\"Time\"])\n",
    "    route_timed = route_timed.loc[[Datetimestring]]\n",
    "    route_timed = route_timed.reset_index().set_index([\"Station\"])\n",
    "    grab_timed_data(route_timed)\n",
    "    \n",
    "    "
   ]
  },
  {
   "cell_type": "code",
   "execution_count": 12,
   "metadata": {},
   "outputs": [],
   "source": [
    "def grab_timed_data(DataFrame):\n",
    "    global Results_List\n",
    "    route = DataFrame.groupby('Station').head(1).index.values\n",
    "    Results = {}\n",
    "\n",
    "    for station in route:\n",
    "        try:\n",
    "            Flow =  float(DataFrame.loc[station,'Flow'])\n",
    "            Speed = int(DataFrame.loc[station,'Speed'])\n",
    "            Lng =DataFrame.loc[station,'Lng']\n",
    "            Lat = DataFrame.loc[station,'Lat']\n",
    "            Order = DataFrame.loc[station,'Order'].astype(dtype=\"int\")\n",
    "            Heading = DataFrame.loc[station,'Heading']\n",
    "        \n",
    "\n",
    "\n",
    "\n",
    "            Results.update({station : {'Station' :station,\n",
    "                \"Heading\" : Heading,\n",
    "                \"Order\" : Order,\n",
    "                \"Current Speed\" : Speed,\n",
    "                \"Current Flow\" : Flow,\n",
    "        \n",
    "                \"Lat\":Lat, \n",
    "                \"Lng\":Lng}})\n",
    "\n",
    "\n",
    "        except ValueError as v:\n",
    "            print(f\"{station} {v}\")\n",
    "    Results = pandas.DataFrame(Results).T\n",
    "    Results = Results.sort_values(['Heading', 'Order'])\n",
    "    Results = Results.set_index(['Heading', 'Order'], drop=True)\n",
    "    Results.head()\n",
    "    ResultsNB = Results.xs('NB', level='Heading')\n",
    "    ResultsSB = Results.xs('NB', level='Heading')\n",
    "    Results_List= {\"NB\":ResultsNB,\"SB\":ResultsSB}\n",
    "    mapping()"
   ]
  },
  {
   "cell_type": "code",
   "execution_count": 24,
   "metadata": {},
   "outputs": [],
   "source": [
    "def mapping():\n",
    "            \n",
    "    global folium_map\n",
    "    for result in Results_List:\n",
    "\n",
    "        x = int(len(Results_List[result]['Station']) / 2)\n",
    "\n",
    "        folium_map = folium.Map((Results_List[result].iloc[x, 2],ResultsNB.iloc[x,3]),\n",
    "\n",
    "                                zoom_start=11,\n",
    "                                 tiles=\"CartoDB positron\")\n",
    "        Features = []\n",
    "        Last_Sensor = []\n",
    "        for index, row in Results_List[result].iterrows():\n",
    "            if row['Current Speed'] < 15:\n",
    "                color = \"#ff0000\"\n",
    "            elif row['Current Speed'] >= 15 and row['Current Speed'] < 30:\n",
    "                color =  \"#ffa500\"\n",
    "            elif row['Current Speed'] >= 30 and row['Current Speed'] < 55:\n",
    "                color = \"#ffff00\"\n",
    "            else:\n",
    "                color = \"#008000\"\n",
    "\n",
    "            weight = row['Current Flow'] / 200\n",
    "            if row['Current Flow'] == 0:\n",
    "                weight = 1\n",
    "                color = \"#808080\"\n",
    "\n",
    "\n",
    "\n",
    "\n",
    "            Current_Sensor = (row['Lat'], row['Lng'])\n",
    "\n",
    "            if Last_Sensor == [] :\n",
    "                Last_Sensor = (row['Lat'], row['Lng'])\n",
    "            else:\n",
    "                if row['Current Flow'] != 0:\n",
    "                    weight = row['Current Flow'] / 200\n",
    "\n",
    "                folium.PolyLine([Current_Sensor,Last_Sensor],\n",
    "                 weight=weight,color=color,\n",
    "                                popup=f\"Time:{timenow} Speed:{row['Current Speed']} Flow: {row['Current Flow']}\").add_to(folium_map)\n",
    "\n",
    "                Last_Sensor = (row['Lat'], row['Lng'])\n",
    "\n",
    "            folium.CircleMarker(location=(Current_Sensor),\n",
    "                                radius=3,\n",
    "                                popup=(\"station =\"  + row['Station']), fill=False).add_to(folium_map)\n",
    "\n",
    "        folium_map.save(f\"results/maps/routemap_temp.html\")\n",
    "        print(f'Map saved at results/maps/routemap_temp.html')\n",
    "        delay=7\n",
    "        fn=f'results/maps/routemap_temp.html'\n",
    "        tmpurl='file://{path}/{mapfile}'.format(path=os.getcwd(),mapfile=fn)\n",
    "\n",
    "        browser = webdriver.Firefox()\n",
    "        browser.get(tmpurl)\n",
    "        #Give the map tiles some time to load\n",
    "        time.sleep(delay)\n",
    "        browser.save_screenshot(f'results/maps/{datetime.now().strftime(\"%b%d\")}/{result}routemap{timenow}.png')\n",
    "        browser.quit()\n",
    "        print(f' Map Converted -->> results/maps/{datetime.now().strftime(\"%b%d\")}/{result}routemap{timenow}')\n",
    "    "
   ]
  },
  {
   "cell_type": "code",
   "execution_count": 10,
   "metadata": {},
   "outputs": [],
   "source": [
    "timenow = datetime.now().strftime(\"%b%d_%H_%M_%S\")"
   ]
  },
  {
   "cell_type": "code",
   "execution_count": 11,
   "metadata": {},
   "outputs": [
    {
     "data": {
      "text/plain": [
       "'Oct10_19_30_38'"
      ]
     },
     "execution_count": 11,
     "metadata": {},
     "output_type": "execute_result"
    }
   ],
   "source": []
  },
  {
   "cell_type": "code",
   "execution_count": null,
   "metadata": {},
   "outputs": [],
   "source": []
  }
 ],
 "metadata": {
  "kernelspec": {
   "display_name": "Python [default]",
   "language": "python",
   "name": "python3"
  },
  "language_info": {
   "codemirror_mode": {
    "name": "ipython",
    "version": 3
   },
   "file_extension": ".py",
   "mimetype": "text/x-python",
   "name": "python",
   "nbconvert_exporter": "python",
   "pygments_lexer": "ipython3",
   "version": "3.6.5"
  }
 },
 "nbformat": 4,
 "nbformat_minor": 2
}
